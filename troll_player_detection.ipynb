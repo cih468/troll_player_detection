{
 "metadata": {
  "language_info": {
   "codemirror_mode": {
    "name": "ipython",
    "version": 3
   },
   "file_extension": ".py",
   "mimetype": "text/x-python",
   "name": "python",
   "nbconvert_exporter": "python",
   "pygments_lexer": "ipython3",
   "version": "3.5.3-final"
  },
  "orig_nbformat": 2,
  "kernelspec": {
   "name": "python3",
   "display_name": "Python 3.5.3 64-bit",
   "metadata": {
    "interpreter": {
     "hash": "b2ecc127125b00f058fdb4db54103688c722893d98cac6055456d9c40bb1a09b"
    }
   }
  }
 },
 "nbformat": 4,
 "nbformat_minor": 2,
 "cells": [
  {
   "cell_type": "code",
   "execution_count": 6,
   "metadata": {},
   "outputs": [],
   "source": [
    "#pip install tqdm\n",
    "#!pip install -U scikit-learn\n",
    "#!pip install seaborn"
   ]
  },
  {
   "cell_type": "code",
   "execution_count": 1,
   "metadata": {},
   "outputs": [],
   "source": [
    "import requests\n",
    "import urllib.request\n",
    "from tqdm import tqdm\n",
    "import json\n",
    "from matplotlib import pyplot as plt\n",
    "import numpy as np\n",
    "import pandas as pd\n",
    "import sklearn\n",
    "\n",
    "gameNum = 10000\n",
    "\n",
    "#url = 'https://opgg-data-analytics.s3.ap-northeast-2.amazonaws.com/recruit/20200910/lol_kr_v1018_soloRank.json'\n"
   ]
  },
  {
   "cell_type": "code",
   "execution_count": 3,
   "metadata": {},
   "outputs": [],
   "source": [
    "#response = urllib.request.urlopen(url)"
   ]
  },
  {
   "cell_type": "code",
   "execution_count": 4,
   "metadata": {},
   "outputs": [],
   "source": [
    "#urllib.request.urlretrieve(url,'opggData')"
   ]
  },
  {
   "cell_type": "code",
   "execution_count": 2,
   "metadata": {},
   "outputs": [
    {
     "output_type": "stream",
     "name": "stderr",
     "text": [
      "9999it [00:13, 756.24it/s]\n"
     ]
    }
   ],
   "source": [
    "data = []\n",
    "iter = 0\n",
    "for line in tqdm(open('opggData', 'r')):\n",
    "    data.append(json.loads(line))\n",
    "    iter+=1\n",
    "    if iter==gameNum:\n",
    "        break"
   ]
  },
  {
   "cell_type": "code",
   "execution_count": 3,
   "metadata": {},
   "outputs": [
    {
     "output_type": "execute_result",
     "data": {
      "text/plain": [
       "dict_keys(['teams', 'gameid', 'queueid', 'gameversion', 'gametype', 'platformid', 'participantidentities', 'seasonid', 'mapid', 'gameduration', 'gamemode', 'gamecreation', 'participants', 'participantextendedstats'])"
      ]
     },
     "metadata": {},
     "execution_count": 3
    }
   ],
   "source": [
    "data[0].keys()"
   ]
  },
  {
   "cell_type": "code",
   "execution_count": 7,
   "metadata": {},
   "outputs": [
    {
     "output_type": "execute_result",
     "data": {
      "text/plain": [
       "'PF7wuKbEjIH7bUEivDRsJbiah9EF9EzRPO-LFLucLai7avA'"
      ]
     },
     "metadata": {},
     "execution_count": 7
    }
   ],
   "source": [
    "data[0]['participantidentities'][0]['player']['summonerid']"
   ]
  },
  {
   "cell_type": "code",
   "execution_count": 4,
   "metadata": {},
   "outputs": [
    {
     "output_type": "execute_result",
     "data": {
      "text/plain": [
       "1599158094"
      ]
     },
     "metadata": {},
     "execution_count": 4
    }
   ],
   "source": [
    "data[0]['gamecreation']"
   ]
  },
  {
   "cell_type": "code",
   "execution_count": 8,
   "metadata": {},
   "outputs": [],
   "source": [
    "#선택한 포지션\n",
    "# for i in range(10) :\n",
    "#     if i%5==0 :\n",
    "#         print()\n",
    "#     print(data[1]['participantextendedstats'][i]['position'])"
   ]
  },
  {
   "cell_type": "code",
   "execution_count": 9,
   "metadata": {},
   "outputs": [],
   "source": [
    "#타임라인에 따른 포지션\n",
    "#for i in range(0,10) :\n",
    "#    if i==5 :\n",
    "#        print()\n",
    "#    print(data[1]['participants'][i]['timeline']['lane'])"
   ]
  },
  {
   "cell_type": "code",
   "execution_count": 10,
   "metadata": {},
   "outputs": [
    {
     "output_type": "execute_result",
     "data": {
      "text/plain": [
       "\"\\nfor i in range(10):\\n    if i%5==0 :\\n        print()\\n    print(championDict[data[1]['participants'][i]['championid']])\\n\""
      ]
     },
     "metadata": {},
     "execution_count": 10
    }
   ],
   "source": [
    "'''\n",
    "for i in range(10):\n",
    "    if i%5==0 :\n",
    "        print()\n",
    "    print(championDict[data[1]['participants'][i]['championid']])\n",
    "'''"
   ]
  },
  {
   "cell_type": "code",
   "execution_count": 11,
   "metadata": {},
   "outputs": [],
   "source": [
    "#data[0]['teams'][0]['bans']"
   ]
  },
  {
   "cell_type": "code",
   "execution_count": 12,
   "metadata": {},
   "outputs": [],
   "source": [
    "#data[0]['participants'][0].keys()"
   ]
  },
  {
   "cell_type": "code",
   "execution_count": 13,
   "metadata": {},
   "outputs": [],
   "source": [
    "itemURL = 'http://ddragon.leagueoflegends.com/cdn/10.18.1/data/en_US/item.json'\n",
    "request = requests.get(itemURL)\n",
    "itemData = request.json()"
   ]
  },
  {
   "cell_type": "code",
   "execution_count": 14,
   "metadata": {},
   "outputs": [],
   "source": [
    "itemDict = {}\n",
    "for i_name in itemData['data'].keys() :\n",
    "    itemDict[int(i_name)]=itemData['data'][i_name]['name']"
   ]
  },
  {
   "cell_type": "code",
   "execution_count": 15,
   "metadata": {},
   "outputs": [
    {
     "output_type": "execute_result",
     "data": {
      "text/plain": [
       "\"Executioner's Calling\""
      ]
     },
     "metadata": {},
     "execution_count": 15
    }
   ],
   "source": [
    "itemDict[3123]"
   ]
  },
  {
   "cell_type": "code",
   "execution_count": 16,
   "metadata": {},
   "outputs": [],
   "source": [
    "championURL = 'http://ddragon.leagueoflegends.com/cdn/10.23.1/data/en_US/champion.json'\n",
    "request = requests.get(championURL)"
   ]
  },
  {
   "cell_type": "code",
   "execution_count": 17,
   "metadata": {},
   "outputs": [
    {
     "output_type": "execute_result",
     "data": {
      "text/plain": [
       "dict_keys(['format', 'type', 'version', 'data'])"
      ]
     },
     "metadata": {},
     "execution_count": 17
    }
   ],
   "source": [
    "championData = request.json()\n",
    "request.json().keys()"
   ]
  },
  {
   "cell_type": "code",
   "execution_count": 18,
   "metadata": {},
   "outputs": [],
   "source": [
    "championDict = {}\n",
    "for c_name in championData['data'].keys() :\n",
    "    championDict[int(championData['data'][c_name]['key'])]=c_name"
   ]
  },
  {
   "cell_type": "code",
   "execution_count": 19,
   "metadata": {},
   "outputs": [
    {
     "output_type": "execute_result",
     "data": {
      "text/plain": [
       "'Renekton'"
      ]
     },
     "metadata": {},
     "execution_count": 19
    }
   ],
   "source": [
    "championDict[58]"
   ]
  },
  {
   "cell_type": "code",
   "execution_count": 20,
   "metadata": {},
   "outputs": [
    {
     "output_type": "execute_result",
     "data": {
      "text/plain": [
       "dict_keys(['unrealkills', 'deaths', 'item2', 'wardskilled', 'champlevel', 'perk1var3', 'magicdamagedealttochampions', 'inhibitorkills', 'totalscorerank', 'statperk0', 'neutralminionskilled', 'combatplayerscore', 'totaldamagetaken', 'firsttowerkill', 'objectiveplayerscore', 'perk0var2', 'perk3var2', 'perk2var2', 'item0', 'firsttowerassist', 'perk5var2', 'totaltimecrowdcontroldealt', 'timeccingothers', 'totalunitshealed', 'perk3var1', 'totaldamagedealttochampions', 'goldspent', 'visionwardsboughtingame', 'killingsprees', 'perk2var3', 'visionscore', 'perk5', 'item1', 'perkprimarystyle', 'perk4var3', 'largestmultikill', 'perk4var1', 'longesttimespentliving', 'perk5var1', 'perk4', 'totalheal', 'perk3var3', 'perk2var1', 'statperk1', 'perksubstyle', 'perk5var3', 'truedamagetaken', 'magicaldamagetaken', 'physicaldamagedealt', 'largestcriticalstrike', 'totalplayerscore', 'wardsplaced', 'largestkillingspree', 'totaldamagedealt', 'item4', 'physicaldamagetaken', 'kills', 'triplekills', 'damagedealttoobjectives', 'perk2', 'assists', 'truedamagedealttochampions', 'perk1', 'participantid', 'perk3', 'magicdamagedealt', 'goldearned', 'neutralminionskilledenemyjungle', 'damageselfmitigated', 'item3', 'perk4var2', 'pentakills', 'perk1var1', 'firstbloodassist', 'statperk2', 'neutralminionskilledteamjungle', 'quadrakills', 'firstbloodkill', 'win', 'totalminionskilled', 'item6', 'damagedealttoturrets', 'perk1var2', 'perk0var3', 'doublekills', 'physicaldamagedealttochampions', 'perk0var1', 'sightwardsboughtingame', 'truedamagedealt', 'perk0', 'turretkills', 'item5'])"
      ]
     },
     "metadata": {},
     "execution_count": 20
    }
   ],
   "source": [
    "data[0]['participants'][0]['stats'].keys()"
   ]
  },
  {
   "cell_type": "code",
   "execution_count": 21,
   "metadata": {},
   "outputs": [
    {
     "output_type": "stream",
     "name": "stderr",
     "text": [
      "100%|██████████| 10000/10000 [00:01<00:00, 5030.10it/s]\n"
     ]
    }
   ],
   "source": [
    "import math\n",
    "assist = []\n",
    "kill = []\n",
    "death = []\n",
    "kda = []\n",
    "gold = []\n",
    "level = []\n",
    "champion_num = []\n",
    "summoner_id = []\n",
    "\n",
    "items = [ [] for _ in range(7)]\n",
    "\n",
    "for gameCnt in tqdm(range(gameNum)) : \n",
    "    time = data[gameCnt]['gameduration'] / 60\n",
    "    for i in range(10) :\n",
    "        champion_num.append(data[gameCnt]['participants'][i]['championid'])\n",
    "        assist.append(data[gameCnt]['participants'][i]['stats']['assists'] /time )\n",
    "        kill.append(data[gameCnt]['participants'][i]['stats']['kills'] /time )\n",
    "        death.append(data[gameCnt]['participants'][i]['stats']['deaths'] /time )\n",
    "        gold.append(data[gameCnt]['participants'][i]['stats']['goldearned'] / time)\n",
    "        level.append(data[gameCnt]['participants'][i]['stats']['champlevel'] / time)\n",
    "        summoner_id.append(data[gameCnt]['participantidentities'][i]['player']['summonerid'])\n",
    "\n",
    "        for item_num in range(7) :\n",
    "            items[item_num].append(data[gameCnt]['participants'][i]['stats']['item'+str(item_num)])\n",
    "        \n",
    "        if death[len(death)-1] == 0 :\n",
    "            kda.append(1.5 * (assist[len(assist)-1] + kill[len(kill)-1]))\n",
    "        else :\n",
    "            kda.append((assist[len(assist)-1] + kill[len(kill)-1]) / death[len(death)-1])\n",
    "\n",
    "\n",
    "#assistCnt = [0 for _ in range(int(max(assist)*100)+2)]\n",
    "#killCnt = [0 for _ in range(int(max(kill)*100)+2)]\n",
    "#deathCnt = [0 for _ in range(int(max(death)*100)+2)]\n",
    "#kdaCnt = [0 for _ in range(int(max(kda)*10)+2)]\n",
    "#goldCnt = [0 for _ in range(int(max(gold))+2)]"
   ]
  },
  {
   "cell_type": "code",
   "execution_count": 22,
   "metadata": {
    "tags": []
   },
   "outputs": [],
   "source": [
    "# for item in range(len(assist)) :\n",
    "#     assistCnt[int(assist[item] * 100)] +=1\n",
    "#     killCnt[int(kill[item] * 100)] +=1\n",
    "#     deathCnt[int(death[item] * 100)] +=1\n",
    "#     kdaCnt[int(kda[item] * 10)] +=1\n",
    "#     goldCnt[int(gold[item])] +=1\n"
   ]
  },
  {
   "cell_type": "code",
   "execution_count": 23,
   "metadata": {},
   "outputs": [],
   "source": [
    "# from matplotlib import pyplot as plt\n",
    "# import numpy as np\n",
    "\n",
    "# x_axis = np.arange(len(killCnt))\n",
    "# plt.bar(x_axis, killCnt)"
   ]
  },
  {
   "cell_type": "code",
   "execution_count": 24,
   "metadata": {},
   "outputs": [],
   "source": [
    "# x_axis = np.arange(len(goldCnt))\n",
    "# plt.bar(x_axis, goldCnt)"
   ]
  },
  {
   "cell_type": "code",
   "execution_count": 25,
   "metadata": {},
   "outputs": [
    {
     "output_type": "execute_result",
     "data": {
      "text/html": "<div>\n<style scoped>\n    .dataframe tbody tr th:only-of-type {\n        vertical-align: middle;\n    }\n\n    .dataframe tbody tr th {\n        vertical-align: top;\n    }\n\n    .dataframe thead th {\n        text-align: right;\n    }\n</style>\n<table border=\"1\" class=\"dataframe\">\n  <thead>\n    <tr style=\"text-align: right;\">\n      <th></th>\n      <th>kill</th>\n      <th>assist</th>\n      <th>death</th>\n      <th>gold</th>\n      <th>level</th>\n      <th>troll</th>\n      <th>championid</th>\n      <th>summoner_id</th>\n    </tr>\n  </thead>\n  <tbody>\n    <tr>\n      <th>0</th>\n      <td>0.158520</td>\n      <td>0.356671</td>\n      <td>0.118890</td>\n      <td>359.167768</td>\n      <td>0.515192</td>\n      <td>0</td>\n      <td>38</td>\n      <td>PF7wuKbEjIH7bUEivDRsJbiah9EF9EzRPO-LFLucLai7avA</td>\n    </tr>\n    <tr>\n      <th>1</th>\n      <td>0.118890</td>\n      <td>0.475561</td>\n      <td>0.277411</td>\n      <td>278.678996</td>\n      <td>0.435931</td>\n      <td>0</td>\n      <td>497</td>\n      <td>JRuCiFpuzcsnQ9Gadn5A_0bm66-PrFaA3WKP5juhgetrx3Y</td>\n    </tr>\n    <tr>\n      <th>2</th>\n      <td>0.317041</td>\n      <td>0.158520</td>\n      <td>0.237781</td>\n      <td>423.725231</td>\n      <td>0.515192</td>\n      <td>0</td>\n      <td>164</td>\n      <td>o5ZjlQkLgDZzDG_dkT0GVL7X34kp51abqkUN6P7K2WPeY1dy</td>\n    </tr>\n    <tr>\n      <th>3</th>\n      <td>0.079260</td>\n      <td>0.277411</td>\n      <td>0.356671</td>\n      <td>323.659181</td>\n      <td>0.475561</td>\n      <td>0</td>\n      <td>19</td>\n      <td>TUdiT-gEHdtkmr9JkhqvtNy5L_nutzsw2oH23kgO71NSsA</td>\n    </tr>\n    <tr>\n      <th>4</th>\n      <td>0.356671</td>\n      <td>0.198151</td>\n      <td>0.118890</td>\n      <td>427.093791</td>\n      <td>0.515192</td>\n      <td>0</td>\n      <td>145</td>\n      <td>qmcY1AJTdznK_aTgW2e1qwCY1uwbam9HU09Wsa7nI9Wt5sYQ</td>\n    </tr>\n    <tr>\n      <th>...</th>\n      <td>...</td>\n      <td>...</td>\n      <td>...</td>\n      <td>...</td>\n      <td>...</td>\n      <td>...</td>\n      <td>...</td>\n      <td>...</td>\n    </tr>\n    <tr>\n      <th>99995</th>\n      <td>0.183374</td>\n      <td>0.293399</td>\n      <td>0.183374</td>\n      <td>496.613692</td>\n      <td>0.550122</td>\n      <td>0</td>\n      <td>236</td>\n      <td>XU_3wTozp_g-sec3SdeBp7WOg61BU4Bsi9P636axectzPRY</td>\n    </tr>\n    <tr>\n      <th>99996</th>\n      <td>0.330073</td>\n      <td>0.256724</td>\n      <td>0.183374</td>\n      <td>437.090465</td>\n      <td>0.550122</td>\n      <td>0</td>\n      <td>245</td>\n      <td>oYgrmGD1cGqAN6My_talEYVTEp9YpZkjDsIZ3NMhjWqI9g</td>\n    </tr>\n    <tr>\n      <th>99997</th>\n      <td>0.036675</td>\n      <td>0.513447</td>\n      <td>0.220049</td>\n      <td>242.603912</td>\n      <td>0.440098</td>\n      <td>0</td>\n      <td>432</td>\n      <td>q4uKpVa1RT8cihUV3Wa1t9Y7o-9CttHF3mOYxtdkksSUKQ</td>\n    </tr>\n    <tr>\n      <th>99998</th>\n      <td>0.403423</td>\n      <td>0.220049</td>\n      <td>0.220049</td>\n      <td>416.625917</td>\n      <td>0.513447</td>\n      <td>0</td>\n      <td>55</td>\n      <td>Q_fw1SGj4BUHxM3gFnRWx7WcchwUTZbN4S-F7W0jwguxi-4</td>\n    </tr>\n    <tr>\n      <th>99999</th>\n      <td>0.073350</td>\n      <td>0.623472</td>\n      <td>0.073350</td>\n      <td>415.158924</td>\n      <td>0.550122</td>\n      <td>0</td>\n      <td>235</td>\n      <td>Yg9O48ou7MdRaUkxspxCUJlQhVsqGrp842y9guEjPXEpi1I</td>\n    </tr>\n  </tbody>\n</table>\n<p>100000 rows × 8 columns</p>\n</div>",
      "text/plain": [
       "           kill    assist     death        gold     level  troll  championid  \\\n",
       "0      0.158520  0.356671  0.118890  359.167768  0.515192      0          38   \n",
       "1      0.118890  0.475561  0.277411  278.678996  0.435931      0         497   \n",
       "2      0.317041  0.158520  0.237781  423.725231  0.515192      0         164   \n",
       "3      0.079260  0.277411  0.356671  323.659181  0.475561      0          19   \n",
       "4      0.356671  0.198151  0.118890  427.093791  0.515192      0         145   \n",
       "...         ...       ...       ...         ...       ...    ...         ...   \n",
       "99995  0.183374  0.293399  0.183374  496.613692  0.550122      0         236   \n",
       "99996  0.330073  0.256724  0.183374  437.090465  0.550122      0         245   \n",
       "99997  0.036675  0.513447  0.220049  242.603912  0.440098      0         432   \n",
       "99998  0.403423  0.220049  0.220049  416.625917  0.513447      0          55   \n",
       "99999  0.073350  0.623472  0.073350  415.158924  0.550122      0         235   \n",
       "\n",
       "                                            summoner_id  \n",
       "0       PF7wuKbEjIH7bUEivDRsJbiah9EF9EzRPO-LFLucLai7avA  \n",
       "1       JRuCiFpuzcsnQ9Gadn5A_0bm66-PrFaA3WKP5juhgetrx3Y  \n",
       "2      o5ZjlQkLgDZzDG_dkT0GVL7X34kp51abqkUN6P7K2WPeY1dy  \n",
       "3        TUdiT-gEHdtkmr9JkhqvtNy5L_nutzsw2oH23kgO71NSsA  \n",
       "4      qmcY1AJTdznK_aTgW2e1qwCY1uwbam9HU09Wsa7nI9Wt5sYQ  \n",
       "...                                                 ...  \n",
       "99995   XU_3wTozp_g-sec3SdeBp7WOg61BU4Bsi9P636axectzPRY  \n",
       "99996    oYgrmGD1cGqAN6My_talEYVTEp9YpZkjDsIZ3NMhjWqI9g  \n",
       "99997    q4uKpVa1RT8cihUV3Wa1t9Y7o-9CttHF3mOYxtdkksSUKQ  \n",
       "99998   Q_fw1SGj4BUHxM3gFnRWx7WcchwUTZbN4S-F7W0jwguxi-4  \n",
       "99999   Yg9O48ou7MdRaUkxspxCUJlQhVsqGrp842y9guEjPXEpi1I  \n",
       "\n",
       "[100000 rows x 8 columns]"
      ]
     },
     "metadata": {},
     "execution_count": 25
    }
   ],
   "source": [
    "kill_df = pd.DataFrame(kill)\n",
    "death_df = pd.DataFrame(death)\n",
    "x_data = pd.DataFrame()\n",
    "x_data['kill'] = kill\n",
    "x_data['assist'] = assist\n",
    "x_data['death'] = death\n",
    "x_data['gold'] = gold\n",
    "x_data['level'] = level\n",
    "\n",
    "x_data['troll'] = 0\n",
    "x_data['championid'] = champion_num\n",
    "x_data['summoner_id'] = summoner_id\n",
    "\n",
    "x_data"
   ]
  },
  {
   "cell_type": "code",
   "execution_count": 26,
   "metadata": {},
   "outputs": [],
   "source": [
    "# feature_list = ['kill','assist','death','gold','level']\n",
    "\n",
    "# for feature in feature_list :\n",
    "#     plot_x_data = [x_data[feature][x_data['troll']==0],x_data[feature][x_data['troll']==1]]\n",
    "\n",
    "#     if feature == 'gold' :\n",
    "#         plt.yticks([-10 + 1 * i for i in range(16)])\n",
    "#     else :\n",
    "#         plt.yticks([-10 + 1 * i for i in range(16)])\n",
    "    \n",
    "#     flierprops = dict(markerfacecolor='r',markersize=0.1)\n",
    "#     plt.title(feature)\n",
    "#     plt.grid()\n",
    "\n",
    "#     plt.boxplot(plot_x_data, flierprops=flierprops)\n",
    "#     plt.xticks([1,2] , ['not_afk','afk'])\n",
    "\n",
    "#     plt.show()\n"
   ]
  },
  {
   "cell_type": "code",
   "execution_count": 27,
   "metadata": {},
   "outputs": [],
   "source": [
    "# from scipy import stats\n",
    "\n",
    "# feature = 'kill'\n",
    "# stats.f_oneway(x_data[feature][x_data['troll']==1], x_data[feature][x_data['troll']==0], x_data[feature])"
   ]
  },
  {
   "cell_type": "code",
   "execution_count": 28,
   "metadata": {},
   "outputs": [],
   "source": [
    "# for feature in feature_list :\n",
    "#     tTestResultDiffVar = stats.ttest_ind(x_data[feature][x_data['troll']==0], x_data[feature][x_data['troll']==1], equal_var=False)\n",
    "\n",
    "#     print(feature,tTestResultDiffVar)"
   ]
  },
  {
   "cell_type": "code",
   "execution_count": 29,
   "metadata": {},
   "outputs": [
    {
     "output_type": "stream",
     "name": "stderr",
     "text": [
      "100%|██████████| 150/150 [00:15<00:00,  9.78it/s]\n"
     ]
    },
    {
     "output_type": "execute_result",
     "data": {
      "text/html": "<div>\n<style scoped>\n    .dataframe tbody tr th:only-of-type {\n        vertical-align: middle;\n    }\n\n    .dataframe tbody tr th {\n        vertical-align: top;\n    }\n\n    .dataframe thead th {\n        text-align: right;\n    }\n</style>\n<table border=\"1\" class=\"dataframe\">\n  <thead>\n    <tr style=\"text-align: right;\">\n      <th></th>\n      <th>kill</th>\n      <th>assist</th>\n      <th>death</th>\n      <th>gold</th>\n      <th>level</th>\n      <th>troll</th>\n      <th>championid</th>\n      <th>summoner_id</th>\n    </tr>\n  </thead>\n  <tbody>\n    <tr>\n      <th>0</th>\n      <td>-0.343376</td>\n      <td>1.745007</td>\n      <td>-0.491769</td>\n      <td>-0.431260</td>\n      <td>-0.512853</td>\n      <td>0</td>\n      <td>38</td>\n      <td>PF7wuKbEjIH7bUEivDRsJbiah9EF9EzRPO-LFLucLai7avA</td>\n    </tr>\n    <tr>\n      <th>1</th>\n      <td>1.180590</td>\n      <td>0.130797</td>\n      <td>1.246795</td>\n      <td>0.398971</td>\n      <td>-0.230212</td>\n      <td>0</td>\n      <td>497</td>\n      <td>JRuCiFpuzcsnQ9Gadn5A_0bm66-PrFaA3WKP5juhgetrx3Y</td>\n    </tr>\n    <tr>\n      <th>2</th>\n      <td>0.929154</td>\n      <td>-0.218189</td>\n      <td>0.525580</td>\n      <td>0.450369</td>\n      <td>-0.496110</td>\n      <td>0</td>\n      <td>164</td>\n      <td>o5ZjlQkLgDZzDG_dkT0GVL7X34kp51abqkUN6P7K2WPeY1dy</td>\n    </tr>\n    <tr>\n      <th>3</th>\n      <td>-1.067484</td>\n      <td>0.378228</td>\n      <td>1.735096</td>\n      <td>-0.896303</td>\n      <td>-0.665233</td>\n      <td>0</td>\n      <td>19</td>\n      <td>TUdiT-gEHdtkmr9JkhqvtNy5L_nutzsw2oH23kgO71NSsA</td>\n    </tr>\n    <tr>\n      <th>4</th>\n      <td>0.802854</td>\n      <td>-0.087691</td>\n      <td>-0.540774</td>\n      <td>0.072379</td>\n      <td>0.090969</td>\n      <td>0</td>\n      <td>145</td>\n      <td>qmcY1AJTdznK_aTgW2e1qwCY1uwbam9HU09Wsa7nI9Wt5sYQ</td>\n    </tr>\n    <tr>\n      <th>...</th>\n      <td>...</td>\n      <td>...</td>\n      <td>...</td>\n      <td>...</td>\n      <td>...</td>\n      <td>...</td>\n      <td>...</td>\n      <td>...</td>\n    </tr>\n    <tr>\n      <th>99995</th>\n      <td>-0.181216</td>\n      <td>0.817749</td>\n      <td>-0.076838</td>\n      <td>0.950896</td>\n      <td>0.118960</td>\n      <td>0</td>\n      <td>236</td>\n      <td>XU_3wTozp_g-sec3SdeBp7WOg61BU4Bsi9P636axectzPRY</td>\n    </tr>\n    <tr>\n      <th>99996</th>\n      <td>0.599617</td>\n      <td>0.275636</td>\n      <td>0.099153</td>\n      <td>0.543064</td>\n      <td>0.153125</td>\n      <td>0</td>\n      <td>245</td>\n      <td>oYgrmGD1cGqAN6My_talEYVTEp9YpZkjDsIZ3NMhjWqI9g</td>\n    </tr>\n    <tr>\n      <th>99997</th>\n      <td>-0.517921</td>\n      <td>0.477724</td>\n      <td>0.607669</td>\n      <td>-0.546329</td>\n      <td>-0.406754</td>\n      <td>0</td>\n      <td>432</td>\n      <td>q4uKpVa1RT8cihUV3Wa1t9Y7o-9CttHF3mOYxtdkksSUKQ</td>\n    </tr>\n    <tr>\n      <th>99998</th>\n      <td>0.642316</td>\n      <td>0.283726</td>\n      <td>0.252854</td>\n      <td>0.130415</td>\n      <td>-0.408584</td>\n      <td>0</td>\n      <td>55</td>\n      <td>Q_fw1SGj4BUHxM3gFnRWx7WcchwUTZbN4S-F7W0jwguxi-4</td>\n    </tr>\n    <tr>\n      <th>99999</th>\n      <td>-0.461250</td>\n      <td>1.259304</td>\n      <td>-0.921022</td>\n      <td>1.024634</td>\n      <td>1.000965</td>\n      <td>0</td>\n      <td>235</td>\n      <td>Yg9O48ou7MdRaUkxspxCUJlQhVsqGrp842y9guEjPXEpi1I</td>\n    </tr>\n  </tbody>\n</table>\n<p>100000 rows × 8 columns</p>\n</div>",
      "text/plain": [
       "           kill    assist     death      gold     level  troll  championid  \\\n",
       "0     -0.343376  1.745007 -0.491769 -0.431260 -0.512853      0          38   \n",
       "1      1.180590  0.130797  1.246795  0.398971 -0.230212      0         497   \n",
       "2      0.929154 -0.218189  0.525580  0.450369 -0.496110      0         164   \n",
       "3     -1.067484  0.378228  1.735096 -0.896303 -0.665233      0          19   \n",
       "4      0.802854 -0.087691 -0.540774  0.072379  0.090969      0         145   \n",
       "...         ...       ...       ...       ...       ...    ...         ...   \n",
       "99995 -0.181216  0.817749 -0.076838  0.950896  0.118960      0         236   \n",
       "99996  0.599617  0.275636  0.099153  0.543064  0.153125      0         245   \n",
       "99997 -0.517921  0.477724  0.607669 -0.546329 -0.406754      0         432   \n",
       "99998  0.642316  0.283726  0.252854  0.130415 -0.408584      0          55   \n",
       "99999 -0.461250  1.259304 -0.921022  1.024634  1.000965      0         235   \n",
       "\n",
       "                                            summoner_id  \n",
       "0       PF7wuKbEjIH7bUEivDRsJbiah9EF9EzRPO-LFLucLai7avA  \n",
       "1       JRuCiFpuzcsnQ9Gadn5A_0bm66-PrFaA3WKP5juhgetrx3Y  \n",
       "2      o5ZjlQkLgDZzDG_dkT0GVL7X34kp51abqkUN6P7K2WPeY1dy  \n",
       "3        TUdiT-gEHdtkmr9JkhqvtNy5L_nutzsw2oH23kgO71NSsA  \n",
       "4      qmcY1AJTdznK_aTgW2e1qwCY1uwbam9HU09Wsa7nI9Wt5sYQ  \n",
       "...                                                 ...  \n",
       "99995   XU_3wTozp_g-sec3SdeBp7WOg61BU4Bsi9P636axectzPRY  \n",
       "99996    oYgrmGD1cGqAN6My_talEYVTEp9YpZkjDsIZ3NMhjWqI9g  \n",
       "99997    q4uKpVa1RT8cihUV3Wa1t9Y7o-9CttHF3mOYxtdkksSUKQ  \n",
       "99998   Q_fw1SGj4BUHxM3gFnRWx7WcchwUTZbN4S-F7W0jwguxi-4  \n",
       "99999   Yg9O48ou7MdRaUkxspxCUJlQhVsqGrp842y9guEjPXEpi1I  \n",
       "\n",
       "[100000 rows x 8 columns]"
      ]
     },
     "metadata": {},
     "execution_count": 29
    }
   ],
   "source": [
    "#챔피언별 피쳐들로 표준 정규화 진행\n",
    "\n",
    "features = ['kill','assist','death','gold','level']\n",
    "\n",
    "champion_list = x_data['championid'].unique()\n",
    "\n",
    "for cham_id in tqdm(champion_list) : \n",
    "    for f in features : \n",
    "        f_mean = x_data[f][x_data['championid']==cham_id].mean()\n",
    "        f_std = x_data[f][x_data['championid']==cham_id].std() + math.pow(10,-8)\n",
    "\n",
    "        x_data[f][x_data['championid']==cham_id] -= f_mean\n",
    "        x_data[f][x_data['championid']==cham_id] /= f_std\n",
    "\n",
    "x_data"
   ]
  },
  {
   "cell_type": "code",
   "execution_count": 30,
   "metadata": {},
   "outputs": [],
   "source": [
    "#plt.scatter(x_data['kill'][x_data['championid']==5] ,x_data['death'][x_data['championid']==5] ,s=1)"
   ]
  },
  {
   "cell_type": "code",
   "execution_count": 31,
   "metadata": {},
   "outputs": [
    {
     "output_type": "execute_result",
     "data": {
      "text/plain": [
       "\"\\nfrom sklearn.cluster import KMeans\\nmodel = KMeans(n_clusters=10, init='k-means++', n_init=10, max_iter=300, tol=1e-4)\\nmodel.fit(x_data)\\n\""
      ]
     },
     "metadata": {},
     "execution_count": 31
    }
   ],
   "source": [
    "'''\n",
    "from sklearn.cluster import KMeans\n",
    "model = KMeans(n_clusters=10, init='k-means++', n_init=10, max_iter=300, tol=1e-4)\n",
    "model.fit(x_data)\n",
    "'''"
   ]
  },
  {
   "cell_type": "code",
   "execution_count": 32,
   "metadata": {},
   "outputs": [],
   "source": [
    "itemStr=['item' + str(num) for num in range(6)]"
   ]
  },
  {
   "cell_type": "code",
   "execution_count": 33,
   "metadata": {},
   "outputs": [
    {
     "output_type": "stream",
     "name": "stderr",
     "text": [
      "100%|██████████| 10000/10000 [00:00<00:00, 11086.53it/s]\n"
     ]
    },
    {
     "output_type": "execute_result",
     "data": {
      "text/plain": [
       "{'Aegis of the Legion': 3,\n",
       " 'Aether Wisp': 9,\n",
       " 'Amplifying Tome': 141,\n",
       " 'Ardent Censer': 1,\n",
       " 'B. F. Sword': 14,\n",
       " \"Bami's Cinder\": 31,\n",
       " 'Bilgewater Cutlass': 1,\n",
       " 'Blasting Wand': 5,\n",
       " 'Broken Stopwatch': 113,\n",
       " 'Catalyst of Aeons': 3,\n",
       " \"Caulfield's Warhammer\": 2,\n",
       " 'Chain Vest': 4,\n",
       " 'Chalice of Harmony': 25,\n",
       " 'Cloak of Agility': 28,\n",
       " 'Cloth Armor': 252,\n",
       " 'Crystalline Bracer': 18,\n",
       " 'Cull': 16,\n",
       " 'Dagger': 957,\n",
       " 'Dark Seal': 65,\n",
       " \"Dead Man's Plate\": 1,\n",
       " \"Death's Dance\": 1,\n",
       " \"Doran's Blade\": 1024,\n",
       " \"Doran's Ring\": 343,\n",
       " \"Doran's Shield\": 6,\n",
       " 'Duskblade of Draktharr': 2,\n",
       " 'Elixir of Wrath': 1,\n",
       " \"Executioner's Calling\": 8,\n",
       " 'Faerie Charm': 492,\n",
       " 'Fiendish Codex': 4,\n",
       " 'Forbidden Idol': 7,\n",
       " \"Giant's Belt\": 15,\n",
       " 'Glacial Shroud': 6,\n",
       " 'Guardian Angel': 5,\n",
       " 'Hextech Revolver': 2,\n",
       " 'Infinity Edge': 11,\n",
       " \"Jaurim's Fist\": 2,\n",
       " 'Kindlegem': 27,\n",
       " 'Kircheis Shard': 10,\n",
       " 'Long Sword': 1218,\n",
       " 'Lost Chapter': 2,\n",
       " \"Mejai's Soulstealer\": 4,\n",
       " 'Morellonomicon': 1,\n",
       " 'Needlessly Large Rod': 511,\n",
       " 'Negatron Cloak': 5,\n",
       " 'Null-Magic Mantle': 19,\n",
       " 'Pickaxe': 13,\n",
       " 'Quicksilver Sash': 2,\n",
       " \"Rabadon's Deathcap\": 6,\n",
       " 'Rapid Firecannon': 1,\n",
       " 'Recurve Bow': 9,\n",
       " 'Redemption': 6,\n",
       " 'Rejuvenation Bead': 295,\n",
       " 'Ruby Crystal': 122,\n",
       " 'Sapphire Crystal': 58,\n",
       " 'Serrated Dirk': 10,\n",
       " \"Spectre's Cowl\": 2,\n",
       " 'Statikk Shiv': 1,\n",
       " \"Sterak's Gage\": 1,\n",
       " 'Stinger': 7,\n",
       " 'Stopwatch': 34,\n",
       " 'Titanic Hydra': 1,\n",
       " 'Umbral Glaive': 2,\n",
       " 'Vampiric Scepter': 3,\n",
       " 'Void Staff': 1,\n",
       " \"Youmuu's Ghostblade\": 1,\n",
       " 'Zeal': 5,\n",
       " \"Zhonya's Hourglass\": 1}"
      ]
     },
     "metadata": {},
     "execution_count": 33
    }
   ],
   "source": [
    "#item Task\n",
    "\n",
    "total_item_dict = {}\n",
    "total_item_number_dict = {}\n",
    "\n",
    "for gameCnt in tqdm(range(gameNum)) : \n",
    "    for i in range(10) :\n",
    "        summoner_itemDict = {}\n",
    "        for it in itemStr :\n",
    "            if summoner_itemDict.get(data[gameCnt]['participants'][i]['stats'][it])==None :\n",
    "                summoner_itemDict[data[gameCnt]['participants'][i]['stats'][it]] = 1\n",
    "            else :\n",
    "                summoner_itemDict[data[gameCnt]['participants'][i]['stats'][it]] += 1\n",
    "        \n",
    "        for itemNum in summoner_itemDict.keys() :\n",
    "            if summoner_itemDict[itemNum]>=2 :\n",
    "                if itemNum!=0:\n",
    "                    if total_item_dict.get(itemDict[itemNum]) == None :\n",
    "                        total_item_dict[itemDict[itemNum]] =1\n",
    "                        total_item_number_dict[itemDict[itemNum]] = {2:0,3:0,4:0,5:0,6:0}\n",
    "                        total_item_number_dict[itemDict[itemNum]][summoner_itemDict[itemNum]]+=1\n",
    "\n",
    "                    else : \n",
    "                        total_item_dict[itemDict[itemNum]] +=1\n",
    "                        total_item_number_dict[itemDict[itemNum]][summoner_itemDict[itemNum]]+=1\n",
    "\n",
    "\n",
    "total_item_dict\n"
   ]
  },
  {
   "cell_type": "code",
   "execution_count": 34,
   "metadata": {},
   "outputs": [
    {
     "output_type": "execute_result",
     "data": {
      "text/plain": [
       "\"\\nfor i in itemDict:\\n    if itemDict[i] == 'Rejuvenation Bead' :\\n        print(i)\\n\""
      ]
     },
     "metadata": {},
     "execution_count": 34
    }
   ],
   "source": [
    "overTwo = [2421,2424,2420]\n",
    "          # 깨진 초시계 2개 , 초시계\n",
    "overSix = [1006         , 1004      ,1027       ,  1028     , 1082]\n",
    "            #원기회복구슬 ,요정의부적,사파이어 수정,루비 수정, 암흑의 인장\n",
    "'''\n",
    "for i in itemDict:\n",
    "    if itemDict[i] == 'Rejuvenation Bead' :\n",
    "        print(i)\n",
    "'''     "
   ]
  },
  {
   "cell_type": "code",
   "execution_count": 35,
   "metadata": {},
   "outputs": [
    {
     "output_type": "stream",
     "name": "stdout",
     "text": [
      "Rejuvenation Bead 214\nFaerie Charm 82\nBroken Stopwatch 46\nDark Seal 36\nSapphire Crystal 34\nStopwatch 19\nRuby Crystal 18\nDoran's Ring 13\nKindlegem 13\nChalice of Harmony 12\nDagger 12\nCull 10\nCloth Armor 9\nBami's Cinder 9\nDoran's Blade 8\nCrystalline Bracer 7\nLong Sword 7\nAmplifying Tome 6\nKircheis Shard 6\nExecutioner's Calling 3\nDoran's Shield 3\nGlacial Shroud 3\nAether Wisp 3\nNeedlessly Large Rod 3\nB. F. Sword 3\nNull-Magic Mantle 2\nNegatron Cloak 2\nVampiric Scepter 2\nCatalyst of Aeons 2\nGiant's Belt 1\nPickaxe 1\nSpectre's Cowl 1\nForbidden Idol 1\nChain Vest 1\nMejai's Soulstealer 1\nElixir of Wrath 1\nQuicksilver Sash 1\nCloak of Agility 1\nFiendish Codex 1\nSerrated Dirk 1\nLost Chapter 0\nAegis of the Legion 0\nArdent Censer 0\nRabadon's Deathcap 0\nRapid Firecannon 0\nZeal 0\nInfinity Edge 0\nTitanic Hydra 0\nGuardian Angel 0\nStatikk Shiv 0\nYoumuu's Ghostblade 0\nMorellonomicon 0\nCaulfield's Warhammer 0\nJaurim's Fist 0\nSterak's Gage 0\nZhonya's Hourglass 0\nVoid Staff 0\nDead Man's Plate 0\nUmbral Glaive 0\nRedemption 0\nHextech Revolver 0\nDuskblade of Draktharr 0\nBilgewater Cutlass 0\nRecurve Bow 0\nStinger 0\nDeath's Dance 0\nBlasting Wand 0\n"
     ]
    }
   ],
   "source": [
    "item_six_number = []\n",
    "item_six_cnt = []\n",
    "for key,value in sorted(total_item_dict.items() , key = lambda x : total_item_number_dict[x[0]][6] , reverse = True) :\n",
    "    #print(key,value,total_item_number_dict[key][2],total_item_number_dict[key][3],total_item_number_dict[key][4],total_item_number_dict[key][5],total_item_number_dict[key][6])\n",
    "    print(key,total_item_number_dict[key][6])\n"
   ]
  },
  {
   "cell_type": "code",
   "execution_count": 36,
   "metadata": {},
   "outputs": [
    {
     "output_type": "execute_result",
     "data": {
      "text/html": "<div>\n<style scoped>\n    .dataframe tbody tr th:only-of-type {\n        vertical-align: middle;\n    }\n\n    .dataframe tbody tr th {\n        vertical-align: top;\n    }\n\n    .dataframe thead th {\n        text-align: right;\n    }\n</style>\n<table border=\"1\" class=\"dataframe\">\n  <thead>\n    <tr style=\"text-align: right;\">\n      <th></th>\n    </tr>\n  </thead>\n  <tbody>\n  </tbody>\n</table>\n</div>",
      "text/plain": [
       "Empty DataFrame\n",
       "Columns: []\n",
       "Index: []"
      ]
     },
     "metadata": {},
     "execution_count": 36
    }
   ],
   "source": [
    "\n",
    "pd.DataFrame()"
   ]
  },
  {
   "cell_type": "code",
   "execution_count": 37,
   "metadata": {},
   "outputs": [
    {
     "output_type": "stream",
     "name": "stderr",
     "text": [
      "100%|██████████| 10000/10000 [00:01<00:00, 7886.45it/s]\n"
     ]
    },
    {
     "output_type": "execute_result",
     "data": {
      "text/plain": [
       "[[6, 0],\n",
       " [13, 9],\n",
       " [22, 9],\n",
       " [30, 4],\n",
       " [35, 0],\n",
       " [37, 8],\n",
       " [43, 6],\n",
       " [56, 1],\n",
       " [62, 5],\n",
       " [82, 1],\n",
       " [91, 0],\n",
       " [129, 0],\n",
       " [153, 6],\n",
       " [157, 6],\n",
       " [161, 3],\n",
       " [162, 6],\n",
       " [168, 9],\n",
       " [198, 6],\n",
       " [222, 6],\n",
       " [222, 9],\n",
       " [233, 7],\n",
       " [237, 8],\n",
       " [262, 8],\n",
       " [298, 1],\n",
       " [312, 5],\n",
       " [314, 6],\n",
       " [327, 6],\n",
       " [327, 9],\n",
       " [335, 1],\n",
       " [335, 3],\n",
       " [345, 4],\n",
       " [346, 9],\n",
       " [357, 6],\n",
       " [370, 2],\n",
       " [379, 7],\n",
       " [382, 9],\n",
       " [409, 7],\n",
       " [414, 9],\n",
       " [442, 8],\n",
       " [454, 2],\n",
       " [507, 7],\n",
       " [508, 8],\n",
       " [509, 9],\n",
       " [513, 0],\n",
       " [534, 6],\n",
       " [536, 0],\n",
       " [548, 3],\n",
       " [582, 6],\n",
       " [622, 4],\n",
       " [624, 5],\n",
       " [631, 3],\n",
       " [633, 5],\n",
       " [666, 6],\n",
       " [667, 3],\n",
       " [687, 3],\n",
       " [697, 7],\n",
       " [719, 2],\n",
       " [719, 3],\n",
       " [724, 5],\n",
       " [730, 3],\n",
       " [751, 5],\n",
       " [785, 7],\n",
       " [819, 3],\n",
       " [828, 8],\n",
       " [829, 5],\n",
       " [848, 5],\n",
       " [855, 0],\n",
       " [878, 2],\n",
       " [881, 6],\n",
       " [881, 8],\n",
       " [929, 3],\n",
       " [964, 6],\n",
       " [973, 6],\n",
       " [982, 9],\n",
       " [1033, 2],\n",
       " [1073, 8],\n",
       " [1085, 0],\n",
       " [1089, 5],\n",
       " [1100, 8],\n",
       " [1116, 0],\n",
       " [1138, 5],\n",
       " [1138, 7],\n",
       " [1138, 9],\n",
       " [1145, 6],\n",
       " [1156, 1],\n",
       " [1168, 2],\n",
       " [1184, 7],\n",
       " [1205, 5],\n",
       " [1242, 4],\n",
       " [1258, 3],\n",
       " [1262, 0],\n",
       " [1283, 7],\n",
       " [1304, 8],\n",
       " [1323, 2],\n",
       " [1333, 4],\n",
       " [1358, 6],\n",
       " [1367, 8],\n",
       " [1381, 2],\n",
       " [1391, 9],\n",
       " [1401, 4],\n",
       " [1453, 0],\n",
       " [1495, 2],\n",
       " [1533, 8],\n",
       " [1560, 6],\n",
       " [1586, 5],\n",
       " [1598, 8],\n",
       " [1608, 1],\n",
       " [1634, 5],\n",
       " [1640, 9],\n",
       " [1666, 0],\n",
       " [1685, 0],\n",
       " [1728, 6],\n",
       " [1738, 1],\n",
       " [1738, 2],\n",
       " [1776, 1],\n",
       " [1794, 7],\n",
       " [1834, 5],\n",
       " [1842, 6],\n",
       " [1842, 7],\n",
       " [1861, 4],\n",
       " [1918, 9],\n",
       " [1920, 6],\n",
       " [1934, 4],\n",
       " [1966, 9],\n",
       " [1968, 5],\n",
       " [1972, 4],\n",
       " [1982, 7],\n",
       " [1984, 8],\n",
       " [1985, 9],\n",
       " [1986, 9],\n",
       " [1999, 6],\n",
       " [2003, 7],\n",
       " [2021, 6],\n",
       " [2023, 9],\n",
       " [2032, 9],\n",
       " [2053, 6],\n",
       " [2080, 2],\n",
       " [2113, 3],\n",
       " [2118, 0],\n",
       " [2130, 4],\n",
       " [2134, 6],\n",
       " [2165, 7],\n",
       " [2165, 8],\n",
       " [2177, 3],\n",
       " [2237, 4],\n",
       " [2246, 9],\n",
       " [2269, 8],\n",
       " [2276, 8],\n",
       " [2314, 6],\n",
       " [2361, 8],\n",
       " [2389, 4],\n",
       " [2394, 4],\n",
       " [2448, 7],\n",
       " [2448, 8],\n",
       " [2453, 1],\n",
       " [2453, 2],\n",
       " [2459, 6],\n",
       " [2481, 9],\n",
       " [2504, 0],\n",
       " [2512, 0],\n",
       " [2530, 4],\n",
       " [2547, 7],\n",
       " [2552, 6],\n",
       " [2565, 4],\n",
       " [2587, 5],\n",
       " [2604, 7],\n",
       " [2642, 8],\n",
       " [2643, 5],\n",
       " [2646, 0],\n",
       " [2648, 7],\n",
       " [2649, 9],\n",
       " [2691, 1],\n",
       " [2705, 0],\n",
       " [2722, 2],\n",
       " [2741, 0],\n",
       " [2743, 1],\n",
       " [2777, 5],\n",
       " [2800, 2],\n",
       " [2809, 2],\n",
       " [2813, 4],\n",
       " [2816, 4],\n",
       " [2837, 7],\n",
       " [2837, 9],\n",
       " [2873, 7],\n",
       " [2885, 7],\n",
       " [2909, 0],\n",
       " [2921, 6],\n",
       " [2959, 4],\n",
       " [2976, 6],\n",
       " [3003, 8],\n",
       " [3017, 0],\n",
       " [3029, 0],\n",
       " [3054, 2],\n",
       " [3060, 0],\n",
       " [3060, 1],\n",
       " [3063, 6],\n",
       " [3088, 9],\n",
       " [3089, 1],\n",
       " [3126, 2],\n",
       " [3127, 5],\n",
       " [3132, 4],\n",
       " [3134, 0],\n",
       " [3147, 0],\n",
       " [3168, 5],\n",
       " [3183, 8],\n",
       " [3193, 0],\n",
       " [3196, 2],\n",
       " [3220, 1],\n",
       " [3224, 4],\n",
       " [3231, 5],\n",
       " [3252, 0],\n",
       " [3264, 5],\n",
       " [3273, 6],\n",
       " [3300, 3],\n",
       " [3301, 1],\n",
       " [3315, 6],\n",
       " [3318, 8],\n",
       " [3326, 8],\n",
       " [3330, 3],\n",
       " [3365, 4],\n",
       " [3367, 0],\n",
       " [3380, 4],\n",
       " [3387, 2],\n",
       " [3430, 3],\n",
       " [3432, 3],\n",
       " [3433, 5],\n",
       " [3433, 6],\n",
       " [3489, 0],\n",
       " [3618, 2],\n",
       " [3639, 9],\n",
       " [3674, 0],\n",
       " [3682, 0],\n",
       " [3686, 3],\n",
       " [3762, 1],\n",
       " [3792, 0],\n",
       " [3805, 8],\n",
       " [3806, 0],\n",
       " [3845, 6],\n",
       " [3907, 6],\n",
       " [3908, 0],\n",
       " [3921, 3],\n",
       " [3924, 2],\n",
       " [3924, 6],\n",
       " [3978, 5],\n",
       " [4011, 3],\n",
       " [4049, 1],\n",
       " [4065, 1],\n",
       " [4066, 9],\n",
       " [4091, 8],\n",
       " [4092, 3],\n",
       " [4100, 8],\n",
       " [4159, 3],\n",
       " [4170, 0],\n",
       " [4181, 6],\n",
       " [4202, 1],\n",
       " [4216, 1],\n",
       " [4245, 7],\n",
       " [4267, 4],\n",
       " [4268, 9],\n",
       " [4328, 2],\n",
       " [4329, 1],\n",
       " [4376, 9],\n",
       " [4381, 4],\n",
       " [4393, 8],\n",
       " [4430, 4],\n",
       " [4432, 7],\n",
       " [4437, 9],\n",
       " [4452, 3],\n",
       " [4478, 4],\n",
       " [4500, 9],\n",
       " [4537, 8],\n",
       " [4577, 6],\n",
       " [4603, 2],\n",
       " [4618, 0],\n",
       " [4652, 5],\n",
       " [4652, 7],\n",
       " [4652, 8],\n",
       " [4652, 9],\n",
       " [4654, 7],\n",
       " [4671, 3],\n",
       " [4678, 8],\n",
       " [4689, 5],\n",
       " [4713, 5],\n",
       " [4802, 1],\n",
       " [4805, 3],\n",
       " [4824, 2],\n",
       " [4861, 5],\n",
       " [4881, 8],\n",
       " [4913, 9],\n",
       " [4936, 4],\n",
       " [4956, 5],\n",
       " [4957, 0],\n",
       " [4961, 4],\n",
       " [4980, 1],\n",
       " [4986, 5],\n",
       " [4987, 5],\n",
       " [4996, 6],\n",
       " [5018, 9],\n",
       " [5054, 1],\n",
       " [5071, 3],\n",
       " [5082, 8],\n",
       " [5173, 6],\n",
       " [5173, 7],\n",
       " [5185, 9],\n",
       " [5210, 5],\n",
       " [5221, 2],\n",
       " [5221, 3],\n",
       " [5221, 4],\n",
       " [5230, 8],\n",
       " [5249, 5],\n",
       " [5289, 7],\n",
       " [5293, 3],\n",
       " [5328, 5],\n",
       " [5339, 7],\n",
       " [5340, 0],\n",
       " [5406, 1],\n",
       " [5427, 0],\n",
       " [5458, 0],\n",
       " [5459, 4],\n",
       " [5494, 4],\n",
       " [5519, 4],\n",
       " [5521, 2],\n",
       " [5529, 0],\n",
       " [5535, 8],\n",
       " [5550, 8],\n",
       " [5591, 3],\n",
       " [5625, 4],\n",
       " [5629, 5],\n",
       " [5634, 7],\n",
       " [5673, 0],\n",
       " [5690, 0],\n",
       " [5694, 0],\n",
       " [5696, 6],\n",
       " [5712, 1],\n",
       " [5768, 7],\n",
       " [5776, 5],\n",
       " [5782, 8],\n",
       " [5784, 0],\n",
       " [5804, 7],\n",
       " [5871, 9],\n",
       " [5873, 2],\n",
       " [5873, 3],\n",
       " [5895, 1],\n",
       " [5914, 6],\n",
       " [5919, 0],\n",
       " [5969, 5],\n",
       " [5998, 2],\n",
       " [6010, 6],\n",
       " [6031, 5],\n",
       " [6034, 1],\n",
       " [6145, 7],\n",
       " [6149, 9],\n",
       " [6163, 5],\n",
       " [6172, 3],\n",
       " [6192, 0],\n",
       " [6209, 0],\n",
       " [6209, 3],\n",
       " [6263, 7],\n",
       " [6273, 9],\n",
       " [6303, 9],\n",
       " [6331, 1],\n",
       " [6339, 1],\n",
       " [6365, 4],\n",
       " [6366, 7],\n",
       " [6372, 5],\n",
       " [6372, 7],\n",
       " [6412, 7],\n",
       " [6413, 1],\n",
       " [6413, 4],\n",
       " [6447, 6],\n",
       " [6460, 0],\n",
       " [6480, 5],\n",
       " [6492, 1],\n",
       " [6521, 9],\n",
       " [6539, 4],\n",
       " [6572, 0],\n",
       " [6581, 5],\n",
       " [6588, 5],\n",
       " [6643, 6],\n",
       " [6645, 5],\n",
       " [6649, 7],\n",
       " [6671, 6],\n",
       " [6671, 9],\n",
       " [6673, 8],\n",
       " [6689, 0],\n",
       " [6710, 7],\n",
       " [6781, 2],\n",
       " [6807, 9],\n",
       " [6809, 7],\n",
       " [6832, 8],\n",
       " [6857, 3],\n",
       " [6887, 8],\n",
       " [6897, 9],\n",
       " [6901, 3],\n",
       " [6956, 3],\n",
       " [6977, 6],\n",
       " [6978, 7],\n",
       " [7062, 0],\n",
       " [7064, 1],\n",
       " [7070, 7],\n",
       " [7082, 4],\n",
       " [7148, 0],\n",
       " [7149, 1],\n",
       " [7152, 2],\n",
       " [7165, 6],\n",
       " [7175, 8],\n",
       " [7183, 2],\n",
       " [7206, 0],\n",
       " [7227, 3],\n",
       " [7253, 6],\n",
       " [7292, 9],\n",
       " [7329, 3],\n",
       " [7337, 5],\n",
       " [7359, 0],\n",
       " [7364, 6],\n",
       " [7391, 6],\n",
       " [7504, 0],\n",
       " [7512, 6],\n",
       " [7512, 8],\n",
       " [7512, 9],\n",
       " [7518, 3],\n",
       " [7541, 7],\n",
       " [7594, 3],\n",
       " [7627, 9],\n",
       " [7640, 1],\n",
       " [7651, 7],\n",
       " [7744, 1],\n",
       " [7744, 3],\n",
       " [7767, 6],\n",
       " [7771, 8],\n",
       " [7777, 8],\n",
       " [7816, 9],\n",
       " [7817, 2],\n",
       " [7833, 9],\n",
       " [7841, 3],\n",
       " [7852, 6],\n",
       " [7855, 7],\n",
       " [7859, 5],\n",
       " [7862, 1],\n",
       " [7877, 5],\n",
       " [7894, 1],\n",
       " [7951, 3],\n",
       " [7979, 8],\n",
       " [8022, 9],\n",
       " [8057, 9],\n",
       " [8081, 6],\n",
       " [8090, 5],\n",
       " [8092, 0],\n",
       " [8129, 0],\n",
       " [8157, 8],\n",
       " [8190, 0],\n",
       " [8191, 8],\n",
       " [8191, 9],\n",
       " [8214, 4],\n",
       " [8216, 2],\n",
       " [8221, 6],\n",
       " [8231, 8],\n",
       " [8235, 5],\n",
       " [8237, 3],\n",
       " [8268, 2],\n",
       " [8309, 5],\n",
       " [8328, 5],\n",
       " [8348, 6],\n",
       " [8390, 9],\n",
       " [8406, 0],\n",
       " [8412, 9],\n",
       " [8420, 5],\n",
       " [8423, 5],\n",
       " [8471, 1],\n",
       " [8497, 4],\n",
       " [8512, 6],\n",
       " [8514, 9],\n",
       " [8515, 2],\n",
       " [8521, 6],\n",
       " [8592, 0],\n",
       " [8619, 9],\n",
       " [8657, 0],\n",
       " [8669, 5],\n",
       " [8673, 1],\n",
       " [8677, 3],\n",
       " [8681, 8],\n",
       " [8742, 5],\n",
       " [8800, 6],\n",
       " [8808, 6],\n",
       " [8912, 8],\n",
       " [8952, 8],\n",
       " [8956, 6],\n",
       " [9014, 4],\n",
       " [9080, 9],\n",
       " [9096, 0],\n",
       " [9106, 4],\n",
       " [9132, 5],\n",
       " [9164, 3],\n",
       " [9195, 7],\n",
       " [9212, 9],\n",
       " [9220, 7],\n",
       " [9284, 8],\n",
       " [9294, 9],\n",
       " [9297, 1],\n",
       " [9311, 4],\n",
       " [9321, 7],\n",
       " [9387, 0],\n",
       " [9396, 4],\n",
       " [9399, 0],\n",
       " [9419, 6],\n",
       " [9447, 8],\n",
       " [9447, 9],\n",
       " [9449, 6],\n",
       " [9456, 3],\n",
       " [9467, 9],\n",
       " [9472, 5],\n",
       " [9492, 2],\n",
       " [9499, 1],\n",
       " [9531, 6],\n",
       " [9569, 8],\n",
       " [9581, 6],\n",
       " [9633, 7],\n",
       " [9677, 6],\n",
       " [9694, 0],\n",
       " [9724, 5],\n",
       " [9746, 7],\n",
       " [9780, 0],\n",
       " [9790, 3],\n",
       " [9799, 0],\n",
       " [9817, 7],\n",
       " [9827, 5],\n",
       " [9828, 9],\n",
       " [9838, 5],\n",
       " [9847, 0],\n",
       " [9912, 7],\n",
       " [9947, 4]]"
      ]
     },
     "metadata": {},
     "execution_count": 37
    }
   ],
   "source": [
    "# 각 아이템 구매한 유저들 번호 \n",
    "\n",
    "troll_playerList = []\n",
    "for gameCnt in tqdm(range(gameNum)) : \n",
    "    for i in range(10) :\n",
    "        summoner_itemDict = {}\n",
    "        for it in itemStr :\n",
    "            if summoner_itemDict.get(data[gameCnt]['participants'][i]['stats'][it])==None :\n",
    "                summoner_itemDict[data[gameCnt]['participants'][i]['stats'][it]] = 1\n",
    "            else :\n",
    "                summoner_itemDict[data[gameCnt]['participants'][i]['stats'][it]] += 1\n",
    "        \n",
    "        for itemNum in summoner_itemDict.keys() :\n",
    "            if (itemNum in overTwo and summoner_itemDict[itemNum]>=2  ) or (itemNum in overSix and summoner_itemDict[itemNum]==6):\n",
    "                troll_playerList.append([gameCnt,i])\n",
    "\n",
    "troll_playerList"
   ]
  },
  {
   "cell_type": "code",
   "execution_count": 38,
   "metadata": {},
   "outputs": [
    {
     "output_type": "execute_result",
     "data": {
      "text/plain": [
       "531"
      ]
     },
     "metadata": {},
     "execution_count": 38
    }
   ],
   "source": [
    "len(troll_playerList)"
   ]
  },
  {
   "cell_type": "code",
   "execution_count": 39,
   "metadata": {},
   "outputs": [
    {
     "output_type": "execute_result",
     "data": {
      "text/plain": [
       "[('Dw-MTTbD78UU4xosHihNXSRXgt4nUqfHz-FA7KjutKp1BoM', 8),\n",
       " ('2zz5blkjYNGp3ypIf2Rv7hlmgaFP0Lyfur8Ukzujua4zDQ', 4),\n",
       " ('3lZaLVQn3BXZIMrWRF2iWerxroM2l2A68XzMnZlKEF6p72k', 3),\n",
       " ('RSqzwOlH-hgS7kM1cUC9Uwhkt6VbZgcRT1Ei7FA-LBgdSg', 3),\n",
       " ('51CMgUaia2ZlTo8TkFv16pMN_TMXUF6ww8xDnJl60t8mJuo', 3),\n",
       " ('0M-qX85hegHj_x4YcMHTMH8qOFoD1LzCF5SMfIbCbJKWXtEk', 3),\n",
       " ('T6kOMf_mNkBLI9Xp9jyDOOCk3BNABZFVAPHbEf2ePIcvLI0', 3),\n",
       " ('5vCLowVZKtjWAIRwXBnSn_URa6IXuofykrPlA_RQsMOFmiE', 2),\n",
       " ('ymlzljXNA_w9OmCAlHg1Ns75s0phoHd1impHcs1nNEdjDN5y', 2),\n",
       " ('juNijhT5GlFctS2exDpU5IePH6cOECrAswzCvkbgcQfgwFw', 2),\n",
       " ('V4FkX5KuO7uY_OycSLuS2higoeNDlNQUrBFPHnmgZHaGsfg', 2),\n",
       " ('ZDGZuk8A8eEkqfoumh4Sgm4VXl-VixXbl7ArZm83S67cB4A', 2),\n",
       " ('XUzUPejBupr83KUVEcH5yh5zZHMuXyu58bwVHCTDzZFxI9Y', 2),\n",
       " ('mOsGKBOaxsQQx0EPiFJxQxHOu2f6I4iJgRp1dTUCfh6k4Ahg', 2),\n",
       " ('kW9Fg7SpHhVH2DTxf2alC8yx2Ks4sRipqJtaSIkj5CoVGN0', 2),\n",
       " ('EIZjUUsXJbQznvjnl0F9TtqlRNstoOzX6LJY1w9jVtHBq-E', 2),\n",
       " ('wWMFdZaEzk3xgpHZos326mUsrcbFfU_EbzxHVSI00uJxcw', 2),\n",
       " ('2qzOcd22gAk-zwBVPJcEX8JIAsvnIYMldyapQfS8ptL9sMI', 2),\n",
       " ('z3tI_NGs85eavDq45gGFgkzFJTVLAlRnQeG0pkp6djkfDeA', 2),\n",
       " ('5xkIxvJR1mlGKIdoRjLDvo17jj_RP9Cl_BR7yo0wvd-LnMU', 2)]"
      ]
     },
     "metadata": {},
     "execution_count": 39
    }
   ],
   "source": [
    "#dictionary에 troll_player들 넣어서 각 유저별 아이템 판매횟수 확인\n",
    "\n",
    "troll_player_dict = {}\n",
    "\n",
    "for game_num,player_cnt in troll_playerList :\n",
    "    if troll_player_dict.get(data[game_num]['participantidentities'][player_cnt]['player']['summonerid']) == None :\n",
    "        troll_player_dict[data[game_num]['participantidentities'][player_cnt]['player']['summonerid']] = 1\n",
    "    else :\n",
    "        troll_player_dict[data[game_num]['participantidentities'][player_cnt]['player']['summonerid']] += 1\n",
    "\n",
    "troll_player_dict_sorted = sorted(troll_player_dict.items(),key = lambda x : x[1], reverse=True)\n",
    "\n",
    "troll_player_dict_sorted[:20]"
   ]
  },
  {
   "cell_type": "code",
   "execution_count": 40,
   "metadata": {},
   "outputs": [],
   "source": [
    "for i,item_num in enumerate(itemStr) : \n",
    "    x_data[item_num] = items[i]"
   ]
  },
  {
   "cell_type": "code",
   "execution_count": 51,
   "metadata": {},
   "outputs": [
    {
     "output_type": "execute_result",
     "data": {
      "text/plain": [
       "str"
      ]
     },
     "metadata": {},
     "execution_count": 51
    }
   ],
   "source": [
    "type(df_shuffled_image_html)"
   ]
  },
  {
   "cell_type": "code",
   "execution_count": null,
   "metadata": {},
   "outputs": [],
   "source": [
    "with open('df_shuffled_image_html.html', 'a') as df_shuffled_image_html:\n",
    "   df_shuffled_image_html.write(html_text)"
   ]
  },
  {
   "cell_type": "code",
   "execution_count": 41,
   "metadata": {},
   "outputs": [
    {
     "output_type": "stream",
     "name": "stderr",
     "text": [
      "100%|██████████| 6/6 [00:00<00:00, 300.08it/s]\n",
      "100%|██████████| 6/6 [00:00<00:00, 1200.14it/s]\n"
     ]
    },
    {
     "output_type": "execute_result",
     "data": {
      "text/html": "<table border=\"1\" class=\"dataframe\">\n  <thead>\n    <tr style=\"text-align: right;\">\n      <th></th>\n      <th>kill</th>\n      <th>assist</th>\n      <th>death</th>\n      <th>gold</th>\n      <th>level</th>\n      <th>troll</th>\n      <th>championid</th>\n      <th>summoner_id</th>\n      <th>item0</th>\n      <th>item1</th>\n      <th>item2</th>\n      <th>item3</th>\n      <th>item4</th>\n      <th>item5</th>\n    </tr>\n  </thead>\n  <tbody>\n    <tr>\n      <th>7515</th>\n      <td>2.173647</td>\n      <td>1.767286</td>\n      <td>-1.350843</td>\n      <td>2.678697</td>\n      <td>1.707086</td>\n      <td>0</td>\n      <td>82</td>\n      <td>Dw-MTTbD78UU4xosHihNXSRXgt4nUqfHz-FA7KjutKp1BoM</td>\n      <td><img src = ' http://ddragon.leagueoflegends.com/cdn/10.18.1/img/item/1006.png' weight=25 height=25></td>\n      <td><img src = ' http://ddragon.leagueoflegends.com/cdn/10.18.1/img/item/1006.png' weight=25 height=25></td>\n      <td><img src = ' http://ddragon.leagueoflegends.com/cdn/10.18.1/img/item/1006.png' weight=25 height=25></td>\n      <td><img src = ' http://ddragon.leagueoflegends.com/cdn/10.18.1/img/item/1006.png' weight=25 height=25></td>\n      <td><img src = ' http://ddragon.leagueoflegends.com/cdn/10.18.1/img/item/1006.png' weight=25 height=25></td>\n      <td><img src = ' http://ddragon.leagueoflegends.com/cdn/10.18.1/img/item/1006.png' weight=25 height=25></td>\n    </tr>\n    <tr>\n      <th>8295</th>\n      <td>-0.955169</td>\n      <td>0.709283</td>\n      <td>-0.965989</td>\n      <td>0.282145</td>\n      <td>0.967431</td>\n      <td>0</td>\n      <td>350</td>\n      <td>Dw-MTTbD78UU4xosHihNXSRXgt4nUqfHz-FA7KjutKp1BoM</td>\n      <td><img src = ' http://ddragon.leagueoflegends.com/cdn/10.18.1/img/item/1006.png' weight=25 height=25></td>\n      <td><img src = ' http://ddragon.leagueoflegends.com/cdn/10.18.1/img/item/1006.png' weight=25 height=25></td>\n      <td><img src = ' http://ddragon.leagueoflegends.com/cdn/10.18.1/img/item/1006.png' weight=25 height=25></td>\n      <td><img src = ' http://ddragon.leagueoflegends.com/cdn/10.18.1/img/item/1006.png' weight=25 height=25></td>\n      <td><img src = ' http://ddragon.leagueoflegends.com/cdn/10.18.1/img/item/1006.png' weight=25 height=25></td>\n      <td><img src = ' http://ddragon.leagueoflegends.com/cdn/10.18.1/img/item/1006.png' weight=25 height=25></td>\n    </tr>\n    <tr>\n      <th>34890</th>\n      <td>-1.101918</td>\n      <td>-1.588167</td>\n      <td>-0.964603</td>\n      <td>-2.027894</td>\n      <td>-3.399348</td>\n      <td>0</td>\n      <td>81</td>\n      <td>Dw-MTTbD78UU4xosHihNXSRXgt4nUqfHz-FA7KjutKp1BoM</td>\n      <td><img src = ' http://ddragon.leagueoflegends.com/cdn/10.18.1/img/item/1006.png' weight=25 height=25></td>\n      <td><img src = ' http://ddragon.leagueoflegends.com/cdn/10.18.1/img/item/1006.png' weight=25 height=25></td>\n      <td><img src = ' http://ddragon.leagueoflegends.com/cdn/10.18.1/img/item/1006.png' weight=25 height=25></td>\n      <td><img src = ' http://ddragon.leagueoflegends.com/cdn/10.18.1/img/item/1006.png' weight=25 height=25></td>\n      <td><img src = ' http://ddragon.leagueoflegends.com/cdn/10.18.1/img/item/1006.png' weight=25 height=25></td>\n      <td><img src = ' http://ddragon.leagueoflegends.com/cdn/10.18.1/img/item/1006.png' weight=25 height=25></td>\n    </tr>\n    <tr>\n      <th>39785</th>\n      <td>0.589583</td>\n      <td>-1.515974</td>\n      <td>2.490203</td>\n      <td>-0.290494</td>\n      <td>-0.423415</td>\n      <td>0</td>\n      <td>235</td>\n      <td>Dw-MTTbD78UU4xosHihNXSRXgt4nUqfHz-FA7KjutKp1BoM</td>\n      <td><img src = ' http://ddragon.leagueoflegends.com/cdn/10.18.1/img/item/1006.png' weight=25 height=25></td>\n      <td><img src = ' http://ddragon.leagueoflegends.com/cdn/10.18.1/img/item/1006.png' weight=25 height=25></td>\n      <td><img src = ' http://ddragon.leagueoflegends.com/cdn/10.18.1/img/item/1006.png' weight=25 height=25></td>\n      <td><img src = ' http://ddragon.leagueoflegends.com/cdn/10.18.1/img/item/1006.png' weight=25 height=25></td>\n      <td><img src = ' http://ddragon.leagueoflegends.com/cdn/10.18.1/img/item/1006.png' weight=25 height=25></td>\n      <td><img src = ' http://ddragon.leagueoflegends.com/cdn/10.18.1/img/item/1006.png' weight=25 height=25></td>\n    </tr>\n    <tr>\n      <th>40275</th>\n      <td>-1.392273</td>\n      <td>-1.683863</td>\n      <td>0.361523</td>\n      <td>-3.352880</td>\n      <td>-6.246304</td>\n      <td>0</td>\n      <td>51</td>\n      <td>Dw-MTTbD78UU4xosHihNXSRXgt4nUqfHz-FA7KjutKp1BoM</td>\n      <td><img src = ' http://ddragon.leagueoflegends.com/cdn/10.18.1/img/item/1006.png' weight=25 height=25></td>\n      <td><img src = ' http://ddragon.leagueoflegends.com/cdn/10.18.1/img/item/1006.png' weight=25 height=25></td>\n      <td></td>\n      <td></td>\n      <td></td>\n      <td></td>\n    </tr>\n    <tr>\n      <th>43938</th>\n      <td>-0.231920</td>\n      <td>-0.731629</td>\n      <td>-0.074163</td>\n      <td>-1.208704</td>\n      <td>-1.738174</td>\n      <td>0</td>\n      <td>81</td>\n      <td>Dw-MTTbD78UU4xosHihNXSRXgt4nUqfHz-FA7KjutKp1BoM</td>\n      <td><img src = ' http://ddragon.leagueoflegends.com/cdn/10.18.1/img/item/1006.png' weight=25 height=25></td>\n      <td><img src = ' http://ddragon.leagueoflegends.com/cdn/10.18.1/img/item/1006.png' weight=25 height=25></td>\n      <td><img src = ' http://ddragon.leagueoflegends.com/cdn/10.18.1/img/item/1006.png' weight=25 height=25></td>\n      <td><img src = ' http://ddragon.leagueoflegends.com/cdn/10.18.1/img/item/1006.png' weight=25 height=25></td>\n      <td><img src = ' http://ddragon.leagueoflegends.com/cdn/10.18.1/img/item/1006.png' weight=25 height=25></td>\n      <td><img src = ' http://ddragon.leagueoflegends.com/cdn/10.18.1/img/item/1006.png' weight=25 height=25></td>\n    </tr>\n    <tr>\n      <th>50828</th>\n      <td>-1.361806</td>\n      <td>-1.588167</td>\n      <td>-0.806331</td>\n      <td>-2.732676</td>\n      <td>-3.832546</td>\n      <td>0</td>\n      <td>81</td>\n      <td>Dw-MTTbD78UU4xosHihNXSRXgt4nUqfHz-FA7KjutKp1BoM</td>\n      <td><img src = ' http://ddragon.leagueoflegends.com/cdn/10.18.1/img/item/1006.png' weight=25 height=25></td>\n      <td><img src = ' http://ddragon.leagueoflegends.com/cdn/10.18.1/img/item/1006.png' weight=25 height=25></td>\n      <td><img src = ' http://ddragon.leagueoflegends.com/cdn/10.18.1/img/item/1006.png' weight=25 height=25></td>\n      <td><img src = ' http://ddragon.leagueoflegends.com/cdn/10.18.1/img/item/1006.png' weight=25 height=25></td>\n      <td><img src = ' http://ddragon.leagueoflegends.com/cdn/10.18.1/img/item/1006.png' weight=25 height=25></td>\n      <td><img src = ' http://ddragon.leagueoflegends.com/cdn/10.18.1/img/item/1006.png' weight=25 height=25></td>\n    </tr>\n    <tr>\n      <th>52933</th>\n      <td>-1.164665</td>\n      <td>-1.001022</td>\n      <td>-0.632536</td>\n      <td>-1.621782</td>\n      <td>-1.183154</td>\n      <td>0</td>\n      <td>235</td>\n      <td>Dw-MTTbD78UU4xosHihNXSRXgt4nUqfHz-FA7KjutKp1BoM</td>\n      <td><img src = ' http://ddragon.leagueoflegends.com/cdn/10.18.1/img/item/1006.png' weight=25 height=25></td>\n      <td><img src = ' http://ddragon.leagueoflegends.com/cdn/10.18.1/img/item/1006.png' weight=25 height=25></td>\n      <td><img src = ' http://ddragon.leagueoflegends.com/cdn/10.18.1/img/item/1006.png' weight=25 height=25></td>\n      <td><img src = ' http://ddragon.leagueoflegends.com/cdn/10.18.1/img/item/1006.png' weight=25 height=25></td>\n      <td><img src = ' http://ddragon.leagueoflegends.com/cdn/10.18.1/img/item/1006.png' weight=25 height=25></td>\n      <td><img src = ' http://ddragon.leagueoflegends.com/cdn/10.18.1/img/item/1006.png' weight=25 height=25></td>\n    </tr>\n    <tr>\n      <th>64090</th>\n      <td>-0.214889</td>\n      <td>0.430128</td>\n      <td>-1.451541</td>\n      <td>0.325548</td>\n      <td>0.549773</td>\n      <td>0</td>\n      <td>350</td>\n      <td>Dw-MTTbD78UU4xosHihNXSRXgt4nUqfHz-FA7KjutKp1BoM</td>\n      <td></td>\n      <td></td>\n      <td><img src = ' http://ddragon.leagueoflegends.com/cdn/10.18.1/img/item/3853.png' weight=25 height=25></td>\n      <td><img src = ' http://ddragon.leagueoflegends.com/cdn/10.18.1/img/item/3504.png' weight=25 height=25></td>\n      <td><img src = ' http://ddragon.leagueoflegends.com/cdn/10.18.1/img/item/3114.png' weight=25 height=25></td>\n      <td><img src = ' http://ddragon.leagueoflegends.com/cdn/10.18.1/img/item/3174.png' weight=25 height=25></td>\n    </tr>\n    <tr>\n      <th>69787</th>\n      <td>-0.179052</td>\n      <td>1.058447</td>\n      <td>-1.732681</td>\n      <td>0.763133</td>\n      <td>0.056198</td>\n      <td>0</td>\n      <td>103</td>\n      <td>Dw-MTTbD78UU4xosHihNXSRXgt4nUqfHz-FA7KjutKp1BoM</td>\n      <td><img src = ' http://ddragon.leagueoflegends.com/cdn/10.18.1/img/item/1006.png' weight=25 height=25></td>\n      <td><img src = ' http://ddragon.leagueoflegends.com/cdn/10.18.1/img/item/1006.png' weight=25 height=25></td>\n      <td><img src = ' http://ddragon.leagueoflegends.com/cdn/10.18.1/img/item/1006.png' weight=25 height=25></td>\n      <td><img src = ' http://ddragon.leagueoflegends.com/cdn/10.18.1/img/item/1006.png' weight=25 height=25></td>\n      <td><img src = ' http://ddragon.leagueoflegends.com/cdn/10.18.1/img/item/1006.png' weight=25 height=25></td>\n      <td><img src = ' http://ddragon.leagueoflegends.com/cdn/10.18.1/img/item/1006.png' weight=25 height=25></td>\n    </tr>\n  </tbody>\n</table>",
      "text/plain": [
       "<IPython.core.display.HTML object>"
      ]
     },
     "metadata": {},
     "execution_count": 41
    }
   ],
   "source": [
    "from IPython.core.display import HTML\n",
    "\n",
    "most_troll_player_id = troll_player_dict_sorted[0][0]\n",
    "\n",
    "df_shuffled_image = x_data[x_data['summoner_id'] == most_troll_player_id]\n",
    "\n",
    "for item_num in tqdm(itemStr) :\n",
    "    df_shuffled_image[item_num] = df_shuffled_image[item_num].astype(str)\n",
    "    df_shuffled_image[item_num] = '<img src = \\' http://ddragon.leagueoflegends.com/cdn/10.18.1/img/item/' + df_shuffled_image[item_num] + '.png\\' weight=25 height=25>'\n",
    "\n",
    "for item_num in tqdm(itemStr) :\n",
    "    for i,item_img in enumerate(df_shuffled_image[item_num]) :\n",
    "        if item_img == \"<img src = \\' http://ddragon.leagueoflegends.com/cdn/10.18.1/img/item/0.png\\' weight=25 height=25>\" :\n",
    "            df_shuffled_image[item_num][df_shuffled_image.index[i]] = ''\n",
    "\n",
    "df_shuffled_image_html=df_shuffled_image.to_html(escape=False)\n",
    "#print(df_shuffled_image_html[:1600])\n",
    "HTML(df_shuffled_image_html)\n",
    "\n",
    "\n"
   ]
  },
  {
   "cell_type": "code",
   "execution_count": 42,
   "metadata": {},
   "outputs": [
    {
     "output_type": "stream",
     "name": "stdout",
     "text": [
      "-0.38384616056855597 -0.5126960483286783 -0.4143678177120142 -0.7184906737014559 -1.354245205461863\n"
     ]
    }
   ],
   "source": [
    "print(x_data[x_data['summoner_id'] == most_troll_player_id]['kill'].mean(),x_data[x_data['summoner_id'] == most_troll_player_id]['death'].mean(),x_data[x_data['summoner_id'] == most_troll_player_id]['assist'].mean(),x_data[x_data['summoner_id'] == most_troll_player_id]['gold'].mean(),x_data[x_data['summoner_id'] == most_troll_player_id]['level'].mean())\n"
   ]
  },
  {
   "cell_type": "code",
   "execution_count": 43,
   "metadata": {},
   "outputs": [
    {
     "output_type": "execute_result",
     "data": {
      "text/plain": [
       "487"
      ]
     },
     "metadata": {},
     "execution_count": 43
    }
   ],
   "source": [
    "#troll_player_dict[-10:]\n",
    "len(troll_player_dict)"
   ]
  },
  {
   "cell_type": "code",
   "execution_count": 44,
   "metadata": {},
   "outputs": [],
   "source": [
    "pd.set_option('display.max_colwidth', 500)"
   ]
  },
  {
   "cell_type": "code",
   "execution_count": 45,
   "metadata": {},
   "outputs": [],
   "source": [
    "# from IPython.core.display import HTML\n",
    "\n",
    "# image_ex = pd.DataFrame([('http://ddragon.leagueoflegends.com/cdn/10.18.1/img/item/1001.png')])\n",
    "\n",
    "# image_ex=image_ex.append(['http://ddragon.leagueoflegends.com/cdn/10.18.1/img/item/1004.png'] )\n",
    "\n",
    "# image_ex[0] = '<img src = \\'' + image_ex[0] + '\\' weight=100 height=100>'\n",
    "\n",
    "# image_html=image_ex.to_html(escape=False)\n",
    "\n",
    "# HTML(image_html)"
   ]
  },
  {
   "cell_type": "code",
   "execution_count": 46,
   "metadata": {},
   "outputs": [
    {
     "output_type": "error",
     "ename": "NameError",
     "evalue": "name 'image_html' is not defined",
     "traceback": [
      "\u001b[1;31m---------------------------------------------------------------------------\u001b[0m",
      "\u001b[1;31mNameError\u001b[0m                                 Traceback (most recent call last)",
      "\u001b[1;32m<ipython-input-46-8b8e549999c8>\u001b[0m in \u001b[0;36m<module>\u001b[1;34m\u001b[0m\n\u001b[1;32m----> 1\u001b[1;33m \u001b[0mtype\u001b[0m\u001b[1;33m(\u001b[0m\u001b[0mimage_html\u001b[0m\u001b[1;33m)\u001b[0m\u001b[1;33m\u001b[0m\u001b[0m\n\u001b[0m",
      "\u001b[1;31mNameError\u001b[0m: name 'image_html' is not defined"
     ]
    }
   ],
   "source": [
    "type(image_html)"
   ]
  },
  {
   "cell_type": "code",
   "execution_count": 44,
   "metadata": {},
   "outputs": [
    {
     "output_type": "stream",
     "name": "stderr",
     "text": [
      "100%|██████████| 2878/2878 [00:03<00:00, 768.91it/s]\n"
     ]
    },
    {
     "output_type": "execute_result",
     "data": {
      "text/html": "<div>\n<style scoped>\n    .dataframe tbody tr th:only-of-type {\n        vertical-align: middle;\n    }\n\n    .dataframe tbody tr th {\n        vertical-align: top;\n    }\n\n    .dataframe thead th {\n        text-align: right;\n    }\n</style>\n<table border=\"1\" class=\"dataframe\">\n  <thead>\n    <tr style=\"text-align: right;\">\n      <th></th>\n      <th>kill</th>\n      <th>assist</th>\n      <th>death</th>\n      <th>gold</th>\n      <th>level</th>\n      <th>troll</th>\n      <th>championid</th>\n      <th>summoner_id</th>\n      <th>item0</th>\n      <th>item1</th>\n      <th>item2</th>\n      <th>item3</th>\n      <th>item4</th>\n      <th>item5</th>\n    </tr>\n  </thead>\n  <tbody>\n    <tr>\n      <th>0</th>\n      <td>-0.354300</td>\n      <td>1.713000</td>\n      <td>-0.423267</td>\n      <td>-0.450153</td>\n      <td>-0.586478</td>\n      <td>0</td>\n      <td>38</td>\n      <td>PF7wuKbEjIH7bUEivDRsJbiah9EF9EzRPO-LFLucLai7avA</td>\n      <td>1054</td>\n      <td>3003</td>\n      <td>2421</td>\n      <td>3020</td>\n      <td>3027</td>\n      <td>0</td>\n    </tr>\n    <tr>\n      <th>1</th>\n      <td>1.203082</td>\n      <td>0.250536</td>\n      <td>1.275325</td>\n      <td>0.467636</td>\n      <td>-0.207582</td>\n      <td>0</td>\n      <td>497</td>\n      <td>JRuCiFpuzcsnQ9Gadn5A_0bm66-PrFaA3WKP5juhgetrx3Y</td>\n      <td>2065</td>\n      <td>3109</td>\n      <td>3859</td>\n      <td>0</td>\n      <td>0</td>\n      <td>3117</td>\n    </tr>\n    <tr>\n      <th>2</th>\n      <td>0.913792</td>\n      <td>-0.223291</td>\n      <td>0.507604</td>\n      <td>0.442982</td>\n      <td>-0.516673</td>\n      <td>0</td>\n      <td>164</td>\n      <td>o5ZjlQkLgDZzDG_dkT0GVL7X34kp51abqkUN6P7K2WPeY1dy</td>\n      <td>1055</td>\n      <td>3105</td>\n      <td>3078</td>\n      <td>3158</td>\n      <td>1036</td>\n      <td>3074</td>\n    </tr>\n    <tr>\n      <th>3</th>\n      <td>-1.039395</td>\n      <td>0.316755</td>\n      <td>1.627199</td>\n      <td>-0.885815</td>\n      <td>-0.683338</td>\n      <td>0</td>\n      <td>19</td>\n      <td>TUdiT-gEHdtkmr9JkhqvtNy5L_nutzsw2oH23kgO71NSsA</td>\n      <td>1413</td>\n      <td>3748</td>\n      <td>2055</td>\n      <td>1028</td>\n      <td>3009</td>\n      <td>1029</td>\n    </tr>\n    <tr>\n      <th>4</th>\n      <td>0.826825</td>\n      <td>-0.105975</td>\n      <td>-0.524920</td>\n      <td>0.064029</td>\n      <td>0.080793</td>\n      <td>0</td>\n      <td>145</td>\n      <td>qmcY1AJTdznK_aTgW2e1qwCY1uwbam9HU09Wsa7nI9Wt5sYQ</td>\n      <td>1055</td>\n      <td>1052</td>\n      <td>3134</td>\n      <td>3508</td>\n      <td>3006</td>\n      <td>3115</td>\n    </tr>\n    <tr>\n      <th>...</th>\n      <td>...</td>\n      <td>...</td>\n      <td>...</td>\n      <td>...</td>\n      <td>...</td>\n      <td>...</td>\n      <td>...</td>\n      <td>...</td>\n      <td>...</td>\n      <td>...</td>\n      <td>...</td>\n      <td>...</td>\n      <td>...</td>\n      <td>...</td>\n    </tr>\n    <tr>\n      <th>499995</th>\n      <td>-0.647090</td>\n      <td>-1.675563</td>\n      <td>0.220612</td>\n      <td>-0.763886</td>\n      <td>-0.275209</td>\n      <td>0</td>\n      <td>76</td>\n      <td>MBeOxVqTseMAoDvr6pXpABqiWNgZPYj-xqTwsMTPQzpIzzs</td>\n      <td>1414</td>\n      <td>1052</td>\n      <td>3158</td>\n      <td>3100</td>\n      <td>1029</td>\n      <td>0</td>\n    </tr>\n    <tr>\n      <th>499996</th>\n      <td>-1.337254</td>\n      <td>-0.843469</td>\n      <td>0.322117</td>\n      <td>-1.838872</td>\n      <td>-1.022104</td>\n      <td>0</td>\n      <td>114</td>\n      <td>3ZK5oy4Sp1iXUCjGqZwVxxdipu2DDrHI14U9L0fXEEMC7P0</td>\n      <td>0</td>\n      <td>3074</td>\n      <td>0</td>\n      <td>0</td>\n      <td>0</td>\n      <td>0</td>\n    </tr>\n    <tr>\n      <th>499997</th>\n      <td>-0.366632</td>\n      <td>0.350473</td>\n      <td>1.505000</td>\n      <td>0.109395</td>\n      <td>1.359512</td>\n      <td>0</td>\n      <td>53</td>\n      <td>EqZgtCxYd5MqQiRypqDJCwGaGneuFF_5eQRo9wq3nJFW4Q</td>\n      <td>3857</td>\n      <td>3152</td>\n      <td>2031</td>\n      <td>3117</td>\n      <td>3024</td>\n      <td>0</td>\n    </tr>\n    <tr>\n      <th>499998</th>\n      <td>-0.137708</td>\n      <td>-0.207421</td>\n      <td>-0.328709</td>\n      <td>-0.779981</td>\n      <td>0.199627</td>\n      <td>0</td>\n      <td>238</td>\n      <td>a_dqCx7bUOtfGOjdF2n8o1XZ6FQNpa7PO6JPpzKWHSeBx4Y</td>\n      <td>3142</td>\n      <td>2055</td>\n      <td>3147</td>\n      <td>0</td>\n      <td>3047</td>\n      <td>0</td>\n    </tr>\n    <tr>\n      <th>499999</th>\n      <td>-0.109169</td>\n      <td>-0.723988</td>\n      <td>2.217483</td>\n      <td>-0.436961</td>\n      <td>0.422144</td>\n      <td>0</td>\n      <td>236</td>\n      <td>e3eb_pu7V4wnEnG7QQjFlrdaKp_PgVtkjNrODhN1SBtmjUM</td>\n      <td>1055</td>\n      <td>3153</td>\n      <td>3047</td>\n      <td>3133</td>\n      <td>1038</td>\n      <td>0</td>\n    </tr>\n  </tbody>\n</table>\n<p>500000 rows × 14 columns</p>\n</div>",
      "text/plain": [
       "            kill    assist     death      gold     level  troll  championid  \\\n",
       "0      -0.354300  1.713000 -0.423267 -0.450153 -0.586478      0          38   \n",
       "1       1.203082  0.250536  1.275325  0.467636 -0.207582      0         497   \n",
       "2       0.913792 -0.223291  0.507604  0.442982 -0.516673      0         164   \n",
       "3      -1.039395  0.316755  1.627199 -0.885815 -0.683338      0          19   \n",
       "4       0.826825 -0.105975 -0.524920  0.064029  0.080793      0         145   \n",
       "...          ...       ...       ...       ...       ...    ...         ...   \n",
       "499995 -0.647090 -1.675563  0.220612 -0.763886 -0.275209      0          76   \n",
       "499996 -1.337254 -0.843469  0.322117 -1.838872 -1.022104      0         114   \n",
       "499997 -0.366632  0.350473  1.505000  0.109395  1.359512      0          53   \n",
       "499998 -0.137708 -0.207421 -0.328709 -0.779981  0.199627      0         238   \n",
       "499999 -0.109169 -0.723988  2.217483 -0.436961  0.422144      0         236   \n",
       "\n",
       "                                             summoner_id  item0  item1  item2  \\\n",
       "0        PF7wuKbEjIH7bUEivDRsJbiah9EF9EzRPO-LFLucLai7avA   1054   3003   2421   \n",
       "1        JRuCiFpuzcsnQ9Gadn5A_0bm66-PrFaA3WKP5juhgetrx3Y   2065   3109   3859   \n",
       "2       o5ZjlQkLgDZzDG_dkT0GVL7X34kp51abqkUN6P7K2WPeY1dy   1055   3105   3078   \n",
       "3         TUdiT-gEHdtkmr9JkhqvtNy5L_nutzsw2oH23kgO71NSsA   1413   3748   2055   \n",
       "4       qmcY1AJTdznK_aTgW2e1qwCY1uwbam9HU09Wsa7nI9Wt5sYQ   1055   1052   3134   \n",
       "...                                                  ...    ...    ...    ...   \n",
       "499995   MBeOxVqTseMAoDvr6pXpABqiWNgZPYj-xqTwsMTPQzpIzzs   1414   1052   3158   \n",
       "499996   3ZK5oy4Sp1iXUCjGqZwVxxdipu2DDrHI14U9L0fXEEMC7P0      0   3074      0   \n",
       "499997    EqZgtCxYd5MqQiRypqDJCwGaGneuFF_5eQRo9wq3nJFW4Q   3857   3152   2031   \n",
       "499998   a_dqCx7bUOtfGOjdF2n8o1XZ6FQNpa7PO6JPpzKWHSeBx4Y   3142   2055   3147   \n",
       "499999   e3eb_pu7V4wnEnG7QQjFlrdaKp_PgVtkjNrODhN1SBtmjUM   1055   3153   3047   \n",
       "\n",
       "        item3  item4  item5  \n",
       "0        3020   3027      0  \n",
       "1           0      0   3117  \n",
       "2        3158   1036   3074  \n",
       "3        1028   3009   1029  \n",
       "4        3508   3006   3115  \n",
       "...       ...    ...    ...  \n",
       "499995   3100   1029      0  \n",
       "499996      0      0      0  \n",
       "499997   3117   3024      0  \n",
       "499998      0   3047      0  \n",
       "499999   3133   1038      0  \n",
       "\n",
       "[500000 rows x 14 columns]"
      ]
     },
     "metadata": {},
     "execution_count": 44
    }
   ],
   "source": [
    "for i in tqdm(range(len(troll_playerList))) :\n",
    "    x_data['troll'][troll_playerList[i][0]*10 + troll_playerList[i][1]] = 1\n",
    "x_data"
   ]
  },
  {
   "cell_type": "code",
   "execution_count": 45,
   "metadata": {
    "tags": []
   },
   "outputs": [
    {
     "output_type": "execute_result",
     "data": {
      "text/html": "<div>\n<style scoped>\n    .dataframe tbody tr th:only-of-type {\n        vertical-align: middle;\n    }\n\n    .dataframe tbody tr th {\n        vertical-align: top;\n    }\n\n    .dataframe thead th {\n        text-align: right;\n    }\n</style>\n<table border=\"1\" class=\"dataframe\">\n  <thead>\n    <tr style=\"text-align: right;\">\n      <th></th>\n      <th>kill</th>\n      <th>assist</th>\n      <th>death</th>\n      <th>gold</th>\n      <th>level</th>\n      <th>troll</th>\n      <th>championid</th>\n      <th>summoner_id</th>\n      <th>item0</th>\n      <th>item1</th>\n      <th>item2</th>\n      <th>item3</th>\n      <th>item4</th>\n      <th>item5</th>\n    </tr>\n  </thead>\n  <tbody>\n    <tr>\n      <th>60</th>\n      <td>-0.474647</td>\n      <td>-0.902680</td>\n      <td>1.365034</td>\n      <td>-0.573393</td>\n      <td>-0.744094</td>\n      <td>1</td>\n      <td>22</td>\n      <td>zvgRBByyRKJi5Q1i49N2mcnNSr5IiWKxS5xakwE0_CZqKIs</td>\n      <td>2420</td>\n      <td>2420</td>\n      <td>2420</td>\n      <td>2420</td>\n      <td>2420</td>\n      <td>2420</td>\n    </tr>\n    <tr>\n      <th>139</th>\n      <td>-1.034070</td>\n      <td>-1.325805</td>\n      <td>1.988319</td>\n      <td>-1.753873</td>\n      <td>-0.627826</td>\n      <td>1</td>\n      <td>39</td>\n      <td>6Uz9KiY6ayRRCwhbA6Wc-prEFUfSSAhAmpevAGDprLm6sng</td>\n      <td>2421</td>\n      <td>2421</td>\n      <td>2421</td>\n      <td>2421</td>\n      <td>0</td>\n      <td>0</td>\n    </tr>\n    <tr>\n      <th>229</th>\n      <td>-1.539536</td>\n      <td>-1.518765</td>\n      <td>0.245974</td>\n      <td>-2.474451</td>\n      <td>-1.229963</td>\n      <td>1</td>\n      <td>2</td>\n      <td>p109-T2B_cR4sG_fzAdfyQlj_nWLL5wCCOnSJ00YJEzEP7oR</td>\n      <td>1006</td>\n      <td>1006</td>\n      <td>1006</td>\n      <td>1006</td>\n      <td>1006</td>\n      <td>1006</td>\n    </tr>\n    <tr>\n      <th>304</th>\n      <td>-0.787480</td>\n      <td>-0.177254</td>\n      <td>0.631486</td>\n      <td>-0.728422</td>\n      <td>-0.429515</td>\n      <td>1</td>\n      <td>60</td>\n      <td>VrPo9rsyWtihufnWTwXEF9mMAhzj2qbDvF0FPiZZ0WamQL8</td>\n      <td>1006</td>\n      <td>1006</td>\n      <td>1006</td>\n      <td>1006</td>\n      <td>1006</td>\n      <td>1006</td>\n    </tr>\n    <tr>\n      <th>350</th>\n      <td>-0.635912</td>\n      <td>-0.306484</td>\n      <td>0.777179</td>\n      <td>-0.158367</td>\n      <td>-0.204357</td>\n      <td>1</td>\n      <td>875</td>\n      <td>t8iVT_qOY-mxiRK72VdPxrF-eL8MnCRqc05gZDBYLf2ZzQ</td>\n      <td>1006</td>\n      <td>1006</td>\n      <td>1006</td>\n      <td>1006</td>\n      <td>1006</td>\n      <td>1006</td>\n    </tr>\n    <tr>\n      <th>...</th>\n      <td>...</td>\n      <td>...</td>\n      <td>...</td>\n      <td>...</td>\n      <td>...</td>\n      <td>...</td>\n      <td>...</td>\n      <td>...</td>\n      <td>...</td>\n      <td>...</td>\n      <td>...</td>\n      <td>...</td>\n      <td>...</td>\n      <td>...</td>\n    </tr>\n    <tr>\n      <th>499241</th>\n      <td>-0.373600</td>\n      <td>-1.111804</td>\n      <td>1.442895</td>\n      <td>-0.059352</td>\n      <td>0.009381</td>\n      <td>1</td>\n      <td>429</td>\n      <td>JQDcMZh5mXx0wlFY05Z1ygsBmACrouHksUAr9CmjSX5YI0o</td>\n      <td>1004</td>\n      <td>1004</td>\n      <td>1004</td>\n      <td>1004</td>\n      <td>1004</td>\n      <td>1004</td>\n    </tr>\n    <tr>\n      <th>499243</th>\n      <td>-1.291680</td>\n      <td>-0.942660</td>\n      <td>0.088953</td>\n      <td>-0.026466</td>\n      <td>0.563452</td>\n      <td>1</td>\n      <td>50</td>\n      <td>c60TXBRjMgFIoCVPAHZ6tR4_XXQgrhsmtGHEAgcfNjLEGeg</td>\n      <td>1006</td>\n      <td>1006</td>\n      <td>1006</td>\n      <td>1006</td>\n      <td>1006</td>\n      <td>1006</td>\n    </tr>\n    <tr>\n      <th>499519</th>\n      <td>-0.660758</td>\n      <td>-0.830439</td>\n      <td>1.528880</td>\n      <td>-1.300203</td>\n      <td>-1.293358</td>\n      <td>1</td>\n      <td>777</td>\n      <td>IsZ8l7AN26g-INH_KHk-7e29o7OLirU5dWFOYgXrPAOQcQ</td>\n      <td>1006</td>\n      <td>1006</td>\n      <td>1006</td>\n      <td>1006</td>\n      <td>1006</td>\n      <td>1006</td>\n    </tr>\n    <tr>\n      <th>499694</th>\n      <td>-0.975253</td>\n      <td>-1.454642</td>\n      <td>-0.738311</td>\n      <td>-1.240694</td>\n      <td>-1.339080</td>\n      <td>1</td>\n      <td>350</td>\n      <td>Xaze0GmS3K6xWsajaIUiI_G9YDpSWx9dtqTzuDMvVRwHqQ</td>\n      <td>1004</td>\n      <td>1004</td>\n      <td>1004</td>\n      <td>1004</td>\n      <td>1004</td>\n      <td>1004</td>\n    </tr>\n    <tr>\n      <th>499857</th>\n      <td>-1.500323</td>\n      <td>-1.642129</td>\n      <td>-0.356245</td>\n      <td>-2.205166</td>\n      <td>-1.552990</td>\n      <td>1</td>\n      <td>203</td>\n      <td>iGkeGXiWrZ9GxAboLwsHgWQOeNK6GunF8UhpOEF76qSjXLo</td>\n      <td>1006</td>\n      <td>1006</td>\n      <td>1006</td>\n      <td>1006</td>\n      <td>1006</td>\n      <td>1006</td>\n    </tr>\n  </tbody>\n</table>\n<p>2878 rows × 14 columns</p>\n</div>",
      "text/plain": [
       "            kill    assist     death      gold     level  troll  championid  \\\n",
       "60     -0.474647 -0.902680  1.365034 -0.573393 -0.744094      1          22   \n",
       "139    -1.034070 -1.325805  1.988319 -1.753873 -0.627826      1          39   \n",
       "229    -1.539536 -1.518765  0.245974 -2.474451 -1.229963      1           2   \n",
       "304    -0.787480 -0.177254  0.631486 -0.728422 -0.429515      1          60   \n",
       "350    -0.635912 -0.306484  0.777179 -0.158367 -0.204357      1         875   \n",
       "...          ...       ...       ...       ...       ...    ...         ...   \n",
       "499241 -0.373600 -1.111804  1.442895 -0.059352  0.009381      1         429   \n",
       "499243 -1.291680 -0.942660  0.088953 -0.026466  0.563452      1          50   \n",
       "499519 -0.660758 -0.830439  1.528880 -1.300203 -1.293358      1         777   \n",
       "499694 -0.975253 -1.454642 -0.738311 -1.240694 -1.339080      1         350   \n",
       "499857 -1.500323 -1.642129 -0.356245 -2.205166 -1.552990      1         203   \n",
       "\n",
       "                                             summoner_id  item0  item1  item2  \\\n",
       "60       zvgRBByyRKJi5Q1i49N2mcnNSr5IiWKxS5xakwE0_CZqKIs   2420   2420   2420   \n",
       "139      6Uz9KiY6ayRRCwhbA6Wc-prEFUfSSAhAmpevAGDprLm6sng   2421   2421   2421   \n",
       "229     p109-T2B_cR4sG_fzAdfyQlj_nWLL5wCCOnSJ00YJEzEP7oR   1006   1006   1006   \n",
       "304      VrPo9rsyWtihufnWTwXEF9mMAhzj2qbDvF0FPiZZ0WamQL8   1006   1006   1006   \n",
       "350       t8iVT_qOY-mxiRK72VdPxrF-eL8MnCRqc05gZDBYLf2ZzQ   1006   1006   1006   \n",
       "...                                                  ...    ...    ...    ...   \n",
       "499241   JQDcMZh5mXx0wlFY05Z1ygsBmACrouHksUAr9CmjSX5YI0o   1004   1004   1004   \n",
       "499243   c60TXBRjMgFIoCVPAHZ6tR4_XXQgrhsmtGHEAgcfNjLEGeg   1006   1006   1006   \n",
       "499519    IsZ8l7AN26g-INH_KHk-7e29o7OLirU5dWFOYgXrPAOQcQ   1006   1006   1006   \n",
       "499694    Xaze0GmS3K6xWsajaIUiI_G9YDpSWx9dtqTzuDMvVRwHqQ   1004   1004   1004   \n",
       "499857   iGkeGXiWrZ9GxAboLwsHgWQOeNK6GunF8UhpOEF76qSjXLo   1006   1006   1006   \n",
       "\n",
       "        item3  item4  item5  \n",
       "60       2420   2420   2420  \n",
       "139      2421      0      0  \n",
       "229      1006   1006   1006  \n",
       "304      1006   1006   1006  \n",
       "350      1006   1006   1006  \n",
       "...       ...    ...    ...  \n",
       "499241   1004   1004   1004  \n",
       "499243   1006   1006   1006  \n",
       "499519   1006   1006   1006  \n",
       "499694   1004   1004   1004  \n",
       "499857   1006   1006   1006  \n",
       "\n",
       "[2878 rows x 14 columns]"
      ]
     },
     "metadata": {},
     "execution_count": 45
    }
   ],
   "source": [
    "troll_df = x_data[x_data['troll']==1]\n",
    "\n",
    "troll_df"
   ]
  },
  {
   "cell_type": "code",
   "execution_count": 46,
   "metadata": {},
   "outputs": [
    {
     "output_type": "stream",
     "name": "stdout",
     "text": [
      "-0.6893137114760749 0.3289518119634393 -0.8736356613772907 -1.1722007629543592 -0.65827844976189\n"
     ]
    }
   ],
   "source": [
    "print(troll_df['kill'].mean(),troll_df['death'].mean(),troll_df['assist'].mean(),troll_df['gold'].mean(),troll_df['level'].mean())"
   ]
  },
  {
   "cell_type": "code",
   "execution_count": 47,
   "metadata": {},
   "outputs": [
    {
     "output_type": "execute_result",
     "data": {
      "text/plain": [
       "2878"
      ]
     },
     "metadata": {},
     "execution_count": 47
    }
   ],
   "source": [
    "len(troll_playerList)"
   ]
  },
  {
   "cell_type": "code",
   "execution_count": 48,
   "metadata": {},
   "outputs": [],
   "source": [
    "#troll_df.drop('time',axis=1,inplace=True)\n",
    "troll_df['troll'] = 1"
   ]
  },
  {
   "cell_type": "code",
   "execution_count": 53,
   "metadata": {},
   "outputs": [
    {
     "output_type": "stream",
     "name": "stdout",
     "text": [
      "146\n0\n"
     ]
    },
    {
     "output_type": "execute_result",
     "data": {
      "text/html": "<div>\n<style scoped>\n    .dataframe tbody tr th:only-of-type {\n        vertical-align: middle;\n    }\n\n    .dataframe tbody tr th {\n        vertical-align: top;\n    }\n\n    .dataframe thead th {\n        text-align: right;\n    }\n</style>\n<table border=\"1\" class=\"dataframe\">\n  <thead>\n    <tr style=\"text-align: right;\">\n      <th></th>\n      <th>kill</th>\n      <th>assist</th>\n      <th>death</th>\n      <th>gold</th>\n      <th>level</th>\n      <th>troll</th>\n      <th>championid</th>\n      <th>summoner_id</th>\n      <th>item0</th>\n      <th>item1</th>\n      <th>item2</th>\n      <th>item3</th>\n      <th>item4</th>\n      <th>item5</th>\n    </tr>\n  </thead>\n  <tbody>\n    <tr>\n      <th>555024</th>\n      <td>-1.166051</td>\n      <td>-0.655031</td>\n      <td>-0.102720</td>\n      <td>-1.522117</td>\n      <td>-1.571323</td>\n      <td>0</td>\n      <td>235</td>\n      <td>_b4_Sgh07B91bBkyv9Hk02AEE0DaEBdgFT4S4bdRBZpXqg</td>\n      <td>1055</td>\n      <td>1037</td>\n      <td>3070</td>\n      <td>2422</td>\n      <td>0</td>\n      <td>0</td>\n    </tr>\n    <tr>\n      <th>236417</th>\n      <td>0.501077</td>\n      <td>-0.969794</td>\n      <td>0.855967</td>\n      <td>-0.036911</td>\n      <td>-0.101492</td>\n      <td>0</td>\n      <td>120</td>\n      <td>Nzf7P_hh-v0jeFsg50gbDG861e-g1jW475KoUINy9k9-jZw</td>\n      <td>1039</td>\n      <td>2031</td>\n      <td>3078</td>\n      <td>3047</td>\n      <td>3133</td>\n      <td>0</td>\n    </tr>\n    <tr>\n      <th>91618</th>\n      <td>-0.177311</td>\n      <td>0.328023</td>\n      <td>1.376530</td>\n      <td>-0.637070</td>\n      <td>-0.084618</td>\n      <td>0</td>\n      <td>80</td>\n      <td>8rKYMM1OAUaXBrmODj0mBS-d7gBelvrGb5_YoSvBVtEL1g</td>\n      <td>3179</td>\n      <td>3855</td>\n      <td>1036</td>\n      <td>2055</td>\n      <td>3047</td>\n      <td>1036</td>\n    </tr>\n    <tr>\n      <th>53904</th>\n      <td>-0.832790</td>\n      <td>-1.845416</td>\n      <td>-1.863930</td>\n      <td>-1.957696</td>\n      <td>-2.152697</td>\n      <td>0</td>\n      <td>80</td>\n      <td>s0Q2aiTMlaVDq0bA-fuBoKOmePLYCvJBTbDNCYWjnXqsdTc</td>\n      <td>3070</td>\n      <td>0</td>\n      <td>0</td>\n      <td>0</td>\n      <td>0</td>\n      <td>0</td>\n    </tr>\n    <tr>\n      <th>350187</th>\n      <td>-1.050806</td>\n      <td>-0.072569</td>\n      <td>-0.739909</td>\n      <td>-0.011964</td>\n      <td>-0.432174</td>\n      <td>0</td>\n      <td>12</td>\n      <td>f36ejsk8tTMrZQAGLAAtHyOU1QrVxeMEQ0lymn21CiGv5w</td>\n      <td>3860</td>\n      <td>3800</td>\n      <td>3108</td>\n      <td>3067</td>\n      <td>3117</td>\n      <td>3113</td>\n    </tr>\n    <tr>\n      <th>...</th>\n      <td>...</td>\n      <td>...</td>\n      <td>...</td>\n      <td>...</td>\n      <td>...</td>\n      <td>...</td>\n      <td>...</td>\n      <td>...</td>\n      <td>...</td>\n      <td>...</td>\n      <td>...</td>\n      <td>...</td>\n      <td>...</td>\n      <td>...</td>\n    </tr>\n    <tr>\n      <th>526203</th>\n      <td>0.322053</td>\n      <td>-0.930169</td>\n      <td>-1.728558</td>\n      <td>1.213042</td>\n      <td>1.970515</td>\n      <td>0</td>\n      <td>498</td>\n      <td>yKHKlYS2bCGuM9M_G1tzQTaZ3iSyMAw5CUmraeVX6Dfsycc</td>\n      <td>3086</td>\n      <td>3006</td>\n      <td>3508</td>\n      <td>3031</td>\n      <td>1042</td>\n      <td>0</td>\n    </tr>\n    <tr>\n      <th>149129</th>\n      <td>-0.127624</td>\n      <td>-0.073917</td>\n      <td>0.553909</td>\n      <td>-1.047823</td>\n      <td>0.081478</td>\n      <td>0</td>\n      <td>429</td>\n      <td>s3_YXJULpLVEcKyn7reh7QGa3pp-xitTwBlmqC2n5sje6-M</td>\n      <td>1055</td>\n      <td>3006</td>\n      <td>2055</td>\n      <td>3144</td>\n      <td>1043</td>\n      <td>1042</td>\n    </tr>\n    <tr>\n      <th>351030</th>\n      <td>3.291329</td>\n      <td>0.245089</td>\n      <td>-1.238109</td>\n      <td>2.377513</td>\n      <td>1.567857</td>\n      <td>0</td>\n      <td>235</td>\n      <td>HKsDfRQLoQwVGFW1Rsc8NG7fw6LCmuVHyIy71vkCGnMB2A</td>\n      <td>3094</td>\n      <td>3134</td>\n      <td>2421</td>\n      <td>3009</td>\n      <td>3071</td>\n      <td>3042</td>\n    </tr>\n    <tr>\n      <th>339659</th>\n      <td>-0.814732</td>\n      <td>0.549131</td>\n      <td>0.828246</td>\n      <td>-1.283795</td>\n      <td>-1.352466</td>\n      <td>0</td>\n      <td>98</td>\n      <td>axIr32wnDFPKwtFzg3GR9ySD-qfYC8G35CXglpDIrJy2zn4</td>\n      <td>0</td>\n      <td>3193</td>\n      <td>3859</td>\n      <td>1028</td>\n      <td>1029</td>\n      <td>3009</td>\n    </tr>\n    <tr>\n      <th>570546</th>\n      <td>-1.366586</td>\n      <td>-0.689229</td>\n      <td>1.800949</td>\n      <td>-1.318470</td>\n      <td>0.181186</td>\n      <td>0</td>\n      <td>11</td>\n      <td>e4YHcYmJhjUGEsB-9-Fwt3TgwQ32Oec9bA1iJ_pXKcCtErs</td>\n      <td>1419</td>\n      <td>2031</td>\n      <td>1001</td>\n      <td>1033</td>\n      <td>1042</td>\n      <td>0</td>\n    </tr>\n  </tbody>\n</table>\n<p>30661 rows × 14 columns</p>\n</div>",
      "text/plain": [
       "            kill    assist     death      gold     level  troll  championid  \\\n",
       "555024 -1.166051 -0.655031 -0.102720 -1.522117 -1.571323      0         235   \n",
       "236417  0.501077 -0.969794  0.855967 -0.036911 -0.101492      0         120   \n",
       "91618  -0.177311  0.328023  1.376530 -0.637070 -0.084618      0          80   \n",
       "53904  -0.832790 -1.845416 -1.863930 -1.957696 -2.152697      0          80   \n",
       "350187 -1.050806 -0.072569 -0.739909 -0.011964 -0.432174      0          12   \n",
       "...          ...       ...       ...       ...       ...    ...         ...   \n",
       "526203  0.322053 -0.930169 -1.728558  1.213042  1.970515      0         498   \n",
       "149129 -0.127624 -0.073917  0.553909 -1.047823  0.081478      0         429   \n",
       "351030  3.291329  0.245089 -1.238109  2.377513  1.567857      0         235   \n",
       "339659 -0.814732  0.549131  0.828246 -1.283795 -1.352466      0          98   \n",
       "570546 -1.366586 -0.689229  1.800949 -1.318470  0.181186      0          11   \n",
       "\n",
       "                                            summoner_id  item0  item1  item2  \\\n",
       "555024   _b4_Sgh07B91bBkyv9Hk02AEE0DaEBdgFT4S4bdRBZpXqg   1055   1037   3070   \n",
       "236417  Nzf7P_hh-v0jeFsg50gbDG861e-g1jW475KoUINy9k9-jZw   1039   2031   3078   \n",
       "91618    8rKYMM1OAUaXBrmODj0mBS-d7gBelvrGb5_YoSvBVtEL1g   3179   3855   1036   \n",
       "53904   s0Q2aiTMlaVDq0bA-fuBoKOmePLYCvJBTbDNCYWjnXqsdTc   3070      0      0   \n",
       "350187   f36ejsk8tTMrZQAGLAAtHyOU1QrVxeMEQ0lymn21CiGv5w   3860   3800   3108   \n",
       "...                                                 ...    ...    ...    ...   \n",
       "526203  yKHKlYS2bCGuM9M_G1tzQTaZ3iSyMAw5CUmraeVX6Dfsycc   3086   3006   3508   \n",
       "149129  s3_YXJULpLVEcKyn7reh7QGa3pp-xitTwBlmqC2n5sje6-M   1055   3006   2055   \n",
       "351030   HKsDfRQLoQwVGFW1Rsc8NG7fw6LCmuVHyIy71vkCGnMB2A   3094   3134   2421   \n",
       "339659  axIr32wnDFPKwtFzg3GR9ySD-qfYC8G35CXglpDIrJy2zn4      0   3193   3859   \n",
       "570546  e4YHcYmJhjUGEsB-9-Fwt3TgwQ32Oec9bA1iJ_pXKcCtErs   1419   2031   1001   \n",
       "\n",
       "        item3  item4  item5  \n",
       "555024   2422      0      0  \n",
       "236417   3047   3133      0  \n",
       "91618    2055   3047   1036  \n",
       "53904       0      0      0  \n",
       "350187   3067   3117   3113  \n",
       "...       ...    ...    ...  \n",
       "526203   3031   1042      0  \n",
       "149129   3144   1043   1042  \n",
       "351030   3009   3071   3042  \n",
       "339659   1028   1029   3009  \n",
       "570546   1033   1042      0  \n",
       "\n",
       "[30661 rows x 14 columns]"
      ]
     },
     "metadata": {},
     "execution_count": 53
    }
   ],
   "source": [
    "sampling_df = x_data.sample(n=len(troll_playerList) * 9, random_state=1)\n",
    "print(sampling_df['troll'].sum())\n",
    "sampling_df.drop(sampling_df.loc[sampling_df['troll']==1].index, inplace=True)\n",
    "print(sampling_df['troll'].sum())\n",
    "sampling_df"
   ]
  },
  {
   "cell_type": "code",
   "execution_count": 54,
   "metadata": {
    "tags": []
   },
   "outputs": [
    {
     "output_type": "execute_result",
     "data": {
      "text/plain": [
       "34084"
      ]
     },
     "metadata": {},
     "execution_count": 54
    }
   ],
   "source": [
    "import tensorflow as tf\n",
    "from tensorflow import keras\n",
    "\n",
    "sampling_df2 = pd.concat([sampling_df,troll_df])\n",
    "\n",
    "df_shuffled_total = sampling_df2.sample(frac=1,random_state=1).reset_index(drop=True)\n",
    "df_shuffled = df_shuffled_total.drop(['championid','summoner_id'],axis=1)\n",
    "df_shuffled = df_shuffled.drop(itemStr,axis=1)\n",
    "\n",
    "y = df_shuffled['troll']\n",
    "#print(df_shuffled['troll'].sum())\n",
    "#df_shuffled\n",
    "len(y)"
   ]
  },
  {
   "cell_type": "code",
   "execution_count": 55,
   "metadata": {},
   "outputs": [
    {
     "output_type": "stream",
     "name": "stdout",
     "text": [
      "Examples:\n    Total: 34084\n    Positive: 3423 (10.04% of total)\n\n"
     ]
    }
   ],
   "source": [
    "neg, pos = np.bincount(y)\n",
    "total = neg + pos\n",
    "print('Examples:\\n    Total: {}\\n    Positive: {} ({:.2f}% of total)\\n'.format(\n",
    "    total, pos, 100 * pos / total))"
   ]
  },
  {
   "cell_type": "code",
   "execution_count": 56,
   "metadata": {},
   "outputs": [
    {
     "output_type": "stream",
     "name": "stdout",
     "text": [
      "Weight for class 0: 0.56\nWeight for class 1: 4.98\n"
     ]
    }
   ],
   "source": [
    "# Scaling by total/2 helps keep the loss to a similar magnitude.\n",
    "# The sum of the weights of all examples stays the same.\n",
    "\n",
    "weight_for_0 = (1 / neg)*(total)/2.0 \n",
    "weight_for_1 = (1 / pos)*(total)/2.0\n",
    "\n",
    "class_weight = {0: weight_for_0, 1: weight_for_1}\n",
    "\n",
    "print('Weight for class 0: {:.2f}'.format(weight_for_0))\n",
    "print('Weight for class 1: {:.2f}'.format(weight_for_1))"
   ]
  },
  {
   "cell_type": "code",
   "execution_count": 57,
   "metadata": {},
   "outputs": [],
   "source": [
    "x = df_shuffled.drop(['troll'],axis=1)\n",
    "train_data_len = len(x)*7//10\n",
    "x_train = x[:train_data_len]\n",
    "x_test = x[train_data_len:]\n",
    "y_train = y[:train_data_len]\n",
    "y_test = y[train_data_len:]"
   ]
  },
  {
   "cell_type": "code",
   "execution_count": 58,
   "metadata": {},
   "outputs": [],
   "source": [
    "del data\n",
    "del x_data"
   ]
  },
  {
   "cell_type": "code",
   "execution_count": 59,
   "metadata": {},
   "outputs": [
    {
     "output_type": "execute_result",
     "data": {
      "text/plain": [
       "23858"
      ]
     },
     "metadata": {},
     "execution_count": 59
    }
   ],
   "source": [
    "len(x_train)"
   ]
  },
  {
   "cell_type": "code",
   "execution_count": 60,
   "metadata": {},
   "outputs": [
    {
     "output_type": "execute_result",
     "data": {
      "text/html": "<div>\n<style scoped>\n    .dataframe tbody tr th:only-of-type {\n        vertical-align: middle;\n    }\n\n    .dataframe tbody tr th {\n        vertical-align: top;\n    }\n\n    .dataframe thead th {\n        text-align: right;\n    }\n</style>\n<table border=\"1\" class=\"dataframe\">\n  <thead>\n    <tr style=\"text-align: right;\">\n      <th></th>\n      <th>kill</th>\n      <th>assist</th>\n      <th>death</th>\n      <th>gold</th>\n      <th>level</th>\n    </tr>\n  </thead>\n  <tbody>\n    <tr>\n      <th>0</th>\n      <td>-0.947593</td>\n      <td>0.851989</td>\n      <td>-1.267564</td>\n      <td>-0.580162</td>\n      <td>-0.640600</td>\n    </tr>\n    <tr>\n      <th>1</th>\n      <td>-0.497719</td>\n      <td>1.175502</td>\n      <td>0.294790</td>\n      <td>-0.454072</td>\n      <td>-0.923020</td>\n    </tr>\n    <tr>\n      <th>2</th>\n      <td>-0.222268</td>\n      <td>1.058626</td>\n      <td>0.378772</td>\n      <td>0.376246</td>\n      <td>0.204352</td>\n    </tr>\n    <tr>\n      <th>3</th>\n      <td>0.345960</td>\n      <td>-0.307407</td>\n      <td>-1.417761</td>\n      <td>0.230176</td>\n      <td>-0.066684</td>\n    </tr>\n    <tr>\n      <th>4</th>\n      <td>0.063659</td>\n      <td>0.673633</td>\n      <td>-0.051037</td>\n      <td>0.282353</td>\n      <td>-0.632253</td>\n    </tr>\n    <tr>\n      <th>...</th>\n      <td>...</td>\n      <td>...</td>\n      <td>...</td>\n      <td>...</td>\n      <td>...</td>\n    </tr>\n    <tr>\n      <th>23853</th>\n      <td>0.514691</td>\n      <td>1.327201</td>\n      <td>1.120122</td>\n      <td>-0.401208</td>\n      <td>-0.639210</td>\n    </tr>\n    <tr>\n      <th>23854</th>\n      <td>-1.095186</td>\n      <td>2.335536</td>\n      <td>-0.115074</td>\n      <td>0.215095</td>\n      <td>0.821914</td>\n    </tr>\n    <tr>\n      <th>23855</th>\n      <td>-1.410663</td>\n      <td>-1.669091</td>\n      <td>-1.677303</td>\n      <td>-2.208770</td>\n      <td>1.668378</td>\n    </tr>\n    <tr>\n      <th>23856</th>\n      <td>0.508850</td>\n      <td>1.347975</td>\n      <td>-0.112877</td>\n      <td>0.278641</td>\n      <td>-0.344424</td>\n    </tr>\n    <tr>\n      <th>23857</th>\n      <td>-0.343436</td>\n      <td>0.950950</td>\n      <td>-0.183293</td>\n      <td>-0.471853</td>\n      <td>-0.305678</td>\n    </tr>\n  </tbody>\n</table>\n<p>23858 rows × 5 columns</p>\n</div>",
      "text/plain": [
       "           kill    assist     death      gold     level\n",
       "0     -0.947593  0.851989 -1.267564 -0.580162 -0.640600\n",
       "1     -0.497719  1.175502  0.294790 -0.454072 -0.923020\n",
       "2     -0.222268  1.058626  0.378772  0.376246  0.204352\n",
       "3      0.345960 -0.307407 -1.417761  0.230176 -0.066684\n",
       "4      0.063659  0.673633 -0.051037  0.282353 -0.632253\n",
       "...         ...       ...       ...       ...       ...\n",
       "23853  0.514691  1.327201  1.120122 -0.401208 -0.639210\n",
       "23854 -1.095186  2.335536 -0.115074  0.215095  0.821914\n",
       "23855 -1.410663 -1.669091 -1.677303 -2.208770  1.668378\n",
       "23856  0.508850  1.347975 -0.112877  0.278641 -0.344424\n",
       "23857 -0.343436  0.950950 -0.183293 -0.471853 -0.305678\n",
       "\n",
       "[23858 rows x 5 columns]"
      ]
     },
     "metadata": {},
     "execution_count": 60
    }
   ],
   "source": [
    "x_train "
   ]
  },
  {
   "cell_type": "code",
   "execution_count": 61,
   "metadata": {},
   "outputs": [
    {
     "output_type": "stream",
     "name": "stdout",
     "text": [
      "Epoch 1/20\n",
      "478/478 [==============================] - 1s 2ms/step - loss: 0.5405 - binary_accuracy: 0.6541 - Precision: 0.2038 - Recall: 0.8395\n",
      "Epoch 2/20\n",
      "478/478 [==============================] - 1s 2ms/step - loss: 0.5108 - binary_accuracy: 0.7253 - Precision: 0.2369 - Recall: 0.7795\n",
      "Epoch 3/20\n",
      "478/478 [==============================] - 1s 2ms/step - loss: 0.5072 - binary_accuracy: 0.7366 - Precision: 0.2452 - Recall: 0.7791\n",
      "Epoch 4/20\n",
      "478/478 [==============================] - 1s 2ms/step - loss: 0.5044 - binary_accuracy: 0.7387 - Precision: 0.2469 - Recall: 0.7795\n",
      "Epoch 5/20\n",
      "478/478 [==============================] - 1s 2ms/step - loss: 0.5024 - binary_accuracy: 0.7425 - Precision: 0.2486 - Recall: 0.7716\n",
      "Epoch 6/20\n",
      "478/478 [==============================] - 1s 2ms/step - loss: 0.5004 - binary_accuracy: 0.7468 - Precision: 0.2523 - Recall: 0.7732\n",
      "Epoch 7/20\n",
      "478/478 [==============================] - 1s 2ms/step - loss: 0.4995 - binary_accuracy: 0.7412 - Precision: 0.2493 - Recall: 0.7824\n",
      "Epoch 8/20\n",
      "478/478 [==============================] - 1s 2ms/step - loss: 0.4979 - binary_accuracy: 0.7486 - Precision: 0.2549 - Recall: 0.7799\n",
      "Epoch 9/20\n",
      "478/478 [==============================] - 1s 2ms/step - loss: 0.4973 - binary_accuracy: 0.7454 - Precision: 0.2531 - Recall: 0.7853\n",
      "Epoch 10/20\n",
      "478/478 [==============================] - 1s 2ms/step - loss: 0.4966 - binary_accuracy: 0.7493 - Precision: 0.2558 - Recall: 0.7820\n",
      "Epoch 11/20\n",
      "478/478 [==============================] - 1s 2ms/step - loss: 0.4960 - binary_accuracy: 0.7509 - Precision: 0.2573 - Recall: 0.7832\n",
      "Epoch 12/20\n",
      "478/478 [==============================] - 1s 2ms/step - loss: 0.4960 - binary_accuracy: 0.7519 - Precision: 0.2579 - Recall: 0.7820\n",
      "Epoch 13/20\n",
      "478/478 [==============================] - 1s 2ms/step - loss: 0.4956 - binary_accuracy: 0.7512 - Precision: 0.2580 - Recall: 0.7857\n",
      "Epoch 14/20\n",
      "478/478 [==============================] - 1s 2ms/step - loss: 0.4952 - binary_accuracy: 0.7538 - Precision: 0.2595 - Recall: 0.7816\n",
      "Epoch 15/20\n",
      "478/478 [==============================] - 1s 2ms/step - loss: 0.4947 - binary_accuracy: 0.7504 - Precision: 0.2576 - Recall: 0.7874\n",
      "Epoch 16/20\n",
      "478/478 [==============================] - 1s 1ms/step - loss: 0.4953 - binary_accuracy: 0.7532 - Precision: 0.2589 - Recall: 0.7812\n",
      "Epoch 17/20\n",
      "478/478 [==============================] - 1s 2ms/step - loss: 0.4948 - binary_accuracy: 0.7561 - Precision: 0.2613 - Recall: 0.7803\n",
      "Epoch 18/20\n",
      "478/478 [==============================] - 1s 2ms/step - loss: 0.4948 - binary_accuracy: 0.7552 - Precision: 0.2605 - Recall: 0.7803\n",
      "Epoch 19/20\n",
      "478/478 [==============================] - 1s 2ms/step - loss: 0.4947 - binary_accuracy: 0.7550 - Precision: 0.2610 - Recall: 0.7841\n",
      "Epoch 20/20\n",
      "478/478 [==============================] - 1s 2ms/step - loss: 0.4945 - binary_accuracy: 0.7540 - Precision: 0.2602 - Recall: 0.7845\n"
     ]
    },
    {
     "output_type": "execute_result",
     "data": {
      "text/plain": [
       "<tensorflow.python.keras.callbacks.History at 0x212ae9712b0>"
      ]
     },
     "metadata": {},
     "execution_count": 61
    }
   ],
   "source": [
    "model = keras.Sequential()\n",
    "model.add(tf.keras.layers.Dense(5,input_shape=(5,),activation='relu'))\n",
    "model.add(tf.keras.layers.Dense(5,activation='relu'))\n",
    "model.add(tf.keras.layers.Dense(10,activation='relu'))\n",
    "model.add(tf.keras.layers.Dense(1,activation='sigmoid'))\n",
    "model.compile(optimizer=\"adam\", loss=\"binary_crossentropy\",metrics=['binary_accuracy',tf.keras.metrics.Recall(name='Recall'),tf.keras.metrics.Precision(name='Precision')])\n",
    "\n",
    "\n",
    "model.fit(x_train,y_train,epochs=20,batch_size=50,verbose=1,class_weight=class_weight)"
   ]
  },
  {
   "cell_type": "code",
   "execution_count": 62,
   "metadata": {},
   "outputs": [
    {
     "output_type": "stream",
     "name": "stdout",
     "text": [
      "205/205 [==============================] - 0s 1ms/step - loss: 0.4887 - binary_accuracy: 0.7556 - Precision: 0.2572 - Recall: 0.7627\n"
     ]
    },
    {
     "output_type": "execute_result",
     "data": {
      "text/plain": [
       "[0.48867714405059814, 0.755622923374176, 0.7626953125, 0.2571616768836975]"
      ]
     },
     "metadata": {},
     "execution_count": 62
    }
   ],
   "source": [
    "model.evaluate(x_test,y_test,batch_size=50)"
   ]
  },
  {
   "cell_type": "code",
   "execution_count": 63,
   "metadata": {},
   "outputs": [],
   "source": [
    "pred = model.predict(x_test)"
   ]
  },
  {
   "cell_type": "code",
   "execution_count": 64,
   "metadata": {},
   "outputs": [
    {
     "output_type": "execute_result",
     "data": {
      "text/plain": [
       "array([[0.0699679 ],\n",
       "       [0.08977252],\n",
       "       [0.8237741 ],\n",
       "       [0.9377092 ],\n",
       "       [0.37069494],\n",
       "       [0.66409534],\n",
       "       [0.44360366],\n",
       "       [0.58676994],\n",
       "       [0.56200635],\n",
       "       [0.16511035],\n",
       "       [0.156468  ],\n",
       "       [0.35039592],\n",
       "       [0.04809344],\n",
       "       [0.81859934],\n",
       "       [0.38566905],\n",
       "       [0.32063365],\n",
       "       [0.6128961 ],\n",
       "       [0.14239848],\n",
       "       [0.58029515],\n",
       "       [0.27244014]], dtype=float32)"
      ]
     },
     "metadata": {},
     "execution_count": 64
    }
   ],
   "source": [
    "pred[:20]"
   ]
  },
  {
   "cell_type": "code",
   "execution_count": 65,
   "metadata": {},
   "outputs": [
    {
     "output_type": "execute_result",
     "data": {
      "text/plain": [
       "23858    0\n",
       "23859    0\n",
       "23860    0\n",
       "23861    1\n",
       "23862    0\n",
       "23863    0\n",
       "23864    0\n",
       "23865    0\n",
       "23866    1\n",
       "23867    0\n",
       "23868    0\n",
       "23869    0\n",
       "23870    0\n",
       "23871    1\n",
       "23872    0\n",
       "23873    0\n",
       "23874    0\n",
       "23875    0\n",
       "23876    0\n",
       "23877    0\n",
       "Name: troll, dtype: int64"
      ]
     },
     "metadata": {},
     "execution_count": 65
    }
   ],
   "source": [
    "y_test[:20]"
   ]
  },
  {
   "cell_type": "code",
   "execution_count": 258,
   "metadata": {
    "tags": []
   },
   "outputs": [
    {
     "output_type": "stream",
     "name": "stderr",
     "text": [
      "100%|██████████| 6/6 [00:00<00:00, 200.10it/s]\n",
      "100%|██████████| 6/6 [00:00<00:00, 3002.72it/s]\n"
     ]
    },
    {
     "output_type": "execute_result",
     "data": {
      "text/html": "<table border=\"1\" class=\"dataframe\">\n  <thead>\n    <tr style=\"text-align: right;\">\n      <th></th>\n      <th>kill</th>\n      <th>assist</th>\n      <th>death</th>\n      <th>gold</th>\n      <th>level</th>\n      <th>troll</th>\n      <th>championid</th>\n      <th>item0</th>\n      <th>item1</th>\n      <th>item2</th>\n      <th>item3</th>\n      <th>item4</th>\n      <th>item5</th>\n    </tr>\n  </thead>\n  <tbody>\n    <tr>\n      <th>23892</th>\n      <td>1.188684</td>\n      <td>3.013323</td>\n      <td>0.984122</td>\n      <td>0.225111</td>\n      <td>-1.050882</td>\n      <td>1</td>\n      <td>91</td>\n      <td><img src = ' http://ddragon.leagueoflegends.com/cdn/10.18.1/img/item/1004.png' weight=25 height=25></td>\n      <td><img src = ' http://ddragon.leagueoflegends.com/cdn/10.18.1/img/item/1004.png' weight=25 height=25></td>\n      <td><img src = ' http://ddragon.leagueoflegends.com/cdn/10.18.1/img/item/1004.png' weight=25 height=25></td>\n      <td><img src = ' http://ddragon.leagueoflegends.com/cdn/10.18.1/img/item/1004.png' weight=25 height=25></td>\n      <td><img src = ' http://ddragon.leagueoflegends.com/cdn/10.18.1/img/item/1004.png' weight=25 height=25></td>\n      <td><img src = ' http://ddragon.leagueoflegends.com/cdn/10.18.1/img/item/1004.png' weight=25 height=25></td>\n    </tr>\n    <tr>\n      <th>24053</th>\n      <td>1.207006</td>\n      <td>-1.357017</td>\n      <td>0.320586</td>\n      <td>0.563737</td>\n      <td>0.698133</td>\n      <td>1</td>\n      <td>80</td>\n      <td><img src = ' http://ddragon.leagueoflegends.com/cdn/10.18.1/img/item/2420.png' weight=25 height=25></td>\n      <td><img src = ' http://ddragon.leagueoflegends.com/cdn/10.18.1/img/item/2420.png' weight=25 height=25></td>\n      <td><img src = ' http://ddragon.leagueoflegends.com/cdn/10.18.1/img/item/2420.png' weight=25 height=25></td>\n      <td><img src = ' http://ddragon.leagueoflegends.com/cdn/10.18.1/img/item/2420.png' weight=25 height=25></td>\n      <td><img src = ' http://ddragon.leagueoflegends.com/cdn/10.18.1/img/item/2420.png' weight=25 height=25></td>\n      <td><img src = ' http://ddragon.leagueoflegends.com/cdn/10.18.1/img/item/2420.png' weight=25 height=25></td>\n    </tr>\n    <tr>\n      <th>24077</th>\n      <td>-0.323467</td>\n      <td>-0.405944</td>\n      <td>1.088179</td>\n      <td>-0.559149</td>\n      <td>-1.033992</td>\n      <td>1</td>\n      <td>517</td>\n      <td><img src = ' http://ddragon.leagueoflegends.com/cdn/10.18.1/img/item/1027.png' weight=25 height=25></td>\n      <td><img src = ' http://ddragon.leagueoflegends.com/cdn/10.18.1/img/item/1027.png' weight=25 height=25></td>\n      <td><img src = ' http://ddragon.leagueoflegends.com/cdn/10.18.1/img/item/1027.png' weight=25 height=25></td>\n      <td><img src = ' http://ddragon.leagueoflegends.com/cdn/10.18.1/img/item/1027.png' weight=25 height=25></td>\n      <td><img src = ' http://ddragon.leagueoflegends.com/cdn/10.18.1/img/item/1027.png' weight=25 height=25></td>\n      <td><img src = ' http://ddragon.leagueoflegends.com/cdn/10.18.1/img/item/1027.png' weight=25 height=25></td>\n    </tr>\n    <tr>\n      <th>24098</th>\n      <td>0.063402</td>\n      <td>-0.181606</td>\n      <td>-1.037052</td>\n      <td>-0.037530</td>\n      <td>-0.128689</td>\n      <td>1</td>\n      <td>80</td>\n      <td><img src = ' http://ddragon.leagueoflegends.com/cdn/10.18.1/img/item/2420.png' weight=25 height=25></td>\n      <td><img src = ' http://ddragon.leagueoflegends.com/cdn/10.18.1/img/item/2420.png' weight=25 height=25></td>\n      <td><img src = ' http://ddragon.leagueoflegends.com/cdn/10.18.1/img/item/2420.png' weight=25 height=25></td>\n      <td><img src = ' http://ddragon.leagueoflegends.com/cdn/10.18.1/img/item/2420.png' weight=25 height=25></td>\n      <td><img src = ' http://ddragon.leagueoflegends.com/cdn/10.18.1/img/item/2420.png' weight=25 height=25></td>\n      <td><img src = ' http://ddragon.leagueoflegends.com/cdn/10.18.1/img/item/2420.png' weight=25 height=25></td>\n    </tr>\n    <tr>\n      <th>24165</th>\n      <td>-0.559930</td>\n      <td>1.864688</td>\n      <td>0.200992</td>\n      <td>-0.409071</td>\n      <td>0.102344</td>\n      <td>1</td>\n      <td>11</td>\n      <td><img src = ' http://ddragon.leagueoflegends.com/cdn/10.18.1/img/item/1006.png' weight=25 height=25></td>\n      <td><img src = ' http://ddragon.leagueoflegends.com/cdn/10.18.1/img/item/1006.png' weight=25 height=25></td>\n      <td><img src = ' http://ddragon.leagueoflegends.com/cdn/10.18.1/img/item/1006.png' weight=25 height=25></td>\n      <td><img src = ' http://ddragon.leagueoflegends.com/cdn/10.18.1/img/item/1006.png' weight=25 height=25></td>\n      <td><img src = ' http://ddragon.leagueoflegends.com/cdn/10.18.1/img/item/1006.png' weight=25 height=25></td>\n      <td><img src = ' http://ddragon.leagueoflegends.com/cdn/10.18.1/img/item/1006.png' weight=25 height=25></td>\n    </tr>\n    <tr>\n      <th>24213</th>\n      <td>-0.488163</td>\n      <td>0.026460</td>\n      <td>0.229208</td>\n      <td>-0.439995</td>\n      <td>-0.538801</td>\n      <td>1</td>\n      <td>80</td>\n      <td><img src = ' http://ddragon.leagueoflegends.com/cdn/10.18.1/img/item/2420.png' weight=25 height=25></td>\n      <td><img src = ' http://ddragon.leagueoflegends.com/cdn/10.18.1/img/item/2420.png' weight=25 height=25></td>\n      <td><img src = ' http://ddragon.leagueoflegends.com/cdn/10.18.1/img/item/2420.png' weight=25 height=25></td>\n      <td><img src = ' http://ddragon.leagueoflegends.com/cdn/10.18.1/img/item/2420.png' weight=25 height=25></td>\n      <td><img src = ' http://ddragon.leagueoflegends.com/cdn/10.18.1/img/item/2420.png' weight=25 height=25></td>\n      <td><img src = ' http://ddragon.leagueoflegends.com/cdn/10.18.1/img/item/2420.png' weight=25 height=25></td>\n    </tr>\n    <tr>\n      <th>24231</th>\n      <td>-1.278346</td>\n      <td>-0.668653</td>\n      <td>-0.751727</td>\n      <td>-0.191620</td>\n      <td>0.693109</td>\n      <td>1</td>\n      <td>120</td>\n      <td><img src = ' http://ddragon.leagueoflegends.com/cdn/10.18.1/img/item/1004.png' weight=25 height=25></td>\n      <td><img src = ' http://ddragon.leagueoflegends.com/cdn/10.18.1/img/item/1004.png' weight=25 height=25></td>\n      <td><img src = ' http://ddragon.leagueoflegends.com/cdn/10.18.1/img/item/1004.png' weight=25 height=25></td>\n      <td><img src = ' http://ddragon.leagueoflegends.com/cdn/10.18.1/img/item/1004.png' weight=25 height=25></td>\n      <td><img src = ' http://ddragon.leagueoflegends.com/cdn/10.18.1/img/item/1004.png' weight=25 height=25></td>\n      <td><img src = ' http://ddragon.leagueoflegends.com/cdn/10.18.1/img/item/1004.png' weight=25 height=25></td>\n    </tr>\n    <tr>\n      <th>24255</th>\n      <td>0.252187</td>\n      <td>-0.596765</td>\n      <td>-0.414108</td>\n      <td>0.403689</td>\n      <td>-0.678331</td>\n      <td>1</td>\n      <td>122</td>\n      <td><img src = ' http://ddragon.leagueoflegends.com/cdn/10.18.1/img/item/2421.png' weight=25 height=25></td>\n      <td><img src = ' http://ddragon.leagueoflegends.com/cdn/10.18.1/img/item/2421.png' weight=25 height=25></td>\n      <td><img src = ' http://ddragon.leagueoflegends.com/cdn/10.18.1/img/item/2421.png' weight=25 height=25></td>\n      <td><img src = ' http://ddragon.leagueoflegends.com/cdn/10.18.1/img/item/2421.png' weight=25 height=25></td>\n      <td><img src = ' http://ddragon.leagueoflegends.com/cdn/10.18.1/img/item/2421.png' weight=25 height=25></td>\n      <td><img src = ' http://ddragon.leagueoflegends.com/cdn/10.18.1/img/item/2421.png' weight=25 height=25></td>\n    </tr>\n    <tr>\n      <th>24311</th>\n      <td>0.217005</td>\n      <td>1.992677</td>\n      <td>0.093604</td>\n      <td>-0.024714</td>\n      <td>-1.220291</td>\n      <td>1</td>\n      <td>103</td>\n      <td><img src = ' http://ddragon.leagueoflegends.com/cdn/10.18.1/img/item/1006.png' weight=25 height=25></td>\n      <td><img src = ' http://ddragon.leagueoflegends.com/cdn/10.18.1/img/item/1006.png' weight=25 height=25></td>\n      <td><img src = ' http://ddragon.leagueoflegends.com/cdn/10.18.1/img/item/1006.png' weight=25 height=25></td>\n      <td><img src = ' http://ddragon.leagueoflegends.com/cdn/10.18.1/img/item/1006.png' weight=25 height=25></td>\n      <td><img src = ' http://ddragon.leagueoflegends.com/cdn/10.18.1/img/item/1006.png' weight=25 height=25></td>\n      <td><img src = ' http://ddragon.leagueoflegends.com/cdn/10.18.1/img/item/1006.png' weight=25 height=25></td>\n    </tr>\n    <tr>\n      <th>24406</th>\n      <td>-1.112676</td>\n      <td>0.226922</td>\n      <td>1.053196</td>\n      <td>-0.245802</td>\n      <td>-0.635307</td>\n      <td>1</td>\n      <td>114</td>\n      <td><img src = ' http://ddragon.leagueoflegends.com/cdn/10.18.1/img/item/2420.png' weight=25 height=25></td>\n      <td><img src = ' http://ddragon.leagueoflegends.com/cdn/10.18.1/img/item/2420.png' weight=25 height=25></td>\n      <td><img src = ' http://ddragon.leagueoflegends.com/cdn/10.18.1/img/item/2420.png' weight=25 height=25></td>\n      <td><img src = ' http://ddragon.leagueoflegends.com/cdn/10.18.1/img/item/2420.png' weight=25 height=25></td>\n      <td><img src = ' http://ddragon.leagueoflegends.com/cdn/10.18.1/img/item/2420.png' weight=25 height=25></td>\n      <td><img src = ' http://ddragon.leagueoflegends.com/cdn/10.18.1/img/item/2420.png' weight=25 height=25></td>\n    </tr>\n    <tr>\n      <th>24430</th>\n      <td>-0.446660</td>\n      <td>0.596578</td>\n      <td>0.684672</td>\n      <td>-0.307448</td>\n      <td>-0.810243</td>\n      <td>1</td>\n      <td>80</td>\n      <td><img src = ' http://ddragon.leagueoflegends.com/cdn/10.18.1/img/item/1006.png' weight=25 height=25></td>\n      <td><img src = ' http://ddragon.leagueoflegends.com/cdn/10.18.1/img/item/1006.png' weight=25 height=25></td>\n      <td><img src = ' http://ddragon.leagueoflegends.com/cdn/10.18.1/img/item/1006.png' weight=25 height=25></td>\n      <td><img src = ' http://ddragon.leagueoflegends.com/cdn/10.18.1/img/item/1006.png' weight=25 height=25></td>\n      <td><img src = ' http://ddragon.leagueoflegends.com/cdn/10.18.1/img/item/1006.png' weight=25 height=25></td>\n      <td><img src = ' http://ddragon.leagueoflegends.com/cdn/10.18.1/img/item/1006.png' weight=25 height=25></td>\n    </tr>\n    <tr>\n      <th>24439</th>\n      <td>0.791434</td>\n      <td>-0.663008</td>\n      <td>0.281641</td>\n      <td>-0.033950</td>\n      <td>0.774567</td>\n      <td>1</td>\n      <td>429</td>\n      <td><img src = ' http://ddragon.leagueoflegends.com/cdn/10.18.1/img/item/2421.png' weight=25 height=25></td>\n      <td><img src = ' http://ddragon.leagueoflegends.com/cdn/10.18.1/img/item/2421.png' weight=25 height=25></td>\n      <td><img src = ' http://ddragon.leagueoflegends.com/cdn/10.18.1/img/item/2421.png' weight=25 height=25></td>\n      <td><img src = ' http://ddragon.leagueoflegends.com/cdn/10.18.1/img/item/2421.png' weight=25 height=25></td>\n      <td><img src = ' http://ddragon.leagueoflegends.com/cdn/10.18.1/img/item/2421.png' weight=25 height=25></td>\n      <td><img src = ' http://ddragon.leagueoflegends.com/cdn/10.18.1/img/item/2421.png' weight=25 height=25></td>\n    </tr>\n    <tr>\n      <th>24483</th>\n      <td>0.552813</td>\n      <td>-0.559819</td>\n      <td>-0.217077</td>\n      <td>-0.260117</td>\n      <td>0.367752</td>\n      <td>1</td>\n      <td>53</td>\n      <td><img src = ' http://ddragon.leagueoflegends.com/cdn/10.18.1/img/item/1004.png' weight=25 height=25></td>\n      <td><img src = ' http://ddragon.leagueoflegends.com/cdn/10.18.1/img/item/1004.png' weight=25 height=25></td>\n      <td><img src = ' http://ddragon.leagueoflegends.com/cdn/10.18.1/img/item/1004.png' weight=25 height=25></td>\n      <td><img src = ' http://ddragon.leagueoflegends.com/cdn/10.18.1/img/item/1004.png' weight=25 height=25></td>\n      <td><img src = ' http://ddragon.leagueoflegends.com/cdn/10.18.1/img/item/1004.png' weight=25 height=25></td>\n      <td><img src = ' http://ddragon.leagueoflegends.com/cdn/10.18.1/img/item/1004.png' weight=25 height=25></td>\n    </tr>\n    <tr>\n      <th>24489</th>\n      <td>-1.618894</td>\n      <td>0.123716</td>\n      <td>-0.073046</td>\n      <td>-0.545833</td>\n      <td>1.301383</td>\n      <td>1</td>\n      <td>84</td>\n      <td><img src = ' http://ddragon.leagueoflegends.com/cdn/10.18.1/img/item/1006.png' weight=25 height=25></td>\n      <td><img src = ' http://ddragon.leagueoflegends.com/cdn/10.18.1/img/item/1006.png' weight=25 height=25></td>\n      <td><img src = ' http://ddragon.leagueoflegends.com/cdn/10.18.1/img/item/1006.png' weight=25 height=25></td>\n      <td><img src = ' http://ddragon.leagueoflegends.com/cdn/10.18.1/img/item/1006.png' weight=25 height=25></td>\n      <td><img src = ' http://ddragon.leagueoflegends.com/cdn/10.18.1/img/item/1006.png' weight=25 height=25></td>\n      <td><img src = ' http://ddragon.leagueoflegends.com/cdn/10.18.1/img/item/1006.png' weight=25 height=25></td>\n    </tr>\n    <tr>\n      <th>24491</th>\n      <td>-0.033898</td>\n      <td>-0.060535</td>\n      <td>0.187891</td>\n      <td>-0.180305</td>\n      <td>0.208202</td>\n      <td>1</td>\n      <td>22</td>\n      <td><img src = ' http://ddragon.leagueoflegends.com/cdn/10.18.1/img/item/1082.png' weight=25 height=25></td>\n      <td><img src = ' http://ddragon.leagueoflegends.com/cdn/10.18.1/img/item/1082.png' weight=25 height=25></td>\n      <td><img src = ' http://ddragon.leagueoflegends.com/cdn/10.18.1/img/item/1082.png' weight=25 height=25></td>\n      <td><img src = ' http://ddragon.leagueoflegends.com/cdn/10.18.1/img/item/1082.png' weight=25 height=25></td>\n      <td><img src = ' http://ddragon.leagueoflegends.com/cdn/10.18.1/img/item/1082.png' weight=25 height=25></td>\n      <td><img src = ' http://ddragon.leagueoflegends.com/cdn/10.18.1/img/item/1082.png' weight=25 height=25></td>\n    </tr>\n    <tr>\n      <th>24501</th>\n      <td>0.394240</td>\n      <td>-1.168674</td>\n      <td>-0.182298</td>\n      <td>0.856296</td>\n      <td>0.199777</td>\n      <td>1</td>\n      <td>80</td>\n      <td><img src = ' http://ddragon.leagueoflegends.com/cdn/10.18.1/img/item/1027.png' weight=25 height=25></td>\n      <td><img src = ' http://ddragon.leagueoflegends.com/cdn/10.18.1/img/item/1027.png' weight=25 height=25></td>\n      <td><img src = ' http://ddragon.leagueoflegends.com/cdn/10.18.1/img/item/1027.png' weight=25 height=25></td>\n      <td><img src = ' http://ddragon.leagueoflegends.com/cdn/10.18.1/img/item/1027.png' weight=25 height=25></td>\n      <td><img src = ' http://ddragon.leagueoflegends.com/cdn/10.18.1/img/item/1027.png' weight=25 height=25></td>\n      <td><img src = ' http://ddragon.leagueoflegends.com/cdn/10.18.1/img/item/1027.png' weight=25 height=25></td>\n    </tr>\n    <tr>\n      <th>24524</th>\n      <td>-0.312679</td>\n      <td>0.152844</td>\n      <td>-0.246635</td>\n      <td>0.291024</td>\n      <td>-0.192324</td>\n      <td>1</td>\n      <td>59</td>\n      <td><img src = ' http://ddragon.leagueoflegends.com/cdn/10.18.1/img/item/1028.png' weight=25 height=25></td>\n      <td><img src = ' http://ddragon.leagueoflegends.com/cdn/10.18.1/img/item/1028.png' weight=25 height=25></td>\n      <td><img src = ' http://ddragon.leagueoflegends.com/cdn/10.18.1/img/item/1028.png' weight=25 height=25></td>\n      <td><img src = ' http://ddragon.leagueoflegends.com/cdn/10.18.1/img/item/1028.png' weight=25 height=25></td>\n      <td><img src = ' http://ddragon.leagueoflegends.com/cdn/10.18.1/img/item/1028.png' weight=25 height=25></td>\n      <td><img src = ' http://ddragon.leagueoflegends.com/cdn/10.18.1/img/item/1028.png' weight=25 height=25></td>\n    </tr>\n    <tr>\n      <th>24555</th>\n      <td>-0.553085</td>\n      <td>-0.321757</td>\n      <td>2.355253</td>\n      <td>-0.391009</td>\n      <td>-0.186557</td>\n      <td>1</td>\n      <td>55</td>\n      <td><img src = ' http://ddragon.leagueoflegends.com/cdn/10.18.1/img/item/1028.png' weight=25 height=25></td>\n      <td><img src = ' http://ddragon.leagueoflegends.com/cdn/10.18.1/img/item/1028.png' weight=25 height=25></td>\n      <td><img src = ' http://ddragon.leagueoflegends.com/cdn/10.18.1/img/item/1028.png' weight=25 height=25></td>\n      <td><img src = ' http://ddragon.leagueoflegends.com/cdn/10.18.1/img/item/1028.png' weight=25 height=25></td>\n      <td><img src = ' http://ddragon.leagueoflegends.com/cdn/10.18.1/img/item/1028.png' weight=25 height=25></td>\n      <td><img src = ' http://ddragon.leagueoflegends.com/cdn/10.18.1/img/item/1028.png' weight=25 height=25></td>\n    </tr>\n    <tr>\n      <th>24888</th>\n      <td>-1.128476</td>\n      <td>-0.630304</td>\n      <td>0.375406</td>\n      <td>-0.825301</td>\n      <td>-1.129023</td>\n      <td>1</td>\n      <td>81</td>\n      <td><img src = ' http://ddragon.leagueoflegends.com/cdn/10.18.1/img/item/2420.png' weight=25 height=25></td>\n      <td><img src = ' http://ddragon.leagueoflegends.com/cdn/10.18.1/img/item/2420.png' weight=25 height=25></td>\n      <td><img src = ' http://ddragon.leagueoflegends.com/cdn/10.18.1/img/item/2420.png' weight=25 height=25></td>\n      <td><img src = ' http://ddragon.leagueoflegends.com/cdn/10.18.1/img/item/2420.png' weight=25 height=25></td>\n      <td><img src = ' http://ddragon.leagueoflegends.com/cdn/10.18.1/img/item/2420.png' weight=25 height=25></td>\n      <td><img src = ' http://ddragon.leagueoflegends.com/cdn/10.18.1/img/item/2420.png' weight=25 height=25></td>\n    </tr>\n    <tr>\n      <th>24901</th>\n      <td>2.165776</td>\n      <td>-0.017038</td>\n      <td>0.503697</td>\n      <td>2.604952</td>\n      <td>2.370601</td>\n      <td>1</td>\n      <td>245</td>\n      <td><img src = ' http://ddragon.leagueoflegends.com/cdn/10.18.1/img/item/1082.png' weight=25 height=25></td>\n      <td><img src = ' http://ddragon.leagueoflegends.com/cdn/10.18.1/img/item/1082.png' weight=25 height=25></td>\n      <td><img src = ' http://ddragon.leagueoflegends.com/cdn/10.18.1/img/item/1082.png' weight=25 height=25></td>\n      <td><img src = ' http://ddragon.leagueoflegends.com/cdn/10.18.1/img/item/1082.png' weight=25 height=25></td>\n      <td><img src = ' http://ddragon.leagueoflegends.com/cdn/10.18.1/img/item/1082.png' weight=25 height=25></td>\n      <td><img src = ' http://ddragon.leagueoflegends.com/cdn/10.18.1/img/item/1082.png' weight=25 height=25></td>\n    </tr>\n    <tr>\n      <th>24941</th>\n      <td>-0.751331</td>\n      <td>-0.830835</td>\n      <td>-0.615271</td>\n      <td>-0.450597</td>\n      <td>-0.762444</td>\n      <td>1</td>\n      <td>202</td>\n      <td><img src = ' http://ddragon.leagueoflegends.com/cdn/10.18.1/img/item/1082.png' weight=25 height=25></td>\n      <td><img src = ' http://ddragon.leagueoflegends.com/cdn/10.18.1/img/item/1082.png' weight=25 height=25></td>\n      <td><img src = ' http://ddragon.leagueoflegends.com/cdn/10.18.1/img/item/1082.png' weight=25 height=25></td>\n      <td><img src = ' http://ddragon.leagueoflegends.com/cdn/10.18.1/img/item/1082.png' weight=25 height=25></td>\n      <td><img src = ' http://ddragon.leagueoflegends.com/cdn/10.18.1/img/item/1082.png' weight=25 height=25></td>\n      <td><img src = ' http://ddragon.leagueoflegends.com/cdn/10.18.1/img/item/1082.png' weight=25 height=25></td>\n    </tr>\n    <tr>\n      <th>25103</th>\n      <td>0.412229</td>\n      <td>0.401792</td>\n      <td>0.828381</td>\n      <td>0.211298</td>\n      <td>-0.307093</td>\n      <td>1</td>\n      <td>154</td>\n      <td><img src = ' http://ddragon.leagueoflegends.com/cdn/10.18.1/img/item/1006.png' weight=25 height=25></td>\n      <td><img src = ' http://ddragon.leagueoflegends.com/cdn/10.18.1/img/item/1006.png' weight=25 height=25></td>\n      <td><img src = ' http://ddragon.leagueoflegends.com/cdn/10.18.1/img/item/1006.png' weight=25 height=25></td>\n      <td><img src = ' http://ddragon.leagueoflegends.com/cdn/10.18.1/img/item/1006.png' weight=25 height=25></td>\n      <td><img src = ' http://ddragon.leagueoflegends.com/cdn/10.18.1/img/item/1006.png' weight=25 height=25></td>\n      <td><img src = ' http://ddragon.leagueoflegends.com/cdn/10.18.1/img/item/1006.png' weight=25 height=25></td>\n    </tr>\n    <tr>\n      <th>25136</th>\n      <td>-0.843893</td>\n      <td>0.329832</td>\n      <td>-0.363538</td>\n      <td>-0.284648</td>\n      <td>1.844616</td>\n      <td>1</td>\n      <td>39</td>\n      <td><img src = ' http://ddragon.leagueoflegends.com/cdn/10.18.1/img/item/1004.png' weight=25 height=25></td>\n      <td><img src = ' http://ddragon.leagueoflegends.com/cdn/10.18.1/img/item/1004.png' weight=25 height=25></td>\n      <td><img src = ' http://ddragon.leagueoflegends.com/cdn/10.18.1/img/item/1004.png' weight=25 height=25></td>\n      <td><img src = ' http://ddragon.leagueoflegends.com/cdn/10.18.1/img/item/1004.png' weight=25 height=25></td>\n      <td><img src = ' http://ddragon.leagueoflegends.com/cdn/10.18.1/img/item/1004.png' weight=25 height=25></td>\n      <td><img src = ' http://ddragon.leagueoflegends.com/cdn/10.18.1/img/item/1004.png' weight=25 height=25></td>\n    </tr>\n    <tr>\n      <th>25140</th>\n      <td>0.302031</td>\n      <td>-0.591306</td>\n      <td>0.700441</td>\n      <td>0.183333</td>\n      <td>0.046247</td>\n      <td>1</td>\n      <td>81</td>\n      <td><img src = ' http://ddragon.leagueoflegends.com/cdn/10.18.1/img/item/1004.png' weight=25 height=25></td>\n      <td><img src = ' http://ddragon.leagueoflegends.com/cdn/10.18.1/img/item/1004.png' weight=25 height=25></td>\n      <td><img src = ' http://ddragon.leagueoflegends.com/cdn/10.18.1/img/item/1004.png' weight=25 height=25></td>\n      <td><img src = ' http://ddragon.leagueoflegends.com/cdn/10.18.1/img/item/1004.png' weight=25 height=25></td>\n      <td><img src = ' http://ddragon.leagueoflegends.com/cdn/10.18.1/img/item/1004.png' weight=25 height=25></td>\n      <td><img src = ' http://ddragon.leagueoflegends.com/cdn/10.18.1/img/item/1004.png' weight=25 height=25></td>\n    </tr>\n    <tr>\n      <th>25148</th>\n      <td>1.487707</td>\n      <td>-0.453892</td>\n      <td>-0.057309</td>\n      <td>0.641548</td>\n      <td>-0.213083</td>\n      <td>1</td>\n      <td>876</td>\n      <td><img src = ' http://ddragon.leagueoflegends.com/cdn/10.18.1/img/item/1027.png' weight=25 height=25></td>\n      <td><img src = ' http://ddragon.leagueoflegends.com/cdn/10.18.1/img/item/1027.png' weight=25 height=25></td>\n      <td><img src = ' http://ddragon.leagueoflegends.com/cdn/10.18.1/img/item/1027.png' weight=25 height=25></td>\n      <td><img src = ' http://ddragon.leagueoflegends.com/cdn/10.18.1/img/item/1027.png' weight=25 height=25></td>\n      <td><img src = ' http://ddragon.leagueoflegends.com/cdn/10.18.1/img/item/1027.png' weight=25 height=25></td>\n      <td><img src = ' http://ddragon.leagueoflegends.com/cdn/10.18.1/img/item/1027.png' weight=25 height=25></td>\n    </tr>\n    <tr>\n      <th>25155</th>\n      <td>0.436810</td>\n      <td>-0.361682</td>\n      <td>0.820702</td>\n      <td>-0.284378</td>\n      <td>-0.723270</td>\n      <td>1</td>\n      <td>89</td>\n      <td><img src = ' http://ddragon.leagueoflegends.com/cdn/10.18.1/img/item/1027.png' weight=25 height=25></td>\n      <td><img src = ' http://ddragon.leagueoflegends.com/cdn/10.18.1/img/item/1027.png' weight=25 height=25></td>\n      <td><img src = ' http://ddragon.leagueoflegends.com/cdn/10.18.1/img/item/1027.png' weight=25 height=25></td>\n      <td><img src = ' http://ddragon.leagueoflegends.com/cdn/10.18.1/img/item/1027.png' weight=25 height=25></td>\n      <td><img src = ' http://ddragon.leagueoflegends.com/cdn/10.18.1/img/item/1027.png' weight=25 height=25></td>\n      <td><img src = ' http://ddragon.leagueoflegends.com/cdn/10.18.1/img/item/1027.png' weight=25 height=25></td>\n    </tr>\n    <tr>\n      <th>25211</th>\n      <td>0.305111</td>\n      <td>-0.572801</td>\n      <td>-0.244153</td>\n      <td>0.182721</td>\n      <td>0.332357</td>\n      <td>1</td>\n      <td>62</td>\n      <td><img src = ' http://ddragon.leagueoflegends.com/cdn/10.18.1/img/item/2420.png' weight=25 height=25></td>\n      <td><img src = ' http://ddragon.leagueoflegends.com/cdn/10.18.1/img/item/2420.png' weight=25 height=25></td>\n      <td><img src = ' http://ddragon.leagueoflegends.com/cdn/10.18.1/img/item/2420.png' weight=25 height=25></td>\n      <td><img src = ' http://ddragon.leagueoflegends.com/cdn/10.18.1/img/item/2420.png' weight=25 height=25></td>\n      <td><img src = ' http://ddragon.leagueoflegends.com/cdn/10.18.1/img/item/2420.png' weight=25 height=25></td>\n      <td><img src = ' http://ddragon.leagueoflegends.com/cdn/10.18.1/img/item/2420.png' weight=25 height=25></td>\n    </tr>\n    <tr>\n      <th>25213</th>\n      <td>-0.894283</td>\n      <td>-0.075739</td>\n      <td>-0.857251</td>\n      <td>-0.642992</td>\n      <td>0.304235</td>\n      <td>1</td>\n      <td>131</td>\n      <td><img src = ' http://ddragon.leagueoflegends.com/cdn/10.18.1/img/item/1006.png' weight=25 height=25></td>\n      <td><img src = ' http://ddragon.leagueoflegends.com/cdn/10.18.1/img/item/1006.png' weight=25 height=25></td>\n      <td><img src = ' http://ddragon.leagueoflegends.com/cdn/10.18.1/img/item/1006.png' weight=25 height=25></td>\n      <td><img src = ' http://ddragon.leagueoflegends.com/cdn/10.18.1/img/item/1006.png' weight=25 height=25></td>\n      <td><img src = ' http://ddragon.leagueoflegends.com/cdn/10.18.1/img/item/1006.png' weight=25 height=25></td>\n      <td><img src = ' http://ddragon.leagueoflegends.com/cdn/10.18.1/img/item/1006.png' weight=25 height=25></td>\n    </tr>\n    <tr>\n      <th>25251</th>\n      <td>1.442965</td>\n      <td>0.848195</td>\n      <td>-0.643964</td>\n      <td>0.948408</td>\n      <td>0.319444</td>\n      <td>1</td>\n      <td>102</td>\n      <td><img src = ' http://ddragon.leagueoflegends.com/cdn/10.18.1/img/item/1027.png' weight=25 height=25></td>\n      <td><img src = ' http://ddragon.leagueoflegends.com/cdn/10.18.1/img/item/1027.png' weight=25 height=25></td>\n      <td><img src = ' http://ddragon.leagueoflegends.com/cdn/10.18.1/img/item/1027.png' weight=25 height=25></td>\n      <td><img src = ' http://ddragon.leagueoflegends.com/cdn/10.18.1/img/item/1027.png' weight=25 height=25></td>\n      <td><img src = ' http://ddragon.leagueoflegends.com/cdn/10.18.1/img/item/1027.png' weight=25 height=25></td>\n      <td><img src = ' http://ddragon.leagueoflegends.com/cdn/10.18.1/img/item/1027.png' weight=25 height=25></td>\n    </tr>\n    <tr>\n      <th>25256</th>\n      <td>-0.947593</td>\n      <td>-0.762359</td>\n      <td>-0.828458</td>\n      <td>0.121900</td>\n      <td>-0.613974</td>\n      <td>1</td>\n      <td>117</td>\n      <td><img src = ' http://ddragon.leagueoflegends.com/cdn/10.18.1/img/item/1004.png' weight=25 height=25></td>\n      <td><img src = ' http://ddragon.leagueoflegends.com/cdn/10.18.1/img/item/1004.png' weight=25 height=25></td>\n      <td><img src = ' http://ddragon.leagueoflegends.com/cdn/10.18.1/img/item/1004.png' weight=25 height=25></td>\n      <td><img src = ' http://ddragon.leagueoflegends.com/cdn/10.18.1/img/item/1004.png' weight=25 height=25></td>\n      <td><img src = ' http://ddragon.leagueoflegends.com/cdn/10.18.1/img/item/1004.png' weight=25 height=25></td>\n      <td><img src = ' http://ddragon.leagueoflegends.com/cdn/10.18.1/img/item/1004.png' weight=25 height=25></td>\n    </tr>\n  </tbody>\n</table>",
      "text/plain": [
       "<IPython.core.display.HTML object>"
      ]
     },
     "metadata": {},
     "execution_count": 258
    }
   ],
   "source": [
    "from IPython.core.display import HTML\n",
    "\n",
    "df_shuffled_image = df_shuffled_total[train_data_len:][(y_test==1) & (series_pred<0.5)][:30].drop(['summoner_id','troll_count'],axis=1)\n",
    "df_shuffled_image\n",
    "\n",
    "for item_num in tqdm(itemStr) :\n",
    "    df_shuffled_image[item_num] = df_shuffled_image[item_num].astype(str)\n",
    "    df_shuffled_image[item_num] = '<img src = \\' http://ddragon.leagueoflegends.com/cdn/10.18.1/img/item/' + df_shuffled_image[item_num] + '.png\\' weight=25 height=25>'\n",
    "\n",
    "for item_num in tqdm(itemStr) :\n",
    "    for i,item_img in enumerate(df_shuffled_image[item_num]) :\n",
    "        if item_img == \"<img src = \\' http://ddragon.leagueoflegends.com/cdn/10.18.1/img/item/0.png\\' weight=25 height=25>\" :\n",
    "            df_shuffled_image[item_num][df_shuffled_image.index[i]] = ''\n",
    "\n",
    "df_shuffled_image_html=df_shuffled_image.to_html(escape=False)\n",
    "#print(df_shuffled_image_html[:1600])\n",
    "HTML(df_shuffled_image_html)\n"
   ]
  },
  {
   "cell_type": "code",
   "execution_count": null,
   "metadata": {},
   "outputs": [],
   "source": [
    "df_shuffled_image = df_shuffled_total[train_data_len:][(y_test==0) & (series_pred>=0.5)][20:30].drop(['summoner_id','troll_count'],axis=1)\n",
    "df_shuffled_image\n",
    "\n",
    "for item_num in tqdm(itemStr) :\n",
    "    df_shuffled_image[item_num] = df_shuffled_image[item_num].astype(str)\n",
    "    df_shuffled_image[item_num] = '<img src = \\' http://ddragon.leagueoflegends.com/cdn/10.18.1/img/item/' + df_shuffled_image[item_num] + '.png\\' weight=25 height=25>'\n",
    "\n",
    "for item_num in tqdm(itemStr) :\n",
    "    for i,item_img in enumerate(df_shuffled_image[item_num]) :\n",
    "        if item_img == \"<img src = \\' http://ddragon.leagueoflegends.com/cdn/10.18.1/img/item/0.png\\' weight=25 height=25>\" :\n",
    "            df_shuffled_image[item_num][df_shuffled_image.index[i]] = ''\n",
    "\n",
    "df_shuffled_image_html=df_shuffled_image.to_html(escape=False)\n",
    "#print(df_shuffled_image_html[:1600])\n",
    "HTML(df_shuffled_image_html)\n"
   ]
  },
  {
   "cell_type": "code",
   "execution_count": null,
   "metadata": {},
   "outputs": [],
   "source": []
  },
  {
   "cell_type": "code",
   "execution_count": 66,
   "metadata": {},
   "outputs": [
    {
     "output_type": "execute_result",
     "data": {
      "text/html": "<div>\n<style scoped>\n    .dataframe tbody tr th:only-of-type {\n        vertical-align: middle;\n    }\n\n    .dataframe tbody tr th {\n        vertical-align: top;\n    }\n\n    .dataframe thead th {\n        text-align: right;\n    }\n</style>\n<table border=\"1\" class=\"dataframe\">\n  <thead>\n    <tr style=\"text-align: right;\">\n      <th></th>\n      <th>kill</th>\n      <th>assist</th>\n      <th>death</th>\n      <th>gold</th>\n      <th>level</th>\n      <th>troll</th>\n      <th>championid</th>\n      <th>summoner_id</th>\n      <th>item0</th>\n      <th>item1</th>\n      <th>item2</th>\n      <th>item3</th>\n      <th>item4</th>\n      <th>item5</th>\n    </tr>\n  </thead>\n  <tbody>\n    <tr>\n      <th>23860</th>\n      <td>-0.742625</td>\n      <td>-0.757071</td>\n      <td>-0.192173</td>\n      <td>-1.730272</td>\n      <td>0.115476</td>\n      <td>0</td>\n      <td>58</td>\n      <td>PPoTluxjv7nsMomGKCeQhs2itGd7rUyXeB1ASJ-Dqjb-Ky8</td>\n      <td>1054</td>\n      <td>3144</td>\n      <td>2031</td>\n      <td>1042</td>\n      <td>2055</td>\n      <td>0</td>\n    </tr>\n    <tr>\n      <th>23861</th>\n      <td>-1.456956</td>\n      <td>-1.025541</td>\n      <td>-1.114415</td>\n      <td>-2.818399</td>\n      <td>-3.994606</td>\n      <td>1</td>\n      <td>39</td>\n      <td>-SqIdIDjz_khyYEOMaoQLiJV9hIwQfV2MhFWbktWoJGq8rI</td>\n      <td>1004</td>\n      <td>1004</td>\n      <td>1004</td>\n      <td>1004</td>\n      <td>1004</td>\n      <td>1004</td>\n    </tr>\n    <tr>\n      <th>23863</th>\n      <td>-1.176764</td>\n      <td>-1.400523</td>\n      <td>0.787290</td>\n      <td>-0.931819</td>\n      <td>0.865851</td>\n      <td>0</td>\n      <td>84</td>\n      <td>zZAngBlzwqZ2sCfh0kTHl8hwWRgf01uld1jAeRQC1QH4BHE</td>\n      <td>3146</td>\n      <td>1052</td>\n      <td>1054</td>\n      <td>1001</td>\n      <td>0</td>\n      <td>0</td>\n    </tr>\n    <tr>\n      <th>23865</th>\n      <td>-0.315017</td>\n      <td>-1.443172</td>\n      <td>0.927456</td>\n      <td>-0.796068</td>\n      <td>1.450053</td>\n      <td>0</td>\n      <td>157</td>\n      <td>E7ad5qKBesJBePz_i648zxNKgwO7566W3vHpJIwqC7GMric</td>\n      <td>1055</td>\n      <td>2031</td>\n      <td>3086</td>\n      <td>1055</td>\n      <td>3006</td>\n      <td>0</td>\n    </tr>\n    <tr>\n      <th>23866</th>\n      <td>-0.385759</td>\n      <td>0.181926</td>\n      <td>2.306645</td>\n      <td>-1.216372</td>\n      <td>-1.221018</td>\n      <td>1</td>\n      <td>429</td>\n      <td>RU0pnr6luAZppK6zlamP-7byBiKiA4kEeWLg-cK5mQZyKXw</td>\n      <td>1004</td>\n      <td>1004</td>\n      <td>1004</td>\n      <td>1004</td>\n      <td>1004</td>\n      <td>1004</td>\n    </tr>\n    <tr>\n      <th>...</th>\n      <td>...</td>\n      <td>...</td>\n      <td>...</td>\n      <td>...</td>\n      <td>...</td>\n      <td>...</td>\n      <td>...</td>\n      <td>...</td>\n      <td>...</td>\n      <td>...</td>\n      <td>...</td>\n      <td>...</td>\n      <td>...</td>\n      <td>...</td>\n    </tr>\n    <tr>\n      <th>34067</th>\n      <td>-0.149350</td>\n      <td>-1.472972</td>\n      <td>1.101931</td>\n      <td>-1.745142</td>\n      <td>-0.521460</td>\n      <td>1</td>\n      <td>236</td>\n      <td>K_F-ikCrFEdg09hFNoKEpolg7L22iqS9Y-VcF43UTfjZ4g</td>\n      <td>1006</td>\n      <td>1006</td>\n      <td>1006</td>\n      <td>1006</td>\n      <td>1006</td>\n      <td>1006</td>\n    </tr>\n    <tr>\n      <th>34074</th>\n      <td>-1.062492</td>\n      <td>-0.838113</td>\n      <td>1.995214</td>\n      <td>-1.345389</td>\n      <td>0.107597</td>\n      <td>1</td>\n      <td>104</td>\n      <td>dLpRyFXB-SDk9steJawyS-Jf6hRv6cw3kxvmFIpO-XecsoM</td>\n      <td>1006</td>\n      <td>1006</td>\n      <td>1006</td>\n      <td>1006</td>\n      <td>1006</td>\n      <td>1006</td>\n    </tr>\n    <tr>\n      <th>34075</th>\n      <td>-0.462102</td>\n      <td>-0.722222</td>\n      <td>0.345234</td>\n      <td>-0.659270</td>\n      <td>0.309331</td>\n      <td>0</td>\n      <td>69</td>\n      <td>4Z9vKYWcO9yM5g8R8OrHcLRhiE7eEAnyFpfDR6tXupfryQ</td>\n      <td>3040</td>\n      <td>2003</td>\n      <td>3116</td>\n      <td>0</td>\n      <td>0</td>\n      <td>0</td>\n    </tr>\n    <tr>\n      <th>34077</th>\n      <td>-1.026829</td>\n      <td>-1.326531</td>\n      <td>1.460323</td>\n      <td>-1.784769</td>\n      <td>-0.550685</td>\n      <td>1</td>\n      <td>39</td>\n      <td>sVSawPUDveP1Lmf1FGIKv1bDg-Kb2MrMthTQcSxbF6Z057GG</td>\n      <td>2421</td>\n      <td>2421</td>\n      <td>2421</td>\n      <td>2421</td>\n      <td>0</td>\n      <td>0</td>\n    </tr>\n    <tr>\n      <th>34080</th>\n      <td>-0.977528</td>\n      <td>-0.955608</td>\n      <td>0.548325</td>\n      <td>-1.967884</td>\n      <td>-1.066513</td>\n      <td>1</td>\n      <td>67</td>\n      <td>0LXhFeHa7avfTDksWon7CHTALiX207pmMk0QBcb8qmKuqeI</td>\n      <td>1082</td>\n      <td>1082</td>\n      <td>1082</td>\n      <td>1082</td>\n      <td>1082</td>\n      <td>1082</td>\n    </tr>\n  </tbody>\n</table>\n<p>3037 rows × 14 columns</p>\n</div>",
      "text/plain": [
       "           kill    assist     death      gold     level  troll  championid  \\\n",
       "23860 -0.742625 -0.757071 -0.192173 -1.730272  0.115476      0          58   \n",
       "23861 -1.456956 -1.025541 -1.114415 -2.818399 -3.994606      1          39   \n",
       "23863 -1.176764 -1.400523  0.787290 -0.931819  0.865851      0          84   \n",
       "23865 -0.315017 -1.443172  0.927456 -0.796068  1.450053      0         157   \n",
       "23866 -0.385759  0.181926  2.306645 -1.216372 -1.221018      1         429   \n",
       "...         ...       ...       ...       ...       ...    ...         ...   \n",
       "34067 -0.149350 -1.472972  1.101931 -1.745142 -0.521460      1         236   \n",
       "34074 -1.062492 -0.838113  1.995214 -1.345389  0.107597      1         104   \n",
       "34075 -0.462102 -0.722222  0.345234 -0.659270  0.309331      0          69   \n",
       "34077 -1.026829 -1.326531  1.460323 -1.784769 -0.550685      1          39   \n",
       "34080 -0.977528 -0.955608  0.548325 -1.967884 -1.066513      1          67   \n",
       "\n",
       "                                            summoner_id  item0  item1  item2  \\\n",
       "23860   PPoTluxjv7nsMomGKCeQhs2itGd7rUyXeB1ASJ-Dqjb-Ky8   1054   3144   2031   \n",
       "23861   -SqIdIDjz_khyYEOMaoQLiJV9hIwQfV2MhFWbktWoJGq8rI   1004   1004   1004   \n",
       "23863   zZAngBlzwqZ2sCfh0kTHl8hwWRgf01uld1jAeRQC1QH4BHE   3146   1052   1054   \n",
       "23865   E7ad5qKBesJBePz_i648zxNKgwO7566W3vHpJIwqC7GMric   1055   2031   3086   \n",
       "23866   RU0pnr6luAZppK6zlamP-7byBiKiA4kEeWLg-cK5mQZyKXw   1004   1004   1004   \n",
       "...                                                 ...    ...    ...    ...   \n",
       "34067    K_F-ikCrFEdg09hFNoKEpolg7L22iqS9Y-VcF43UTfjZ4g   1006   1006   1006   \n",
       "34074   dLpRyFXB-SDk9steJawyS-Jf6hRv6cw3kxvmFIpO-XecsoM   1006   1006   1006   \n",
       "34075    4Z9vKYWcO9yM5g8R8OrHcLRhiE7eEAnyFpfDR6tXupfryQ   3040   2003   3116   \n",
       "34077  sVSawPUDveP1Lmf1FGIKv1bDg-Kb2MrMthTQcSxbF6Z057GG   2421   2421   2421   \n",
       "34080   0LXhFeHa7avfTDksWon7CHTALiX207pmMk0QBcb8qmKuqeI   1082   1082   1082   \n",
       "\n",
       "       item3  item4  item5  \n",
       "23860   1042   2055      0  \n",
       "23861   1004   1004   1004  \n",
       "23863   1001      0      0  \n",
       "23865   1055   3006      0  \n",
       "23866   1004   1004   1004  \n",
       "...      ...    ...    ...  \n",
       "34067   1006   1006   1006  \n",
       "34074   1006   1006   1006  \n",
       "34075      0      0      0  \n",
       "34077   2421      0      0  \n",
       "34080   1082   1082   1082  \n",
       "\n",
       "[3037 rows x 14 columns]"
      ]
     },
     "metadata": {},
     "execution_count": 66
    }
   ],
   "source": [
    "df_shuffled_total[train_data_len:][pred>=0.5]"
   ]
  },
  {
   "cell_type": "code",
   "execution_count": 67,
   "metadata": {},
   "outputs": [
    {
     "output_type": "execute_result",
     "data": {
      "text/plain": [
       "23858     True\n",
       "23859     True\n",
       "23860     True\n",
       "23861    False\n",
       "23862     True\n",
       "23863     True\n",
       "23864     True\n",
       "23865     True\n",
       "23866    False\n",
       "23867     True\n",
       "Name: troll, dtype: bool"
      ]
     },
     "metadata": {},
     "execution_count": 67
    }
   ],
   "source": [
    "[(y_test==0)][0][:10]"
   ]
  },
  {
   "cell_type": "code",
   "execution_count": 68,
   "metadata": {},
   "outputs": [],
   "source": [
    "list_pred = []\n",
    "for p in pred :\n",
    "    list_pred.append(p[0])"
   ]
  },
  {
   "cell_type": "code",
   "execution_count": 69,
   "metadata": {},
   "outputs": [],
   "source": [
    "series_pred = pd.Series(list_pred)\n",
    "y_test.index = [i for i in range(train_data_len,train_data_len+len(y_test))]\n",
    "series_pred.index = [i for i in range(train_data_len,train_data_len+len(y_test))]"
   ]
  },
  {
   "cell_type": "code",
   "execution_count": 70,
   "metadata": {},
   "outputs": [
    {
     "output_type": "execute_result",
     "data": {
      "text/plain": [
       "23858    0\n",
       "23859    0\n",
       "23860    0\n",
       "23861    1\n",
       "23862    0\n",
       "        ..\n",
       "34079    0\n",
       "34080    1\n",
       "34081    0\n",
       "34082    0\n",
       "34083    1\n",
       "Name: troll, Length: 10226, dtype: int64"
      ]
     },
     "metadata": {},
     "execution_count": 70
    }
   ],
   "source": [
    "y_test"
   ]
  },
  {
   "cell_type": "code",
   "execution_count": 71,
   "metadata": {},
   "outputs": [
    {
     "output_type": "execute_result",
     "data": {
      "text/plain": [
       "[23858    False\n",
       " 23859    False\n",
       " 23860     True\n",
       " 23861    False\n",
       " 23862    False\n",
       "          ...  \n",
       " 34079    False\n",
       " 34080    False\n",
       " 34081    False\n",
       " 34082    False\n",
       " 34083    False\n",
       " Length: 10226, dtype: bool]"
      ]
     },
     "metadata": {},
     "execution_count": 71
    }
   ],
   "source": [
    "[(y_test==0) & (series_pred>=0.5)]"
   ]
  },
  {
   "cell_type": "code",
   "execution_count": 84,
   "metadata": {},
   "outputs": [],
   "source": [
    "troll_count = []\n",
    "for summoner_id in df_shuffled_total['summoner_id'] :\n",
    "    troll_count.append(  troll_player_dict.get(summoner_id) )\n",
    "df_shuffled_total['troll_count'] = troll_count\n",
    "df_shuffled_total.fillna(value=0,inplace=True)"
   ]
  },
  {
   "cell_type": "code",
   "execution_count": 87,
   "metadata": {},
   "outputs": [
    {
     "output_type": "execute_result",
     "data": {
      "text/html": "<div>\n<style scoped>\n    .dataframe tbody tr th:only-of-type {\n        vertical-align: middle;\n    }\n\n    .dataframe tbody tr th {\n        vertical-align: top;\n    }\n\n    .dataframe thead th {\n        text-align: right;\n    }\n</style>\n<table border=\"1\" class=\"dataframe\">\n  <thead>\n    <tr style=\"text-align: right;\">\n      <th></th>\n      <th>kill</th>\n      <th>assist</th>\n      <th>death</th>\n      <th>gold</th>\n      <th>level</th>\n      <th>troll</th>\n      <th>championid</th>\n      <th>summoner_id</th>\n      <th>item0</th>\n      <th>item1</th>\n      <th>item2</th>\n      <th>item3</th>\n      <th>item4</th>\n      <th>item5</th>\n      <th>troll_count</th>\n    </tr>\n  </thead>\n  <tbody>\n    <tr>\n      <th>23958</th>\n      <td>-0.574912</td>\n      <td>0.155743</td>\n      <td>1.355545</td>\n      <td>-0.934616</td>\n      <td>-0.087305</td>\n      <td>0</td>\n      <td>142</td>\n      <td>iSmpHfRQHiWguEUm9lqiDHEkpn9dPkN8Enk6RnRX7tPnUG8</td>\n      <td>3157</td>\n      <td>2031</td>\n      <td>1056</td>\n      <td>1001</td>\n      <td>3285</td>\n      <td>0</td>\n      <td>0.0</td>\n    </tr>\n    <tr>\n      <th>23962</th>\n      <td>-0.995607</td>\n      <td>-1.687595</td>\n      <td>-1.392441</td>\n      <td>-2.026246</td>\n      <td>-4.956815</td>\n      <td>0</td>\n      <td>43</td>\n      <td>b03U7QMGPbYboVNAUJo3X8nflbSPDbuRNylF8IUvAA9Png</td>\n      <td>3850</td>\n      <td>0</td>\n      <td>0</td>\n      <td>0</td>\n      <td>0</td>\n      <td>0</td>\n      <td>0.0</td>\n    </tr>\n    <tr>\n      <th>23963</th>\n      <td>-1.400975</td>\n      <td>-1.439424</td>\n      <td>0.098945</td>\n      <td>-1.737542</td>\n      <td>1.199684</td>\n      <td>0</td>\n      <td>69</td>\n      <td>mwIlivMhixgAnZUPCKqgHGnxK-hwyx0mWpjYzjrrSD58Qw</td>\n      <td>2033</td>\n      <td>1082</td>\n      <td>3070</td>\n      <td>1056</td>\n      <td>3802</td>\n      <td>0</td>\n      <td>0.0</td>\n    </tr>\n    <tr>\n      <th>23965</th>\n      <td>0.459464</td>\n      <td>-1.785931</td>\n      <td>3.160320</td>\n      <td>-0.592500</td>\n      <td>0.312200</td>\n      <td>0</td>\n      <td>98</td>\n      <td>jmk_w2RvgyS4_Y3WZfT1O0lbFrUuoth0Vekm2LYwiaqj_i8</td>\n      <td>3748</td>\n      <td>2055</td>\n      <td>1054</td>\n      <td>1033</td>\n      <td>1001</td>\n      <td>0</td>\n      <td>0.0</td>\n    </tr>\n    <tr>\n      <th>23984</th>\n      <td>-0.943732</td>\n      <td>-0.391564</td>\n      <td>1.318360</td>\n      <td>-1.486425</td>\n      <td>0.386556</td>\n      <td>0</td>\n      <td>69</td>\n      <td>7bpktYtkj8r1Y4SufqxfHRWvMJWBosifIOehrHqaBh60rZA</td>\n      <td>1056</td>\n      <td>3070</td>\n      <td>2031</td>\n      <td>1082</td>\n      <td>0</td>\n      <td>3802</td>\n      <td>0.0</td>\n    </tr>\n    <tr>\n      <th>23985</th>\n      <td>-1.369390</td>\n      <td>-1.589085</td>\n      <td>-0.515048</td>\n      <td>-2.109652</td>\n      <td>-1.644368</td>\n      <td>0</td>\n      <td>81</td>\n      <td>QdgljfdoCWyPHYgE9WuoW16zutDbabk4Vm51dBvqqtuEzQ</td>\n      <td>2421</td>\n      <td>1001</td>\n      <td>1029</td>\n      <td>3057</td>\n      <td>3070</td>\n      <td>1055</td>\n      <td>0.0</td>\n    </tr>\n    <tr>\n      <th>23988</th>\n      <td>-0.450908</td>\n      <td>-0.490896</td>\n      <td>1.602401</td>\n      <td>-0.942134</td>\n      <td>-0.797476</td>\n      <td>0</td>\n      <td>17</td>\n      <td>gFiqZcCpBex3NNw3KRz7Uq6PJVmhVPMWAPGIGktoFtni1w</td>\n      <td>2031</td>\n      <td>1056</td>\n      <td>3136</td>\n      <td>3115</td>\n      <td>1001</td>\n      <td>0</td>\n      <td>0.0</td>\n    </tr>\n    <tr>\n      <th>23990</th>\n      <td>-0.938473</td>\n      <td>-0.515920</td>\n      <td>1.180931</td>\n      <td>-1.693229</td>\n      <td>-0.236060</td>\n      <td>0</td>\n      <td>84</td>\n      <td>W1S1niV2pG-MrBqWDKG2wzSFbkLff3qbbCDE5Pzp-5Hy5vM</td>\n      <td>3146</td>\n      <td>2055</td>\n      <td>3191</td>\n      <td>0</td>\n      <td>1054</td>\n      <td>0</td>\n      <td>0.0</td>\n    </tr>\n    <tr>\n      <th>23991</th>\n      <td>-1.324016</td>\n      <td>-1.587531</td>\n      <td>-1.791949</td>\n      <td>-2.344058</td>\n      <td>-2.970216</td>\n      <td>0</td>\n      <td>523</td>\n      <td>i3QD3-ItenHpw9q_gTeYPfyDLTGM3tbnrxjw45Zm83MV7Wc</td>\n      <td>0</td>\n      <td>0</td>\n      <td>0</td>\n      <td>0</td>\n      <td>0</td>\n      <td>0</td>\n      <td>0.0</td>\n    </tr>\n    <tr>\n      <th>23999</th>\n      <td>-1.565611</td>\n      <td>-1.723524</td>\n      <td>-0.936741</td>\n      <td>-2.806229</td>\n      <td>-2.711272</td>\n      <td>0</td>\n      <td>5</td>\n      <td>fX8MIbZE3_Mf0Y5i7bph5PGM2O9M_ZFeL1PGk6w2LGZHKqfB</td>\n      <td>1027</td>\n      <td>1004</td>\n      <td>1042</td>\n      <td>2055</td>\n      <td>1029</td>\n      <td>1006</td>\n      <td>0.0</td>\n    </tr>\n  </tbody>\n</table>\n</div>",
      "text/plain": [
       "           kill    assist     death      gold     level  troll  championid  \\\n",
       "23958 -0.574912  0.155743  1.355545 -0.934616 -0.087305      0         142   \n",
       "23962 -0.995607 -1.687595 -1.392441 -2.026246 -4.956815      0          43   \n",
       "23963 -1.400975 -1.439424  0.098945 -1.737542  1.199684      0          69   \n",
       "23965  0.459464 -1.785931  3.160320 -0.592500  0.312200      0          98   \n",
       "23984 -0.943732 -0.391564  1.318360 -1.486425  0.386556      0          69   \n",
       "23985 -1.369390 -1.589085 -0.515048 -2.109652 -1.644368      0          81   \n",
       "23988 -0.450908 -0.490896  1.602401 -0.942134 -0.797476      0          17   \n",
       "23990 -0.938473 -0.515920  1.180931 -1.693229 -0.236060      0          84   \n",
       "23991 -1.324016 -1.587531 -1.791949 -2.344058 -2.970216      0         523   \n",
       "23999 -1.565611 -1.723524 -0.936741 -2.806229 -2.711272      0           5   \n",
       "\n",
       "                                            summoner_id  item0  item1  item2  \\\n",
       "23958   iSmpHfRQHiWguEUm9lqiDHEkpn9dPkN8Enk6RnRX7tPnUG8   3157   2031   1056   \n",
       "23962    b03U7QMGPbYboVNAUJo3X8nflbSPDbuRNylF8IUvAA9Png   3850      0      0   \n",
       "23963    mwIlivMhixgAnZUPCKqgHGnxK-hwyx0mWpjYzjrrSD58Qw   2033   1082   3070   \n",
       "23965   jmk_w2RvgyS4_Y3WZfT1O0lbFrUuoth0Vekm2LYwiaqj_i8   3748   2055   1054   \n",
       "23984   7bpktYtkj8r1Y4SufqxfHRWvMJWBosifIOehrHqaBh60rZA   1056   3070   2031   \n",
       "23985    QdgljfdoCWyPHYgE9WuoW16zutDbabk4Vm51dBvqqtuEzQ   2421   1001   1029   \n",
       "23988    gFiqZcCpBex3NNw3KRz7Uq6PJVmhVPMWAPGIGktoFtni1w   2031   1056   3136   \n",
       "23990   W1S1niV2pG-MrBqWDKG2wzSFbkLff3qbbCDE5Pzp-5Hy5vM   3146   2055   3191   \n",
       "23991   i3QD3-ItenHpw9q_gTeYPfyDLTGM3tbnrxjw45Zm83MV7Wc      0      0      0   \n",
       "23999  fX8MIbZE3_Mf0Y5i7bph5PGM2O9M_ZFeL1PGk6w2LGZHKqfB   1027   1004   1042   \n",
       "\n",
       "       item3  item4  item5  troll_count  \n",
       "23958   1001   3285      0          0.0  \n",
       "23962      0      0      0          0.0  \n",
       "23963   1056   3802      0          0.0  \n",
       "23965   1033   1001      0          0.0  \n",
       "23984   1082      0   3802          0.0  \n",
       "23985   3057   3070   1055          0.0  \n",
       "23988   3115   1001      0          0.0  \n",
       "23990      0   1054      0          0.0  \n",
       "23991      0      0      0          0.0  \n",
       "23999   2055   1029   1006          0.0  "
      ]
     },
     "metadata": {},
     "execution_count": 87
    }
   ],
   "source": [
    "df_shuffled_total[train_data_len:][(y_test==0) & (series_pred>=0.5)][20:30]"
   ]
  },
  {
   "cell_type": "code",
   "execution_count": 86,
   "metadata": {},
   "outputs": [
    {
     "output_type": "execute_result",
     "data": {
      "text/html": "<div>\n<style scoped>\n    .dataframe tbody tr th:only-of-type {\n        vertical-align: middle;\n    }\n\n    .dataframe tbody tr th {\n        vertical-align: top;\n    }\n\n    .dataframe thead th {\n        text-align: right;\n    }\n</style>\n<table border=\"1\" class=\"dataframe\">\n  <thead>\n    <tr style=\"text-align: right;\">\n      <th></th>\n      <th>kill</th>\n      <th>assist</th>\n      <th>death</th>\n      <th>gold</th>\n      <th>level</th>\n      <th>troll</th>\n      <th>championid</th>\n      <th>summoner_id</th>\n      <th>item0</th>\n      <th>item1</th>\n      <th>item2</th>\n      <th>item3</th>\n      <th>item4</th>\n      <th>item5</th>\n      <th>troll_count</th>\n    </tr>\n  </thead>\n  <tbody>\n    <tr>\n      <th>23892</th>\n      <td>1.188684</td>\n      <td>3.013323</td>\n      <td>0.984122</td>\n      <td>0.225111</td>\n      <td>-1.050882</td>\n      <td>1</td>\n      <td>91</td>\n      <td>t4Qf3CRjNM42zh2hGu-tQg8o95OdijorR1wewMFsKCctmxc</td>\n      <td>1004</td>\n      <td>1004</td>\n      <td>1004</td>\n      <td>1004</td>\n      <td>1004</td>\n      <td>1004</td>\n      <td>2.0</td>\n    </tr>\n    <tr>\n      <th>24053</th>\n      <td>1.207006</td>\n      <td>-1.357017</td>\n      <td>0.320586</td>\n      <td>0.563737</td>\n      <td>0.698133</td>\n      <td>1</td>\n      <td>80</td>\n      <td>qm_RNC9Afh4tZM3zIzFEvfNp1-IHnHP4mK5bkdQgvBmJyNF6</td>\n      <td>2420</td>\n      <td>2420</td>\n      <td>2420</td>\n      <td>2420</td>\n      <td>2420</td>\n      <td>2420</td>\n      <td>1.0</td>\n    </tr>\n    <tr>\n      <th>24077</th>\n      <td>-0.323467</td>\n      <td>-0.405944</td>\n      <td>1.088179</td>\n      <td>-0.559149</td>\n      <td>-1.033992</td>\n      <td>1</td>\n      <td>517</td>\n      <td>CBJIEViuGdgdtVkU0D1SmAcFg9VCLVukrBgustmMLyW7O6o</td>\n      <td>1027</td>\n      <td>1027</td>\n      <td>1027</td>\n      <td>1027</td>\n      <td>1027</td>\n      <td>1027</td>\n      <td>1.0</td>\n    </tr>\n    <tr>\n      <th>24098</th>\n      <td>0.063402</td>\n      <td>-0.181606</td>\n      <td>-1.037052</td>\n      <td>-0.037530</td>\n      <td>-0.128689</td>\n      <td>1</td>\n      <td>80</td>\n      <td>9ieAus2Owyea64jfRTKXj_iYQp2upssoHxHisfT9Cck3G_k</td>\n      <td>2420</td>\n      <td>2420</td>\n      <td>2420</td>\n      <td>2420</td>\n      <td>2420</td>\n      <td>2420</td>\n      <td>1.0</td>\n    </tr>\n    <tr>\n      <th>24165</th>\n      <td>-0.559930</td>\n      <td>1.864688</td>\n      <td>0.200992</td>\n      <td>-0.409071</td>\n      <td>0.102344</td>\n      <td>1</td>\n      <td>11</td>\n      <td>Slt0zsHvjMcAWbGc7hTjP8A3EN5UuiMHmapJlcd78PPVs68</td>\n      <td>1006</td>\n      <td>1006</td>\n      <td>1006</td>\n      <td>1006</td>\n      <td>1006</td>\n      <td>1006</td>\n      <td>2.0</td>\n    </tr>\n    <tr>\n      <th>24213</th>\n      <td>-0.488163</td>\n      <td>0.026460</td>\n      <td>0.229208</td>\n      <td>-0.439995</td>\n      <td>-0.538801</td>\n      <td>1</td>\n      <td>80</td>\n      <td>n2y571mwIoljDolgHuDpNc37K3lSp8Wl8rBv5AddLlNmrhs</td>\n      <td>2420</td>\n      <td>2420</td>\n      <td>2420</td>\n      <td>2420</td>\n      <td>2420</td>\n      <td>2420</td>\n      <td>1.0</td>\n    </tr>\n    <tr>\n      <th>24231</th>\n      <td>-1.278346</td>\n      <td>-0.668653</td>\n      <td>-0.751727</td>\n      <td>-0.191620</td>\n      <td>0.693109</td>\n      <td>1</td>\n      <td>120</td>\n      <td>7UsQqQ2zkhfLwjVpP-FBSbFGGL7XzhxMNNzUsxd4SBNj9BY</td>\n      <td>1004</td>\n      <td>1004</td>\n      <td>1004</td>\n      <td>1004</td>\n      <td>1004</td>\n      <td>1004</td>\n      <td>1.0</td>\n    </tr>\n    <tr>\n      <th>24255</th>\n      <td>0.252187</td>\n      <td>-0.596765</td>\n      <td>-0.414108</td>\n      <td>0.403689</td>\n      <td>-0.678331</td>\n      <td>1</td>\n      <td>122</td>\n      <td>ngLydBL8mqk-dcvJU6UdlJ_VpG7t21emOzXoEfaEG_S-CX4</td>\n      <td>2421</td>\n      <td>2421</td>\n      <td>2421</td>\n      <td>2421</td>\n      <td>2421</td>\n      <td>2421</td>\n      <td>1.0</td>\n    </tr>\n    <tr>\n      <th>24311</th>\n      <td>0.217005</td>\n      <td>1.992677</td>\n      <td>0.093604</td>\n      <td>-0.024714</td>\n      <td>-1.220291</td>\n      <td>1</td>\n      <td>103</td>\n      <td>Dw-MTTbD78UU4xosHihNXSRXgt4nUqfHz-FA7KjutKp1BoM</td>\n      <td>1006</td>\n      <td>1006</td>\n      <td>1006</td>\n      <td>1006</td>\n      <td>1006</td>\n      <td>1006</td>\n      <td>29.0</td>\n    </tr>\n    <tr>\n      <th>24406</th>\n      <td>-1.112676</td>\n      <td>0.226922</td>\n      <td>1.053196</td>\n      <td>-0.245802</td>\n      <td>-0.635307</td>\n      <td>1</td>\n      <td>114</td>\n      <td>k_DKbZn4G04q2Nl01X_J1WicRq4uhLTuTHjojFVb1_RjazY</td>\n      <td>2420</td>\n      <td>2420</td>\n      <td>2420</td>\n      <td>2420</td>\n      <td>2420</td>\n      <td>2420</td>\n      <td>1.0</td>\n    </tr>\n    <tr>\n      <th>24430</th>\n      <td>-0.446660</td>\n      <td>0.596578</td>\n      <td>0.684672</td>\n      <td>-0.307448</td>\n      <td>-0.810243</td>\n      <td>1</td>\n      <td>80</td>\n      <td>dPTz3UGymPM6LYgUHb3xtVb4L82WPCQ6Ri_xUZUykoYaLIQ</td>\n      <td>1006</td>\n      <td>1006</td>\n      <td>1006</td>\n      <td>1006</td>\n      <td>1006</td>\n      <td>1006</td>\n      <td>1.0</td>\n    </tr>\n    <tr>\n      <th>24439</th>\n      <td>0.791434</td>\n      <td>-0.663008</td>\n      <td>0.281641</td>\n      <td>-0.033950</td>\n      <td>0.774567</td>\n      <td>1</td>\n      <td>429</td>\n      <td>SqFli5xdMkYUiqrWq94RzhDGJ7xy6MqDiwO7UTojSzWJJac</td>\n      <td>2421</td>\n      <td>2421</td>\n      <td>2421</td>\n      <td>2421</td>\n      <td>2421</td>\n      <td>2421</td>\n      <td>1.0</td>\n    </tr>\n    <tr>\n      <th>24483</th>\n      <td>0.552813</td>\n      <td>-0.559819</td>\n      <td>-0.217077</td>\n      <td>-0.260117</td>\n      <td>0.367752</td>\n      <td>1</td>\n      <td>53</td>\n      <td>OojyBm0uVMYOT87-NStK09d9GCdwnYZJA65_wWmfm5j7HSA</td>\n      <td>1004</td>\n      <td>1004</td>\n      <td>1004</td>\n      <td>1004</td>\n      <td>1004</td>\n      <td>1004</td>\n      <td>1.0</td>\n    </tr>\n    <tr>\n      <th>24489</th>\n      <td>-1.618894</td>\n      <td>0.123716</td>\n      <td>-0.073046</td>\n      <td>-0.545833</td>\n      <td>1.301383</td>\n      <td>1</td>\n      <td>84</td>\n      <td>Xq71YhIADPnUhbfesyzFUk5ryKzBxfPWE0DFHR_xAUW3X7M</td>\n      <td>1006</td>\n      <td>1006</td>\n      <td>1006</td>\n      <td>1006</td>\n      <td>1006</td>\n      <td>1006</td>\n      <td>1.0</td>\n    </tr>\n    <tr>\n      <th>24491</th>\n      <td>-0.033898</td>\n      <td>-0.060535</td>\n      <td>0.187891</td>\n      <td>-0.180305</td>\n      <td>0.208202</td>\n      <td>1</td>\n      <td>22</td>\n      <td>_ubOr1tYB-y5BPqMoXtlKpcChQbpWgzyzoxp4Fk2m2K7YQ</td>\n      <td>1082</td>\n      <td>1082</td>\n      <td>1082</td>\n      <td>1082</td>\n      <td>1082</td>\n      <td>1082</td>\n      <td>1.0</td>\n    </tr>\n    <tr>\n      <th>24501</th>\n      <td>0.394240</td>\n      <td>-1.168674</td>\n      <td>-0.182298</td>\n      <td>0.856296</td>\n      <td>0.199777</td>\n      <td>1</td>\n      <td>80</td>\n      <td>aw1ovWZ6qmQ-z094xsb8w6NJBteCyNUj4RChSlqpQrD75O7V</td>\n      <td>1027</td>\n      <td>1027</td>\n      <td>1027</td>\n      <td>1027</td>\n      <td>1027</td>\n      <td>1027</td>\n      <td>4.0</td>\n    </tr>\n    <tr>\n      <th>24524</th>\n      <td>-0.312679</td>\n      <td>0.152844</td>\n      <td>-0.246635</td>\n      <td>0.291024</td>\n      <td>-0.192324</td>\n      <td>1</td>\n      <td>59</td>\n      <td>g2dmZrYSbtmTahNvBgHIq_wHIkUdAxqI1FnQR4CSYcIy2LM</td>\n      <td>1028</td>\n      <td>1028</td>\n      <td>1028</td>\n      <td>1028</td>\n      <td>1028</td>\n      <td>1028</td>\n      <td>2.0</td>\n    </tr>\n    <tr>\n      <th>24555</th>\n      <td>-0.553085</td>\n      <td>-0.321757</td>\n      <td>2.355253</td>\n      <td>-0.391009</td>\n      <td>-0.186557</td>\n      <td>1</td>\n      <td>55</td>\n      <td>t-ZNNE3Ca50YJMgt-VkQxNpZPGeTlk3Jf4SWrfL4oqAN1No</td>\n      <td>1028</td>\n      <td>1028</td>\n      <td>1028</td>\n      <td>1028</td>\n      <td>1028</td>\n      <td>1028</td>\n      <td>1.0</td>\n    </tr>\n    <tr>\n      <th>24888</th>\n      <td>-1.128476</td>\n      <td>-0.630304</td>\n      <td>0.375406</td>\n      <td>-0.825301</td>\n      <td>-1.129023</td>\n      <td>1</td>\n      <td>81</td>\n      <td>YvohdfaTa57N2AH646Cf4Sm_aSzyzvEsYpcD4ujrOh42pA</td>\n      <td>2420</td>\n      <td>2420</td>\n      <td>2420</td>\n      <td>2420</td>\n      <td>2420</td>\n      <td>2420</td>\n      <td>4.0</td>\n    </tr>\n    <tr>\n      <th>24901</th>\n      <td>2.165776</td>\n      <td>-0.017038</td>\n      <td>0.503697</td>\n      <td>2.604952</td>\n      <td>2.370601</td>\n      <td>1</td>\n      <td>245</td>\n      <td>YoGliMkrgUdCVYDFsU7444OvHYEj4DFL2dnviYV-f2C0Yew</td>\n      <td>1082</td>\n      <td>1082</td>\n      <td>1082</td>\n      <td>1082</td>\n      <td>1082</td>\n      <td>1082</td>\n      <td>1.0</td>\n    </tr>\n  </tbody>\n</table>\n</div>",
      "text/plain": [
       "           kill    assist     death      gold     level  troll  championid  \\\n",
       "23892  1.188684  3.013323  0.984122  0.225111 -1.050882      1          91   \n",
       "24053  1.207006 -1.357017  0.320586  0.563737  0.698133      1          80   \n",
       "24077 -0.323467 -0.405944  1.088179 -0.559149 -1.033992      1         517   \n",
       "24098  0.063402 -0.181606 -1.037052 -0.037530 -0.128689      1          80   \n",
       "24165 -0.559930  1.864688  0.200992 -0.409071  0.102344      1          11   \n",
       "24213 -0.488163  0.026460  0.229208 -0.439995 -0.538801      1          80   \n",
       "24231 -1.278346 -0.668653 -0.751727 -0.191620  0.693109      1         120   \n",
       "24255  0.252187 -0.596765 -0.414108  0.403689 -0.678331      1         122   \n",
       "24311  0.217005  1.992677  0.093604 -0.024714 -1.220291      1         103   \n",
       "24406 -1.112676  0.226922  1.053196 -0.245802 -0.635307      1         114   \n",
       "24430 -0.446660  0.596578  0.684672 -0.307448 -0.810243      1          80   \n",
       "24439  0.791434 -0.663008  0.281641 -0.033950  0.774567      1         429   \n",
       "24483  0.552813 -0.559819 -0.217077 -0.260117  0.367752      1          53   \n",
       "24489 -1.618894  0.123716 -0.073046 -0.545833  1.301383      1          84   \n",
       "24491 -0.033898 -0.060535  0.187891 -0.180305  0.208202      1          22   \n",
       "24501  0.394240 -1.168674 -0.182298  0.856296  0.199777      1          80   \n",
       "24524 -0.312679  0.152844 -0.246635  0.291024 -0.192324      1          59   \n",
       "24555 -0.553085 -0.321757  2.355253 -0.391009 -0.186557      1          55   \n",
       "24888 -1.128476 -0.630304  0.375406 -0.825301 -1.129023      1          81   \n",
       "24901  2.165776 -0.017038  0.503697  2.604952  2.370601      1         245   \n",
       "\n",
       "                                            summoner_id  item0  item1  item2  \\\n",
       "23892   t4Qf3CRjNM42zh2hGu-tQg8o95OdijorR1wewMFsKCctmxc   1004   1004   1004   \n",
       "24053  qm_RNC9Afh4tZM3zIzFEvfNp1-IHnHP4mK5bkdQgvBmJyNF6   2420   2420   2420   \n",
       "24077   CBJIEViuGdgdtVkU0D1SmAcFg9VCLVukrBgustmMLyW7O6o   1027   1027   1027   \n",
       "24098   9ieAus2Owyea64jfRTKXj_iYQp2upssoHxHisfT9Cck3G_k   2420   2420   2420   \n",
       "24165   Slt0zsHvjMcAWbGc7hTjP8A3EN5UuiMHmapJlcd78PPVs68   1006   1006   1006   \n",
       "24213   n2y571mwIoljDolgHuDpNc37K3lSp8Wl8rBv5AddLlNmrhs   2420   2420   2420   \n",
       "24231   7UsQqQ2zkhfLwjVpP-FBSbFGGL7XzhxMNNzUsxd4SBNj9BY   1004   1004   1004   \n",
       "24255   ngLydBL8mqk-dcvJU6UdlJ_VpG7t21emOzXoEfaEG_S-CX4   2421   2421   2421   \n",
       "24311   Dw-MTTbD78UU4xosHihNXSRXgt4nUqfHz-FA7KjutKp1BoM   1006   1006   1006   \n",
       "24406   k_DKbZn4G04q2Nl01X_J1WicRq4uhLTuTHjojFVb1_RjazY   2420   2420   2420   \n",
       "24430   dPTz3UGymPM6LYgUHb3xtVb4L82WPCQ6Ri_xUZUykoYaLIQ   1006   1006   1006   \n",
       "24439   SqFli5xdMkYUiqrWq94RzhDGJ7xy6MqDiwO7UTojSzWJJac   2421   2421   2421   \n",
       "24483   OojyBm0uVMYOT87-NStK09d9GCdwnYZJA65_wWmfm5j7HSA   1004   1004   1004   \n",
       "24489   Xq71YhIADPnUhbfesyzFUk5ryKzBxfPWE0DFHR_xAUW3X7M   1006   1006   1006   \n",
       "24491    _ubOr1tYB-y5BPqMoXtlKpcChQbpWgzyzoxp4Fk2m2K7YQ   1082   1082   1082   \n",
       "24501  aw1ovWZ6qmQ-z094xsb8w6NJBteCyNUj4RChSlqpQrD75O7V   1027   1027   1027   \n",
       "24524   g2dmZrYSbtmTahNvBgHIq_wHIkUdAxqI1FnQR4CSYcIy2LM   1028   1028   1028   \n",
       "24555   t-ZNNE3Ca50YJMgt-VkQxNpZPGeTlk3Jf4SWrfL4oqAN1No   1028   1028   1028   \n",
       "24888    YvohdfaTa57N2AH646Cf4Sm_aSzyzvEsYpcD4ujrOh42pA   2420   2420   2420   \n",
       "24901   YoGliMkrgUdCVYDFsU7444OvHYEj4DFL2dnviYV-f2C0Yew   1082   1082   1082   \n",
       "\n",
       "       item3  item4  item5  troll_count  \n",
       "23892   1004   1004   1004          2.0  \n",
       "24053   2420   2420   2420          1.0  \n",
       "24077   1027   1027   1027          1.0  \n",
       "24098   2420   2420   2420          1.0  \n",
       "24165   1006   1006   1006          2.0  \n",
       "24213   2420   2420   2420          1.0  \n",
       "24231   1004   1004   1004          1.0  \n",
       "24255   2421   2421   2421          1.0  \n",
       "24311   1006   1006   1006         29.0  \n",
       "24406   2420   2420   2420          1.0  \n",
       "24430   1006   1006   1006          1.0  \n",
       "24439   2421   2421   2421          1.0  \n",
       "24483   1004   1004   1004          1.0  \n",
       "24489   1006   1006   1006          1.0  \n",
       "24491   1082   1082   1082          1.0  \n",
       "24501   1027   1027   1027          4.0  \n",
       "24524   1028   1028   1028          2.0  \n",
       "24555   1028   1028   1028          1.0  \n",
       "24888   2420   2420   2420          4.0  \n",
       "24901   1082   1082   1082          1.0  "
      ]
     },
     "metadata": {},
     "execution_count": 86
    }
   ],
   "source": [
    "df_shuffled_total[train_data_len:][(y_test==1) & (series_pred<0.5)][:20]"
   ]
  },
  {
   "cell_type": "code",
   "execution_count": null,
   "metadata": {},
   "outputs": [],
   "source": []
  }
 ]
}